{
 "cells": [
  {
   "cell_type": "markdown",
   "metadata": {},
   "source": [
    "# Исследование данных о продажах компьютерных игр\n",
    "\n",
    "Вы работаете в интернет-магазине «Стримчик», который продаёт по всему миру компьютерные игры. Из открытых источников доступны исторические данные о продажах игр, оценки пользователей и экспертов, жанры и платформы (например, Xbox или PlayStation). Вам нужно выявить определяющие успешность игры закономерности. Это позволит сделать ставку на потенциально популярный продукт и спланировать рекламные кампании.\n",
    "Перед вами данные до 2016 года. Представим, что сейчас декабрь 2016 г., и вы планируете кампанию на 2017-й. Нужно отработать принцип работы с данными. Неважно, прогнозируете ли вы продажи на 2017 год по данным 2016-го или же 2027-й — по данным 2026 года.\n",
    "В наборе данных попадается аббревиатура ESRB (Entertainment Software Rating Board) — это ассоциация, определяющая возрастной рейтинг компьютерных игр. ESRB оценивает игровой контент и присваивает ему подходящую возрастную категорию, например, «Для взрослых», «Для детей младшего возраста» или «Для подростков»."
   ]
  },
  {
   "cell_type": "markdown",
   "metadata": {
    "toc": true
   },
   "source": [
    "<h1>Содержание<span class=\"tocSkip\"></span></h1>\n",
    "<div class=\"toc\"><ul class=\"toc-item\"><li><span><a href=\"#Подключение-библиотек\" data-toc-modified-id=\"Подключение-библиотек-1\"><span class=\"toc-item-num\">1&nbsp;&nbsp;</span>Подключение библиотек</a></span></li><li><span><a href=\"#Инициализация-функций\" data-toc-modified-id=\"Инициализация-функций-2\"><span class=\"toc-item-num\">2&nbsp;&nbsp;</span>Инициализация функций</a></span><ul class=\"toc-item\"><li><span><a href=\"#Процент-пропущенных-значений-в-каждом-столбце\" data-toc-modified-id=\"Процент-пропущенных-значений-в-каждом-столбце-2.1\"><span class=\"toc-item-num\">2.1&nbsp;&nbsp;</span>Процент пропущенных значений в каждом столбце</a></span></li></ul></li><li><span><a href=\"#Изучение-общей-информации-из-файла\" data-toc-modified-id=\"Изучение-общей-информации-из-файла-3\"><span class=\"toc-item-num\">3&nbsp;&nbsp;</span>Изучение общей информации из файла</a></span><ul class=\"toc-item\"><li><span><a href=\"#Таблица-games-(информация-об-играх)\" data-toc-modified-id=\"Таблица-games-(информация-об-играх)-3.1\"><span class=\"toc-item-num\">3.1&nbsp;&nbsp;</span>Таблица games (информация об играх)</a></span></li><li><span><a href=\"#Вывод\" data-toc-modified-id=\"Вывод-3.2\"><span class=\"toc-item-num\">3.2&nbsp;&nbsp;</span>Вывод</a></span></li></ul></li><li><span><a href=\"#Расчёты-и-добавление-результатов-в-таблицу\" data-toc-modified-id=\"Расчёты-и-добавление-результатов-в-таблицу-4\"><span class=\"toc-item-num\">4&nbsp;&nbsp;</span>Расчёты и добавление результатов в таблицу</a></span><ul class=\"toc-item\"><li><span><a href=\"#Cуммарные-продажи-во-всех-регионах\" data-toc-modified-id=\"Cуммарные-продажи-во-всех-регионах-4.1\"><span class=\"toc-item-num\">4.1&nbsp;&nbsp;</span>Cуммарные продажи во всех регионах</a></span></li><li><span><a href=\"#Вывод\" data-toc-modified-id=\"Вывод-4.2\"><span class=\"toc-item-num\">4.2&nbsp;&nbsp;</span>Вывод</a></span></li></ul></li><li><span><a href=\"#Исследовательский-анализ-данных\" data-toc-modified-id=\"Исследовательский-анализ-данных-5\"><span class=\"toc-item-num\">5&nbsp;&nbsp;</span>Исследовательский анализ данных</a></span><ul class=\"toc-item\"><li><span><a href=\"#Распределение-количества-выпущенных-игр-по-годам\" data-toc-modified-id=\"Распределение-количества-выпущенных-игр-по-годам-5.1\"><span class=\"toc-item-num\">5.1&nbsp;&nbsp;</span>Распределение количества выпущенных игр по годам</a></span></li><li><span><a href=\"#Динамика-продаж-по-платформам-за-весь-период\" data-toc-modified-id=\"Динамика-продаж-по-платформам-за-весь-период-5.2\"><span class=\"toc-item-num\">5.2&nbsp;&nbsp;</span>Динамика продаж по платформам за весь период</a></span></li><li><span><a href=\"#Динамика-продаж-по-платформам-за-актуальный-период\" data-toc-modified-id=\"Динамика-продаж-по-платформам-за-актуальный-период-5.3\"><span class=\"toc-item-num\">5.3&nbsp;&nbsp;</span>Динамика продаж по платформам за актуальный период</a></span></li><li><span><a href=\"#Диаграмма-размаха-продаж-по-платформам-за-актуальный-период\" data-toc-modified-id=\"Диаграмма-размаха-продаж-по-платформам-за-актуальный-период-5.4\"><span class=\"toc-item-num\">5.4&nbsp;&nbsp;</span>Диаграмма размаха продаж по платформам за актуальный период</a></span></li><li><span><a href=\"#Влияние-отзывов-пользователей-и-критиков-внутри-одной-платформы-на-продажи\" data-toc-modified-id=\"Влияние-отзывов-пользователей-и-критиков-внутри-одной-платформы-на-продажи-5.5\"><span class=\"toc-item-num\">5.5&nbsp;&nbsp;</span>Влияние отзывов пользователей и критиков внутри одной платформы на продажи</a></span></li><li><span><a href=\"#Влияние-жанра-игры-на-продажи\" data-toc-modified-id=\"Влияние-жанра-игры-на-продажи-5.6\"><span class=\"toc-item-num\">5.6&nbsp;&nbsp;</span>Влияние жанра игры на продажи</a></span></li><li><span><a href=\"#Вывод\" data-toc-modified-id=\"Вывод-5.7\"><span class=\"toc-item-num\">5.7&nbsp;&nbsp;</span>Вывод</a></span></li></ul></li><li><span><a href=\"#Портрет-пользователя-для-каждого-региона\" data-toc-modified-id=\"Портрет-пользователя-для-каждого-региона-6\"><span class=\"toc-item-num\">6&nbsp;&nbsp;</span>Портрет пользователя для каждого региона</a></span><ul class=\"toc-item\"><li><span><a href=\"#Распределение-популярных-платформ-внутри-каждого-региона\" data-toc-modified-id=\"Распределение-популярных-платформ-внутри-каждого-региона-6.1\"><span class=\"toc-item-num\">6.1&nbsp;&nbsp;</span>Распределение популярных платформ внутри каждого региона</a></span></li><li><span><a href=\"#Распределение-популярных-жанров-внутри-каждого-региона\" data-toc-modified-id=\"Распределение-популярных-жанров-внутри-каждого-региона-6.2\"><span class=\"toc-item-num\">6.2&nbsp;&nbsp;</span>Распределение популярных жанров внутри каждого региона</a></span></li><li><span><a href=\"#Влияние-рейтинга-ESRB-на-продажи-в-каждом-регионе\" data-toc-modified-id=\"Влияние-рейтинга-ESRB-на-продажи-в-каждом-регионе-6.3\"><span class=\"toc-item-num\">6.3&nbsp;&nbsp;</span>Влияние рейтинга ESRB на продажи в каждом регионе</a></span></li><li><span><a href=\"#Вывод\" data-toc-modified-id=\"Вывод-6.4\"><span class=\"toc-item-num\">6.4&nbsp;&nbsp;</span>Вывод</a></span></li></ul></li><li><span><a href=\"#Проверка-гипотез\" data-toc-modified-id=\"Проверка-гипотез-7\"><span class=\"toc-item-num\">7&nbsp;&nbsp;</span>Проверка гипотез</a></span><ul class=\"toc-item\"><li><span><a href=\"#Средние-пользовательские-рейтинги-платформ-Xbox-One-и-PC-одинаковые\" data-toc-modified-id=\"Средние-пользовательские-рейтинги-платформ-Xbox-One-и-PC-одинаковые-7.1\"><span class=\"toc-item-num\">7.1&nbsp;&nbsp;</span>Средние пользовательские рейтинги платформ Xbox One и PC одинаковые</a></span></li><li><span><a href=\"#Средние-пользовательские-рейтинги-жанров-Action-и-Sports-разные\" data-toc-modified-id=\"Средние-пользовательские-рейтинги-жанров-Action-и-Sports-разные-7.2\"><span class=\"toc-item-num\">7.2&nbsp;&nbsp;</span>Средние пользовательские рейтинги жанров Action и Sports разные</a></span></li><li><span><a href=\"#Вывод\" data-toc-modified-id=\"Вывод-7.3\"><span class=\"toc-item-num\">7.3&nbsp;&nbsp;</span>Вывод</a></span></li></ul></li><li><span><a href=\"#Общий-вывод\" data-toc-modified-id=\"Общий-вывод-8\"><span class=\"toc-item-num\">8&nbsp;&nbsp;</span>Общий вывод</a></span></li></ul></div>"
   ]
  },
  {
   "cell_type": "markdown",
   "metadata": {},
   "source": [
    "## Подключение библиотек"
   ]
  },
  {
   "cell_type": "code",
   "execution_count": 1,
   "metadata": {},
   "outputs": [],
   "source": [
    "import numpy as np\n",
    "import pandas as pd\n",
    "\n",
    "import matplotlib.pyplot as plt\n",
    "import pylab as pl\n",
    "import seaborn as sns\n",
    "\n",
    "from scipy import stats as st"
   ]
  },
  {
   "cell_type": "markdown",
   "metadata": {},
   "source": [
    "## Инициализация функций"
   ]
  },
  {
   "cell_type": "markdown",
   "metadata": {},
   "source": [
    "### Процент пропущенных значений в каждом столбце"
   ]
  },
  {
   "cell_type": "code",
   "execution_count": 2,
   "metadata": {},
   "outputs": [],
   "source": [
    "def get_missing_values(df):\n",
    "    report = df.isna().sum().to_frame()\n",
    "    report = report.rename(columns = {0: 'missing_values'})\n",
    "    report['% of total'] = (report['missing_values'] / df.shape[0]).round(2)\n",
    "    report.sort_values(by = 'missing_values', ascending = False, inplace = True)\n",
    "    \n",
    "    return report"
   ]
  },
  {
   "cell_type": "markdown",
   "metadata": {},
   "source": [
    "## Изучение общей информации из файла"
   ]
  },
  {
   "cell_type": "code",
   "execution_count": 3,
   "metadata": {},
   "outputs": [],
   "source": [
    "bins = 100\n",
    "figsize_small = (16, 8)\n",
    "figsize_big = (16, 12)\n",
    "fontsize = 20"
   ]
  },
  {
   "cell_type": "markdown",
   "metadata": {},
   "source": [
    "### Таблица games (информация об играх)\n",
    "\n",
    "* Name — название игры;\n",
    "* Platform — платформа;\n",
    "* Year_of_Release — год выпуска;\n",
    "* Genre — жанр игры;\n",
    "* NA_sales — продажи в Северной Америке (миллионы проданных копий);\n",
    "* EU_sales — продажи в Европе (миллионы проданных копий);\n",
    "* JP_sales — продажи в Японии (миллионы проданных копий);\n",
    "* Other_sales — продажи в других странах (миллионы проданных копий);\n",
    "* Critic_Score — оценка критиков (максимум 100);\n",
    "* User_Score — оценка пользователей (максимум 10);\n",
    "* Rating — рейтинг от организации ESRB (англ. Entertainment Software Rating Board).\n",
    "\n",
    "Данные за 2016 год могут быть неполными."
   ]
  },
  {
   "cell_type": "code",
   "execution_count": 4,
   "metadata": {},
   "outputs": [
    {
     "data": {
      "text/html": [
       "<div>\n",
       "<style scoped>\n",
       "    .dataframe tbody tr th:only-of-type {\n",
       "        vertical-align: middle;\n",
       "    }\n",
       "\n",
       "    .dataframe tbody tr th {\n",
       "        vertical-align: top;\n",
       "    }\n",
       "\n",
       "    .dataframe thead th {\n",
       "        text-align: right;\n",
       "    }\n",
       "</style>\n",
       "<table border=\"1\" class=\"dataframe\">\n",
       "  <thead>\n",
       "    <tr style=\"text-align: right;\">\n",
       "      <th></th>\n",
       "      <th>name</th>\n",
       "      <th>platform</th>\n",
       "      <th>year_of_release</th>\n",
       "      <th>genre</th>\n",
       "      <th>na_sales</th>\n",
       "      <th>eu_sales</th>\n",
       "      <th>jp_sales</th>\n",
       "      <th>other_sales</th>\n",
       "      <th>critic_score</th>\n",
       "      <th>user_score</th>\n",
       "      <th>rating</th>\n",
       "    </tr>\n",
       "  </thead>\n",
       "  <tbody>\n",
       "    <tr>\n",
       "      <td>0</td>\n",
       "      <td>wii sports</td>\n",
       "      <td>wii</td>\n",
       "      <td>2006</td>\n",
       "      <td>sports</td>\n",
       "      <td>41.36</td>\n",
       "      <td>28.96</td>\n",
       "      <td>3.77</td>\n",
       "      <td>8.45</td>\n",
       "      <td>76.0</td>\n",
       "      <td>8.0</td>\n",
       "      <td>E</td>\n",
       "    </tr>\n",
       "    <tr>\n",
       "      <td>1</td>\n",
       "      <td>super mario bros</td>\n",
       "      <td>nes</td>\n",
       "      <td>1985</td>\n",
       "      <td>platform</td>\n",
       "      <td>29.08</td>\n",
       "      <td>3.58</td>\n",
       "      <td>6.81</td>\n",
       "      <td>0.77</td>\n",
       "      <td>NaN</td>\n",
       "      <td>NaN</td>\n",
       "      <td>NaN</td>\n",
       "    </tr>\n",
       "    <tr>\n",
       "      <td>2</td>\n",
       "      <td>mario kart wii</td>\n",
       "      <td>wii</td>\n",
       "      <td>2008</td>\n",
       "      <td>racing</td>\n",
       "      <td>15.68</td>\n",
       "      <td>12.76</td>\n",
       "      <td>3.79</td>\n",
       "      <td>3.29</td>\n",
       "      <td>82.0</td>\n",
       "      <td>8.3</td>\n",
       "      <td>E</td>\n",
       "    </tr>\n",
       "    <tr>\n",
       "      <td>3</td>\n",
       "      <td>wii sports resort</td>\n",
       "      <td>wii</td>\n",
       "      <td>2009</td>\n",
       "      <td>sports</td>\n",
       "      <td>15.61</td>\n",
       "      <td>10.93</td>\n",
       "      <td>3.28</td>\n",
       "      <td>2.95</td>\n",
       "      <td>80.0</td>\n",
       "      <td>8.0</td>\n",
       "      <td>E</td>\n",
       "    </tr>\n",
       "    <tr>\n",
       "      <td>4</td>\n",
       "      <td>pokemon red/pokemon blue</td>\n",
       "      <td>gb</td>\n",
       "      <td>1996</td>\n",
       "      <td>role-playing</td>\n",
       "      <td>11.27</td>\n",
       "      <td>8.89</td>\n",
       "      <td>10.22</td>\n",
       "      <td>1.00</td>\n",
       "      <td>NaN</td>\n",
       "      <td>NaN</td>\n",
       "      <td>NaN</td>\n",
       "    </tr>\n",
       "  </tbody>\n",
       "</table>\n",
       "</div>"
      ],
      "text/plain": [
       "                       name platform  year_of_release         genre  na_sales  \\\n",
       "0                wii sports      wii             2006        sports     41.36   \n",
       "1          super mario bros      nes             1985      platform     29.08   \n",
       "2            mario kart wii      wii             2008        racing     15.68   \n",
       "3         wii sports resort      wii             2009        sports     15.61   \n",
       "4  pokemon red/pokemon blue       gb             1996  role-playing     11.27   \n",
       "\n",
       "   eu_sales  jp_sales  other_sales  critic_score  user_score rating  \n",
       "0     28.96      3.77         8.45          76.0         8.0      E  \n",
       "1      3.58      6.81         0.77           NaN         NaN    NaN  \n",
       "2     12.76      3.79         3.29          82.0         8.3      E  \n",
       "3     10.93      3.28         2.95          80.0         8.0      E  \n",
       "4      8.89     10.22         1.00           NaN         NaN    NaN  "
      ]
     },
     "execution_count": 4,
     "metadata": {},
     "output_type": "execute_result"
    }
   ],
   "source": [
    "games = pd.read_csv('/datasets/games.csv')\n",
    "\n",
    "games.columns = games.columns.str.lower()\n",
    "games['year_of_release'] = games['year_of_release'].astype('Int64')\n",
    "\n",
    "str_columns = ['name', 'platform', 'genre']\n",
    "games[str_columns] = games[str_columns].apply(lambda col: col.str.lower())\n",
    "\n",
    "games['user_score'] = pd.to_numeric(games['user_score'], errors = 'coerce')\n",
    "games['user_score'] = games['user_score'].astype(float)\n",
    "\n",
    "games.dropna(subset = ['name', 'year_of_release'], how = 'all', inplace = True)\n",
    "games.reset_index(drop = True, inplace = True)\n",
    "\n",
    "games['name'] = games['name'].str.strip('.')\n",
    "games['genre'] = games['genre'].str.strip('.')\n",
    "\n",
    "games.head()"
   ]
  },
  {
   "cell_type": "code",
   "execution_count": 5,
   "metadata": {},
   "outputs": [
    {
     "name": "stdout",
     "output_type": "stream",
     "text": [
      "<class 'pandas.core.frame.DataFrame'>\n",
      "RangeIndex: 16715 entries, 0 to 16714\n",
      "Data columns (total 11 columns):\n",
      "name               16713 non-null object\n",
      "platform           16715 non-null object\n",
      "year_of_release    16446 non-null Int64\n",
      "genre              16713 non-null object\n",
      "na_sales           16715 non-null float64\n",
      "eu_sales           16715 non-null float64\n",
      "jp_sales           16715 non-null float64\n",
      "other_sales        16715 non-null float64\n",
      "critic_score       8137 non-null float64\n",
      "user_score         7590 non-null float64\n",
      "rating             9949 non-null object\n",
      "dtypes: Int64(1), float64(6), object(4)\n",
      "memory usage: 1.4+ MB\n"
     ]
    }
   ],
   "source": [
    "games.info()"
   ]
  },
  {
   "cell_type": "code",
   "execution_count": 6,
   "metadata": {},
   "outputs": [
    {
     "data": {
      "text/html": [
       "<div>\n",
       "<style scoped>\n",
       "    .dataframe tbody tr th:only-of-type {\n",
       "        vertical-align: middle;\n",
       "    }\n",
       "\n",
       "    .dataframe tbody tr th {\n",
       "        vertical-align: top;\n",
       "    }\n",
       "\n",
       "    .dataframe thead th {\n",
       "        text-align: right;\n",
       "    }\n",
       "</style>\n",
       "<table border=\"1\" class=\"dataframe\">\n",
       "  <thead>\n",
       "    <tr style=\"text-align: right;\">\n",
       "      <th></th>\n",
       "      <th>missing_values</th>\n",
       "      <th>% of total</th>\n",
       "    </tr>\n",
       "  </thead>\n",
       "  <tbody>\n",
       "    <tr>\n",
       "      <td>user_score</td>\n",
       "      <td>9125</td>\n",
       "      <td>0.55</td>\n",
       "    </tr>\n",
       "    <tr>\n",
       "      <td>critic_score</td>\n",
       "      <td>8578</td>\n",
       "      <td>0.51</td>\n",
       "    </tr>\n",
       "    <tr>\n",
       "      <td>rating</td>\n",
       "      <td>6766</td>\n",
       "      <td>0.40</td>\n",
       "    </tr>\n",
       "    <tr>\n",
       "      <td>year_of_release</td>\n",
       "      <td>269</td>\n",
       "      <td>0.02</td>\n",
       "    </tr>\n",
       "    <tr>\n",
       "      <td>name</td>\n",
       "      <td>2</td>\n",
       "      <td>0.00</td>\n",
       "    </tr>\n",
       "    <tr>\n",
       "      <td>genre</td>\n",
       "      <td>2</td>\n",
       "      <td>0.00</td>\n",
       "    </tr>\n",
       "    <tr>\n",
       "      <td>platform</td>\n",
       "      <td>0</td>\n",
       "      <td>0.00</td>\n",
       "    </tr>\n",
       "    <tr>\n",
       "      <td>na_sales</td>\n",
       "      <td>0</td>\n",
       "      <td>0.00</td>\n",
       "    </tr>\n",
       "    <tr>\n",
       "      <td>eu_sales</td>\n",
       "      <td>0</td>\n",
       "      <td>0.00</td>\n",
       "    </tr>\n",
       "    <tr>\n",
       "      <td>jp_sales</td>\n",
       "      <td>0</td>\n",
       "      <td>0.00</td>\n",
       "    </tr>\n",
       "    <tr>\n",
       "      <td>other_sales</td>\n",
       "      <td>0</td>\n",
       "      <td>0.00</td>\n",
       "    </tr>\n",
       "  </tbody>\n",
       "</table>\n",
       "</div>"
      ],
      "text/plain": [
       "                 missing_values  % of total\n",
       "user_score                 9125        0.55\n",
       "critic_score               8578        0.51\n",
       "rating                     6766        0.40\n",
       "year_of_release             269        0.02\n",
       "name                          2        0.00\n",
       "genre                         2        0.00\n",
       "platform                      0        0.00\n",
       "na_sales                      0        0.00\n",
       "eu_sales                      0        0.00\n",
       "jp_sales                      0        0.00\n",
       "other_sales                   0        0.00"
      ]
     },
     "execution_count": 6,
     "metadata": {},
     "output_type": "execute_result"
    }
   ],
   "source": [
    "get_missing_values(games)"
   ]
  },
  {
   "cell_type": "code",
   "execution_count": 7,
   "metadata": {},
   "outputs": [
    {
     "data": {
      "text/html": [
       "<div>\n",
       "<style scoped>\n",
       "    .dataframe tbody tr th:only-of-type {\n",
       "        vertical-align: middle;\n",
       "    }\n",
       "\n",
       "    .dataframe tbody tr th {\n",
       "        vertical-align: top;\n",
       "    }\n",
       "\n",
       "    .dataframe thead th {\n",
       "        text-align: right;\n",
       "    }\n",
       "</style>\n",
       "<table border=\"1\" class=\"dataframe\">\n",
       "  <thead>\n",
       "    <tr style=\"text-align: right;\">\n",
       "      <th></th>\n",
       "      <th>year_of_release</th>\n",
       "      <th>na_sales</th>\n",
       "      <th>eu_sales</th>\n",
       "      <th>jp_sales</th>\n",
       "      <th>other_sales</th>\n",
       "      <th>critic_score</th>\n",
       "      <th>user_score</th>\n",
       "    </tr>\n",
       "  </thead>\n",
       "  <tbody>\n",
       "    <tr>\n",
       "      <td>count</td>\n",
       "      <td>16446.00</td>\n",
       "      <td>16715.00</td>\n",
       "      <td>16715.00</td>\n",
       "      <td>16715.00</td>\n",
       "      <td>16715.00</td>\n",
       "      <td>8137.00</td>\n",
       "      <td>7590.00</td>\n",
       "    </tr>\n",
       "    <tr>\n",
       "      <td>mean</td>\n",
       "      <td>2006.48</td>\n",
       "      <td>0.26</td>\n",
       "      <td>0.15</td>\n",
       "      <td>0.08</td>\n",
       "      <td>0.05</td>\n",
       "      <td>68.97</td>\n",
       "      <td>7.13</td>\n",
       "    </tr>\n",
       "    <tr>\n",
       "      <td>std</td>\n",
       "      <td>5.88</td>\n",
       "      <td>0.81</td>\n",
       "      <td>0.50</td>\n",
       "      <td>0.31</td>\n",
       "      <td>0.19</td>\n",
       "      <td>13.94</td>\n",
       "      <td>1.50</td>\n",
       "    </tr>\n",
       "    <tr>\n",
       "      <td>min</td>\n",
       "      <td>1980.00</td>\n",
       "      <td>0.00</td>\n",
       "      <td>0.00</td>\n",
       "      <td>0.00</td>\n",
       "      <td>0.00</td>\n",
       "      <td>13.00</td>\n",
       "      <td>0.00</td>\n",
       "    </tr>\n",
       "    <tr>\n",
       "      <td>25%</td>\n",
       "      <td>2003.00</td>\n",
       "      <td>0.00</td>\n",
       "      <td>0.00</td>\n",
       "      <td>0.00</td>\n",
       "      <td>0.00</td>\n",
       "      <td>60.00</td>\n",
       "      <td>6.40</td>\n",
       "    </tr>\n",
       "    <tr>\n",
       "      <td>50%</td>\n",
       "      <td>2007.00</td>\n",
       "      <td>0.08</td>\n",
       "      <td>0.02</td>\n",
       "      <td>0.00</td>\n",
       "      <td>0.01</td>\n",
       "      <td>71.00</td>\n",
       "      <td>7.50</td>\n",
       "    </tr>\n",
       "    <tr>\n",
       "      <td>75%</td>\n",
       "      <td>2010.00</td>\n",
       "      <td>0.24</td>\n",
       "      <td>0.11</td>\n",
       "      <td>0.04</td>\n",
       "      <td>0.03</td>\n",
       "      <td>79.00</td>\n",
       "      <td>8.20</td>\n",
       "    </tr>\n",
       "    <tr>\n",
       "      <td>max</td>\n",
       "      <td>2016.00</td>\n",
       "      <td>41.36</td>\n",
       "      <td>28.96</td>\n",
       "      <td>10.22</td>\n",
       "      <td>10.57</td>\n",
       "      <td>98.00</td>\n",
       "      <td>9.70</td>\n",
       "    </tr>\n",
       "  </tbody>\n",
       "</table>\n",
       "</div>"
      ],
      "text/plain": [
       "       year_of_release  na_sales  eu_sales  jp_sales  other_sales  \\\n",
       "count         16446.00  16715.00  16715.00  16715.00     16715.00   \n",
       "mean           2006.48      0.26      0.15      0.08         0.05   \n",
       "std               5.88      0.81      0.50      0.31         0.19   \n",
       "min            1980.00      0.00      0.00      0.00         0.00   \n",
       "25%            2003.00      0.00      0.00      0.00         0.00   \n",
       "50%            2007.00      0.08      0.02      0.00         0.01   \n",
       "75%            2010.00      0.24      0.11      0.04         0.03   \n",
       "max            2016.00     41.36     28.96     10.22        10.57   \n",
       "\n",
       "       critic_score  user_score  \n",
       "count       8137.00     7590.00  \n",
       "mean          68.97        7.13  \n",
       "std           13.94        1.50  \n",
       "min           13.00        0.00  \n",
       "25%           60.00        6.40  \n",
       "50%           71.00        7.50  \n",
       "75%           79.00        8.20  \n",
       "max           98.00        9.70  "
      ]
     },
     "execution_count": 7,
     "metadata": {},
     "output_type": "execute_result"
    }
   ],
   "source": [
    "games.select_dtypes(exclude = [object]).describe().round(2)"
   ]
  },
  {
   "cell_type": "code",
   "execution_count": 8,
   "metadata": {},
   "outputs": [
    {
     "data": {
      "image/png": "[encoded data removed]",
      "text/plain": [
       "<Figure size 1152x864 with 9 Axes>"
      ]
     },
     "metadata": {
      "needs_background": "light"
     },
     "output_type": "display_data"
    }
   ],
   "source": [
    "games.select_dtypes(exclude = [object]).hist(figsize = figsize_big, bins = bins);"
   ]
  },
  {
   "cell_type": "markdown",
   "metadata": {},
   "source": [
    "### Вывод"
   ]
  },
  {
   "cell_type": "markdown",
   "metadata": {},
   "source": [
    "Интересные наблюдения:\n",
    "* Большая часть игр выходила в период с 2005 по 2011 год;\n",
    "* Пользователи чаще критиков ставят играм высокие оценки;\n",
    "* Примерно для половины игр нет оценок критиков и пользователей;\n",
    "* Примерно 30% игр потерпели неудачу.\n",
    "\n",
    "Для дальнейшего анализа была выполнена следующая преобработка данных:\n",
    "* Все названия столбцов были переведены в нижний регистр;\n",
    "* Строки с пропущенными значениями в столбце `year_of_release` были удалены;\n",
    "* Все значения в столбцах `name`, `platform`, `genre` были переведены в нижний регистр;\n",
    "* Значение `tbd` в столбце `user_score` было заменено на None."
   ]
  },
  {
   "cell_type": "markdown",
   "metadata": {},
   "source": [
    "## Расчёты и добавление результатов в таблицу"
   ]
  },
  {
   "cell_type": "markdown",
   "metadata": {},
   "source": [
    "### Cуммарные продажи во всех регионах"
   ]
  },
  {
   "cell_type": "code",
   "execution_count": 9,
   "metadata": {},
   "outputs": [
    {
     "data": {
      "text/html": [
       "<div>\n",
       "<style scoped>\n",
       "    .dataframe tbody tr th:only-of-type {\n",
       "        vertical-align: middle;\n",
       "    }\n",
       "\n",
       "    .dataframe tbody tr th {\n",
       "        vertical-align: top;\n",
       "    }\n",
       "\n",
       "    .dataframe thead th {\n",
       "        text-align: right;\n",
       "    }\n",
       "</style>\n",
       "<table border=\"1\" class=\"dataframe\">\n",
       "  <thead>\n",
       "    <tr style=\"text-align: right;\">\n",
       "      <th></th>\n",
       "      <th>name</th>\n",
       "      <th>platform</th>\n",
       "      <th>year_of_release</th>\n",
       "      <th>genre</th>\n",
       "      <th>na_sales</th>\n",
       "      <th>eu_sales</th>\n",
       "      <th>jp_sales</th>\n",
       "      <th>other_sales</th>\n",
       "      <th>critic_score</th>\n",
       "      <th>user_score</th>\n",
       "      <th>rating</th>\n",
       "      <th>total_sales</th>\n",
       "    </tr>\n",
       "  </thead>\n",
       "  <tbody>\n",
       "    <tr>\n",
       "      <td>0</td>\n",
       "      <td>wii sports</td>\n",
       "      <td>wii</td>\n",
       "      <td>2006</td>\n",
       "      <td>sports</td>\n",
       "      <td>41.36</td>\n",
       "      <td>28.96</td>\n",
       "      <td>3.77</td>\n",
       "      <td>8.45</td>\n",
       "      <td>76.0</td>\n",
       "      <td>8.0</td>\n",
       "      <td>E</td>\n",
       "      <td>82.54</td>\n",
       "    </tr>\n",
       "    <tr>\n",
       "      <td>1</td>\n",
       "      <td>super mario bros</td>\n",
       "      <td>nes</td>\n",
       "      <td>1985</td>\n",
       "      <td>platform</td>\n",
       "      <td>29.08</td>\n",
       "      <td>3.58</td>\n",
       "      <td>6.81</td>\n",
       "      <td>0.77</td>\n",
       "      <td>NaN</td>\n",
       "      <td>NaN</td>\n",
       "      <td>NaN</td>\n",
       "      <td>40.24</td>\n",
       "    </tr>\n",
       "    <tr>\n",
       "      <td>2</td>\n",
       "      <td>mario kart wii</td>\n",
       "      <td>wii</td>\n",
       "      <td>2008</td>\n",
       "      <td>racing</td>\n",
       "      <td>15.68</td>\n",
       "      <td>12.76</td>\n",
       "      <td>3.79</td>\n",
       "      <td>3.29</td>\n",
       "      <td>82.0</td>\n",
       "      <td>8.3</td>\n",
       "      <td>E</td>\n",
       "      <td>35.52</td>\n",
       "    </tr>\n",
       "    <tr>\n",
       "      <td>3</td>\n",
       "      <td>wii sports resort</td>\n",
       "      <td>wii</td>\n",
       "      <td>2009</td>\n",
       "      <td>sports</td>\n",
       "      <td>15.61</td>\n",
       "      <td>10.93</td>\n",
       "      <td>3.28</td>\n",
       "      <td>2.95</td>\n",
       "      <td>80.0</td>\n",
       "      <td>8.0</td>\n",
       "      <td>E</td>\n",
       "      <td>32.77</td>\n",
       "    </tr>\n",
       "    <tr>\n",
       "      <td>4</td>\n",
       "      <td>pokemon red/pokemon blue</td>\n",
       "      <td>gb</td>\n",
       "      <td>1996</td>\n",
       "      <td>role-playing</td>\n",
       "      <td>11.27</td>\n",
       "      <td>8.89</td>\n",
       "      <td>10.22</td>\n",
       "      <td>1.00</td>\n",
       "      <td>NaN</td>\n",
       "      <td>NaN</td>\n",
       "      <td>NaN</td>\n",
       "      <td>31.38</td>\n",
       "    </tr>\n",
       "  </tbody>\n",
       "</table>\n",
       "</div>"
      ],
      "text/plain": [
       "                       name platform  year_of_release         genre  na_sales  \\\n",
       "0                wii sports      wii             2006        sports     41.36   \n",
       "1          super mario bros      nes             1985      platform     29.08   \n",
       "2            mario kart wii      wii             2008        racing     15.68   \n",
       "3         wii sports resort      wii             2009        sports     15.61   \n",
       "4  pokemon red/pokemon blue       gb             1996  role-playing     11.27   \n",
       "\n",
       "   eu_sales  jp_sales  other_sales  critic_score  user_score rating  \\\n",
       "0     28.96      3.77         8.45          76.0         8.0      E   \n",
       "1      3.58      6.81         0.77           NaN         NaN    NaN   \n",
       "2     12.76      3.79         3.29          82.0         8.3      E   \n",
       "3     10.93      3.28         2.95          80.0         8.0      E   \n",
       "4      8.89     10.22         1.00           NaN         NaN    NaN   \n",
       "\n",
       "   total_sales  \n",
       "0        82.54  \n",
       "1        40.24  \n",
       "2        35.52  \n",
       "3        32.77  \n",
       "4        31.38  "
      ]
     },
     "execution_count": 9,
     "metadata": {},
     "output_type": "execute_result"
    }
   ],
   "source": [
    "games['total_sales'] = games['na_sales'] + games['eu_sales'] + \\\n",
    "                       games['jp_sales'] + games['other_sales']\n",
    "\n",
    "games.head()"
   ]
  },
  {
   "cell_type": "code",
   "execution_count": 10,
   "metadata": {},
   "outputs": [
    {
     "data": {
      "text/html": [
       "<div>\n",
       "<style scoped>\n",
       "    .dataframe tbody tr th:only-of-type {\n",
       "        vertical-align: middle;\n",
       "    }\n",
       "\n",
       "    .dataframe tbody tr th {\n",
       "        vertical-align: top;\n",
       "    }\n",
       "\n",
       "    .dataframe thead th {\n",
       "        text-align: right;\n",
       "    }\n",
       "</style>\n",
       "<table border=\"1\" class=\"dataframe\">\n",
       "  <thead>\n",
       "    <tr style=\"text-align: right;\">\n",
       "      <th></th>\n",
       "      <th>total_sales</th>\n",
       "    </tr>\n",
       "  </thead>\n",
       "  <tbody>\n",
       "    <tr>\n",
       "      <td>count</td>\n",
       "      <td>16715.00</td>\n",
       "    </tr>\n",
       "    <tr>\n",
       "      <td>mean</td>\n",
       "      <td>0.53</td>\n",
       "    </tr>\n",
       "    <tr>\n",
       "      <td>std</td>\n",
       "      <td>1.55</td>\n",
       "    </tr>\n",
       "    <tr>\n",
       "      <td>min</td>\n",
       "      <td>0.00</td>\n",
       "    </tr>\n",
       "    <tr>\n",
       "      <td>25%</td>\n",
       "      <td>0.06</td>\n",
       "    </tr>\n",
       "    <tr>\n",
       "      <td>50%</td>\n",
       "      <td>0.17</td>\n",
       "    </tr>\n",
       "    <tr>\n",
       "      <td>75%</td>\n",
       "      <td>0.47</td>\n",
       "    </tr>\n",
       "    <tr>\n",
       "      <td>max</td>\n",
       "      <td>82.54</td>\n",
       "    </tr>\n",
       "  </tbody>\n",
       "</table>\n",
       "</div>"
      ],
      "text/plain": [
       "       total_sales\n",
       "count     16715.00\n",
       "mean          0.53\n",
       "std           1.55\n",
       "min           0.00\n",
       "25%           0.06\n",
       "50%           0.17\n",
       "75%           0.47\n",
       "max          82.54"
      ]
     },
     "execution_count": 10,
     "metadata": {},
     "output_type": "execute_result"
    }
   ],
   "source": [
    "games[['total_sales']].describe().round(2)"
   ]
  },
  {
   "cell_type": "code",
   "execution_count": 11,
   "metadata": {},
   "outputs": [
    {
     "data": {
      "text/html": [
       "<div>\n",
       "<style scoped>\n",
       "    .dataframe tbody tr th:only-of-type {\n",
       "        vertical-align: middle;\n",
       "    }\n",
       "\n",
       "    .dataframe tbody tr th {\n",
       "        vertical-align: top;\n",
       "    }\n",
       "\n",
       "    .dataframe thead th {\n",
       "        text-align: right;\n",
       "    }\n",
       "</style>\n",
       "<table border=\"1\" class=\"dataframe\">\n",
       "  <thead>\n",
       "    <tr style=\"text-align: right;\">\n",
       "      <th></th>\n",
       "      <th>name</th>\n",
       "      <th>platform</th>\n",
       "      <th>year_of_release</th>\n",
       "      <th>genre</th>\n",
       "      <th>na_sales</th>\n",
       "      <th>eu_sales</th>\n",
       "      <th>jp_sales</th>\n",
       "      <th>other_sales</th>\n",
       "      <th>critic_score</th>\n",
       "      <th>user_score</th>\n",
       "      <th>rating</th>\n",
       "      <th>total_sales</th>\n",
       "    </tr>\n",
       "  </thead>\n",
       "  <tbody>\n",
       "    <tr>\n",
       "      <td>0</td>\n",
       "      <td>wii sports</td>\n",
       "      <td>wii</td>\n",
       "      <td>2006</td>\n",
       "      <td>sports</td>\n",
       "      <td>41.36</td>\n",
       "      <td>28.96</td>\n",
       "      <td>3.77</td>\n",
       "      <td>8.45</td>\n",
       "      <td>76.0</td>\n",
       "      <td>8.0</td>\n",
       "      <td>E</td>\n",
       "      <td>82.54</td>\n",
       "    </tr>\n",
       "  </tbody>\n",
       "</table>\n",
       "</div>"
      ],
      "text/plain": [
       "         name platform  year_of_release   genre  na_sales  eu_sales  jp_sales  \\\n",
       "0  wii sports      wii             2006  sports     41.36     28.96      3.77   \n",
       "\n",
       "   other_sales  critic_score  user_score rating  total_sales  \n",
       "0         8.45          76.0         8.0      E        82.54  "
      ]
     },
     "execution_count": 11,
     "metadata": {},
     "output_type": "execute_result"
    }
   ],
   "source": [
    "games[games['total_sales'] == games['total_sales'].max()]"
   ]
  },
  {
   "cell_type": "code",
   "execution_count": 12,
   "metadata": {},
   "outputs": [
    {
     "data": {
      "text/plain": [
       "1.21"
      ]
     },
     "execution_count": 12,
     "metadata": {},
     "output_type": "execute_result"
    }
   ],
   "source": [
    "games['total_sales'].quantile(.9).round(2)"
   ]
  },
  {
   "cell_type": "markdown",
   "metadata": {},
   "source": [
    "### Вывод"
   ]
  },
  {
   "cell_type": "markdown",
   "metadata": {},
   "source": [
    "* Самая популярная игра - wii sports на плтформе wii;\n",
    "* Для каждой игры в среднем продается 0.53 миллиона копий;\n",
    "* Игры, для которых было продано более 1.2 миллиона копий, можно считать популярными."
   ]
  },
  {
   "cell_type": "markdown",
   "metadata": {},
   "source": [
    "## Исследовательский анализ данных"
   ]
  },
  {
   "cell_type": "markdown",
   "metadata": {},
   "source": [
    "### Распределение количества выпущенных игр по годам"
   ]
  },
  {
   "cell_type": "code",
   "execution_count": 13,
   "metadata": {},
   "outputs": [
    {
     "data": {
      "image/png": "[encoded data removed]",
      "text/plain": [
       "<Figure size 1152x576 with 1 Axes>"
      ]
     },
     "metadata": {
      "needs_background": "light"
     },
     "output_type": "display_data"
    }
   ],
   "source": [
    "games['year_of_release'].hist(\n",
    "    figsize = figsize_small, \n",
    "    bins = len(games['year_of_release'].unique())\n",
    ")\n",
    "\n",
    "pl.suptitle('Распределение количества выпущенных игр по годам', fontsize = fontsize)\n",
    "pl.xlabel('Год выпуска', fontsize = fontsize)\n",
    "pl.ylabel('Количество игр', fontsize = fontsize);"
   ]
  },
  {
   "cell_type": "markdown",
   "metadata": {},
   "source": [
    "### Динамика продаж по платформам за весь период"
   ]
  },
  {
   "cell_type": "code",
   "execution_count": 14,
   "metadata": {},
   "outputs": [
    {
     "data": {
      "text/html": [
       "<div>\n",
       "<style scoped>\n",
       "    .dataframe tbody tr th:only-of-type {\n",
       "        vertical-align: middle;\n",
       "    }\n",
       "\n",
       "    .dataframe tbody tr th {\n",
       "        vertical-align: top;\n",
       "    }\n",
       "\n",
       "    .dataframe thead th {\n",
       "        text-align: right;\n",
       "    }\n",
       "</style>\n",
       "<table border=\"1\" class=\"dataframe\">\n",
       "  <thead>\n",
       "    <tr style=\"text-align: right;\">\n",
       "      <th></th>\n",
       "      <th>platform</th>\n",
       "      <th>total_sales</th>\n",
       "    </tr>\n",
       "  </thead>\n",
       "  <tbody>\n",
       "    <tr>\n",
       "      <td>0</td>\n",
       "      <td>ps2</td>\n",
       "      <td>1255.77</td>\n",
       "    </tr>\n",
       "    <tr>\n",
       "      <td>1</td>\n",
       "      <td>x360</td>\n",
       "      <td>971.42</td>\n",
       "    </tr>\n",
       "    <tr>\n",
       "      <td>2</td>\n",
       "      <td>ps3</td>\n",
       "      <td>939.65</td>\n",
       "    </tr>\n",
       "    <tr>\n",
       "      <td>3</td>\n",
       "      <td>wii</td>\n",
       "      <td>907.51</td>\n",
       "    </tr>\n",
       "    <tr>\n",
       "      <td>4</td>\n",
       "      <td>ds</td>\n",
       "      <td>806.12</td>\n",
       "    </tr>\n",
       "  </tbody>\n",
       "</table>\n",
       "</div>"
      ],
      "text/plain": [
       "  platform  total_sales\n",
       "0      ps2      1255.77\n",
       "1     x360       971.42\n",
       "2      ps3       939.65\n",
       "3      wii       907.51\n",
       "4       ds       806.12"
      ]
     },
     "execution_count": 14,
     "metadata": {},
     "output_type": "execute_result"
    }
   ],
   "source": [
    "platform_top = games.groupby('platform')['total_sales'].sum()\\\n",
    "               .to_frame().sort_values(by = 'total_sales', ascending = False)\\\n",
    "               .reset_index().head(5)\n",
    "\n",
    "platform_top"
   ]
  },
  {
   "cell_type": "code",
   "execution_count": 15,
   "metadata": {},
   "outputs": [
    {
     "data": {
      "image/png": "[encoded data removed]",
      "text/plain": [
       "<Figure size 1152x576 with 1 Axes>"
      ]
     },
     "metadata": {
      "needs_background": "light"
     },
     "output_type": "display_data"
    }
   ],
   "source": [
    "fig, ax = plt.subplots(figsize = figsize_small)\n",
    "\n",
    "for platform in platform_top['platform'][:3]:\n",
    "    _ = games[games['platform'] == platform]\\\n",
    "        .groupby('year_of_release')['total_sales'].sum()\n",
    "    \n",
    "    plt.plot(_.index, _, label = platform, linestyle = '--', marker = 'o')\n",
    "\n",
    "    \n",
    "plt.legend(title = \"Платформа\", fontsize = fontsize, title_fontsize = fontsize)\n",
    "plt.suptitle('Динамика продаж по платформам за весь период', fontsize = fontsize)\n",
    "plt.xlabel('Год выпуска', fontsize = fontsize)\n",
    "plt.ylabel('Количество копий', fontsize = fontsize);"
   ]
  },
  {
   "cell_type": "markdown",
   "metadata": {},
   "source": [
    "### Динамика продаж по платформам за актуальный период"
   ]
  },
  {
   "cell_type": "code",
   "execution_count": 16,
   "metadata": {},
   "outputs": [
    {
     "data": {
      "text/html": [
       "<div>\n",
       "<style scoped>\n",
       "    .dataframe tbody tr th:only-of-type {\n",
       "        vertical-align: middle;\n",
       "    }\n",
       "\n",
       "    .dataframe tbody tr th {\n",
       "        vertical-align: top;\n",
       "    }\n",
       "\n",
       "    .dataframe thead th {\n",
       "        text-align: right;\n",
       "    }\n",
       "</style>\n",
       "<table border=\"1\" class=\"dataframe\">\n",
       "  <thead>\n",
       "    <tr style=\"text-align: right;\">\n",
       "      <th></th>\n",
       "      <th>platform</th>\n",
       "      <th>total_sales</th>\n",
       "    </tr>\n",
       "  </thead>\n",
       "  <tbody>\n",
       "    <tr>\n",
       "      <td>0</td>\n",
       "      <td>ps4</td>\n",
       "      <td>314.14</td>\n",
       "    </tr>\n",
       "    <tr>\n",
       "      <td>1</td>\n",
       "      <td>ps3</td>\n",
       "      <td>288.79</td>\n",
       "    </tr>\n",
       "    <tr>\n",
       "      <td>2</td>\n",
       "      <td>x360</td>\n",
       "      <td>236.54</td>\n",
       "    </tr>\n",
       "    <tr>\n",
       "      <td>3</td>\n",
       "      <td>3ds</td>\n",
       "      <td>194.61</td>\n",
       "    </tr>\n",
       "    <tr>\n",
       "      <td>4</td>\n",
       "      <td>xone</td>\n",
       "      <td>159.32</td>\n",
       "    </tr>\n",
       "  </tbody>\n",
       "</table>\n",
       "</div>"
      ],
      "text/plain": [
       "  platform  total_sales\n",
       "0      ps4       314.14\n",
       "1      ps3       288.79\n",
       "2     x360       236.54\n",
       "3      3ds       194.61\n",
       "4     xone       159.32"
      ]
     },
     "execution_count": 16,
     "metadata": {},
     "output_type": "execute_result"
    }
   ],
   "source": [
    "games = games[games['year_of_release'] > 2017 - 6].reset_index(drop = True)\n",
    "\n",
    "platform_actual = games.groupby('platform')['total_sales'].sum()\\\n",
    "                  .to_frame().sort_values(by = 'total_sales', ascending = False)\\\n",
    "                  .reset_index().head(5)\n",
    "\n",
    "platform_actual"
   ]
  },
  {
   "cell_type": "code",
   "execution_count": 17,
   "metadata": {},
   "outputs": [
    {
     "data": {
      "image/png": "[encoded data removed]",
      "text/plain": [
       "<Figure size 1152x576 with 1 Axes>"
      ]
     },
     "metadata": {
      "needs_background": "light"
     },
     "output_type": "display_data"
    }
   ],
   "source": [
    "fig, ax = plt.subplots(figsize = figsize_small)\n",
    "\n",
    "for platform in platform_actual['platform'][:3]:\n",
    "    _ = games[games['platform'] == platform]\\\n",
    "        .groupby('year_of_release')['total_sales'].sum()\n",
    "    \n",
    "    plt.plot(_.index, _, label = platform, linestyle = '--', marker = 'o')\n",
    "\n",
    "    \n",
    "plt.legend(title = \"Платформа\", fontsize = fontsize, title_fontsize = fontsize)\n",
    "plt.suptitle('Динамика продаж по платформам за актуальный период', fontsize = fontsize)\n",
    "plt.xlabel('Год выпуска', fontsize = fontsize)\n",
    "plt.ylabel('Количество копий', fontsize = fontsize);"
   ]
  },
  {
   "cell_type": "markdown",
   "metadata": {},
   "source": [
    "### Диаграмма размаха продаж по платформам за актуальный период"
   ]
  },
  {
   "cell_type": "code",
   "execution_count": 18,
   "metadata": {},
   "outputs": [
    {
     "data": {
      "image/png": "[encoded data removed]",
      "text/plain": [
       "<Figure size 1152x576 with 3 Axes>"
      ]
     },
     "metadata": {
      "needs_background": "light"
     },
     "output_type": "display_data"
    }
   ],
   "source": [
    "fig, axes = plt.subplots(1, 3, figsize = figsize_small)\n",
    "\n",
    "\n",
    "for platform, ax in zip(platform_actual['platform'][:3], axes.flat):\n",
    "    games[games['platform'] == platform].boxplot(column = 'total_sales', ax = ax)\n",
    "    ax.set_xlabel('Платформа: ' + platform)\n",
    "\n",
    "    \n",
    "plt.suptitle('Диаграмма размаха продаж по платформам за актуальный период', fontsize = fontsize);"
   ]
  },
  {
   "cell_type": "code",
   "execution_count": 19,
   "metadata": {},
   "outputs": [
    {
     "data": {
      "image/png": "[encoded data removed]",
      "text/plain": [
       "<Figure size 1152x576 with 3 Axes>"
      ]
     },
     "metadata": {
      "needs_background": "light"
     },
     "output_type": "display_data"
    }
   ],
   "source": [
    "fig, axes = plt.subplots(1, 3, figsize = figsize_small)\n",
    "\n",
    "for platform, ax in zip(platform_actual['platform'][:3],axes.flat):\n",
    "    games[games['platform'] == platform].boxplot(column = 'total_sales', ax = ax)\n",
    "    ax.set_xlabel('Платформа: ' + platform)\n",
    "    ax.set_ylim([0, 2])\n",
    "    \n",
    "    \n",
    "plt.suptitle('Диаграмма размаха продаж по платформам за актуальный период', fontsize = fontsize);"
   ]
  },
  {
   "cell_type": "markdown",
   "metadata": {},
   "source": [
    "### Влияние отзывов пользователей и критиков внутри одной платформы на продажи"
   ]
  },
  {
   "cell_type": "code",
   "execution_count": 20,
   "metadata": {},
   "outputs": [
    {
     "data": {
      "image/png": "[encoded data removed]",
      "text/plain": [
       "<Figure size 1152x576 with 3 Axes>"
      ]
     },
     "metadata": {
      "needs_background": "light"
     },
     "output_type": "display_data"
    }
   ],
   "source": [
    "fig, axes = plt.subplots(1, 3, figsize = figsize_small)\n",
    "\n",
    "i = 0\n",
    "for platform in platform_actual['platform'][:3]:\n",
    "    ax = axes[i]\n",
    "    _ = games[games['platform'] == platform]\n",
    "    \n",
    "    ax.scatter(x = _['critic_score'], y = _['total_sales'])\n",
    "    \n",
    "    ax.set_xlabel('critic_score')\n",
    "    ax.set_ylabel('total_sales')\n",
    "    \n",
    "    ax.set_title(platform)\n",
    "    \n",
    "    i += 1\n",
    "    \n",
    "    \n",
    "plt.suptitle('Диаграмма рассеяния отзывов критиков и суммарных продаж', fontsize = fontsize);"
   ]
  },
  {
   "cell_type": "code",
   "execution_count": 21,
   "metadata": {},
   "outputs": [
    {
     "data": {
      "image/png": "[encoded data removed]",
      "text/plain": [
       "<Figure size 1152x576 with 3 Axes>"
      ]
     },
     "metadata": {
      "needs_background": "light"
     },
     "output_type": "display_data"
    }
   ],
   "source": [
    "fig, axes = plt.subplots(1, 3, figsize = figsize_small)\n",
    "\n",
    "i = 0\n",
    "for platform in platform_actual['platform'][:3]:\n",
    "    ax = axes[i]\n",
    "    _ = games[games['platform'] == platform]\n",
    "    \n",
    "    ax.scatter(x = _['user_score'], y = _['total_sales'])\n",
    "    \n",
    "    ax.set_xlabel('user_score')\n",
    "    ax.set_ylabel('total_sales')\n",
    "    \n",
    "    ax.set_title(platform)\n",
    "    \n",
    "    i += 1\n",
    "    \n",
    "    \n",
    "plt.suptitle('Диаграмма рассеяния отзывов пользователей и суммарных продаж', fontsize = fontsize);"
   ]
  },
  {
   "cell_type": "code",
   "execution_count": 22,
   "metadata": {},
   "outputs": [
    {
     "data": {
      "image/png": "[encoded data removed]",
      "text/plain": [
       "<Figure size 1152x576 with 6 Axes>"
      ]
     },
     "metadata": {
      "needs_background": "light"
     },
     "output_type": "display_data"
    }
   ],
   "source": [
    "fig, axes = plt.subplots(1, 3, figsize = figsize_small)\n",
    "\n",
    "i = 0\n",
    "for platform in platform_actual['platform'][:3]:\n",
    "    ax = axes[i]\n",
    "    _ = games[games['platform'] == platform][['critic_score', 'user_score', 'total_sales']]\n",
    "    \n",
    "    sns.heatmap(_.corr(), square = True, ax = ax, linewidths=.5)\n",
    "    ax.set_title(platform)\n",
    "    \n",
    "    i += 1\n",
    "    \n",
    "    \n",
    "plt.suptitle('Матрица корреляций между отзывами пользователей и суммарными продажами', fontsize = fontsize);"
   ]
  },
  {
   "cell_type": "markdown",
   "metadata": {},
   "source": [
    "### Влияние жанра игры на продажи"
   ]
  },
  {
   "cell_type": "code",
   "execution_count": 23,
   "metadata": {},
   "outputs": [
    {
     "data": {
      "text/html": [
       "<div>\n",
       "<style scoped>\n",
       "    .dataframe tbody tr th:only-of-type {\n",
       "        vertical-align: middle;\n",
       "    }\n",
       "\n",
       "    .dataframe tbody tr th {\n",
       "        vertical-align: top;\n",
       "    }\n",
       "\n",
       "    .dataframe thead th {\n",
       "        text-align: right;\n",
       "    }\n",
       "</style>\n",
       "<table border=\"1\" class=\"dataframe\">\n",
       "  <thead>\n",
       "    <tr style=\"text-align: right;\">\n",
       "      <th></th>\n",
       "      <th>genre</th>\n",
       "      <th>game_count</th>\n",
       "      <th>total_sales</th>\n",
       "      <th>mean_sales</th>\n",
       "    </tr>\n",
       "  </thead>\n",
       "  <tbody>\n",
       "    <tr>\n",
       "      <td>0</td>\n",
       "      <td>shooter</td>\n",
       "      <td>235</td>\n",
       "      <td>304.73</td>\n",
       "      <td>1.30</td>\n",
       "    </tr>\n",
       "    <tr>\n",
       "      <td>1</td>\n",
       "      <td>platform</td>\n",
       "      <td>85</td>\n",
       "      <td>61.00</td>\n",
       "      <td>0.72</td>\n",
       "    </tr>\n",
       "    <tr>\n",
       "      <td>2</td>\n",
       "      <td>sports</td>\n",
       "      <td>268</td>\n",
       "      <td>181.07</td>\n",
       "      <td>0.68</td>\n",
       "    </tr>\n",
       "    <tr>\n",
       "      <td>3</td>\n",
       "      <td>role-playing</td>\n",
       "      <td>370</td>\n",
       "      <td>192.80</td>\n",
       "      <td>0.52</td>\n",
       "    </tr>\n",
       "    <tr>\n",
       "      <td>4</td>\n",
       "      <td>racing</td>\n",
       "      <td>115</td>\n",
       "      <td>53.50</td>\n",
       "      <td>0.47</td>\n",
       "    </tr>\n",
       "    <tr>\n",
       "      <td>5</td>\n",
       "      <td>misc</td>\n",
       "      <td>192</td>\n",
       "      <td>85.04</td>\n",
       "      <td>0.44</td>\n",
       "    </tr>\n",
       "    <tr>\n",
       "      <td>6</td>\n",
       "      <td>simulation</td>\n",
       "      <td>80</td>\n",
       "      <td>35.12</td>\n",
       "      <td>0.44</td>\n",
       "    </tr>\n",
       "    <tr>\n",
       "      <td>7</td>\n",
       "      <td>action</td>\n",
       "      <td>1031</td>\n",
       "      <td>441.12</td>\n",
       "      <td>0.43</td>\n",
       "    </tr>\n",
       "    <tr>\n",
       "      <td>8</td>\n",
       "      <td>fighting</td>\n",
       "      <td>109</td>\n",
       "      <td>44.49</td>\n",
       "      <td>0.41</td>\n",
       "    </tr>\n",
       "    <tr>\n",
       "      <td>9</td>\n",
       "      <td>strategy</td>\n",
       "      <td>71</td>\n",
       "      <td>13.34</td>\n",
       "      <td>0.19</td>\n",
       "    </tr>\n",
       "    <tr>\n",
       "      <td>10</td>\n",
       "      <td>puzzle</td>\n",
       "      <td>28</td>\n",
       "      <td>4.89</td>\n",
       "      <td>0.17</td>\n",
       "    </tr>\n",
       "    <tr>\n",
       "      <td>11</td>\n",
       "      <td>adventure</td>\n",
       "      <td>302</td>\n",
       "      <td>29.43</td>\n",
       "      <td>0.10</td>\n",
       "    </tr>\n",
       "  </tbody>\n",
       "</table>\n",
       "</div>"
      ],
      "text/plain": [
       "           genre  game_count  total_sales  mean_sales\n",
       "0        shooter         235       304.73        1.30\n",
       "1       platform          85        61.00        0.72\n",
       "2         sports         268       181.07        0.68\n",
       "3   role-playing         370       192.80        0.52\n",
       "4         racing         115        53.50        0.47\n",
       "5           misc         192        85.04        0.44\n",
       "6     simulation          80        35.12        0.44\n",
       "7         action        1031       441.12        0.43\n",
       "8       fighting         109        44.49        0.41\n",
       "9       strategy          71        13.34        0.19\n",
       "10        puzzle          28         4.89        0.17\n",
       "11     adventure         302        29.43        0.10"
      ]
     },
     "execution_count": 23,
     "metadata": {},
     "output_type": "execute_result"
    }
   ],
   "source": [
    "genre_agg = games.groupby('genre').agg({'name': 'count', 'total_sales': 'sum'})\n",
    "genre_agg.columns = ['game_count', 'total_sales']\n",
    "\n",
    "genre_agg['mean_sales'] = round(genre_agg['total_sales'] / genre_agg['game_count'], 2)\n",
    "genre_agg.sort_values(by = 'mean_sales', ascending = False, inplace = True)\n",
    "\n",
    "genre_agg.reset_index(inplace = True)\n",
    "genre_agg"
   ]
  },
  {
   "cell_type": "code",
   "execution_count": 24,
   "metadata": {},
   "outputs": [
    {
     "data": {
      "image/png": "[encoded data removed]",
      "text/plain": [
       "<Figure size 1152x576 with 1 Axes>"
      ]
     },
     "metadata": {
      "needs_background": "light"
     },
     "output_type": "display_data"
    }
   ],
   "source": [
    "genre_agg.plot(x = 'genre', y = ['game_count', 'total_sales'], kind = 'bar', figsize = figsize_small)\n",
    "plt.suptitle('Влияние жанра игры на продажи', fontsize = fontsize);"
   ]
  },
  {
   "cell_type": "markdown",
   "metadata": {},
   "source": [
    "### Вывод"
   ]
  },
  {
   "cell_type": "markdown",
   "metadata": {},
   "source": [
    "* Самыми популярными платформами за весь период являются: ps2, x360, ps3, wii, ds;\n",
    "* До 1990 года игры практически не пользовались спросом и не производились;\n",
    "* Начиная с 1995 года спрос на игры начал увеличиваться и продолжался до 2010 года;\n",
    "* Среднее время жизни игровой платформы составляет 6 лет;\n",
    "* В 2016 году самыми популярными платормами являются: ps4, ps3 и x360;\n",
    "* На всех платформах прослеживается явная связь между количеством проданных копий и оценками критиков и пользователей;\n",
    "* Отзывы пользователей сильно коррелируют с отзывами критиков;\n",
    "* Самым популярным жанром является action;\n",
    "* Больше всего денег приносит жанр shooter."
   ]
  },
  {
   "cell_type": "markdown",
   "metadata": {},
   "source": [
    "## Портрет пользователя для каждого региона"
   ]
  },
  {
   "cell_type": "markdown",
   "metadata": {},
   "source": [
    "### Распределение популярных платформ внутри каждого региона"
   ]
  },
  {
   "cell_type": "code",
   "execution_count": 25,
   "metadata": {},
   "outputs": [
    {
     "data": {
      "image/png": "[encoded data removed]",
      "text/plain": [
       "<Figure size 1152x576 with 3 Axes>"
      ]
     },
     "metadata": {
      "needs_background": "light"
     },
     "output_type": "display_data"
    }
   ],
   "source": [
    "fig, axes = plt.subplots(1, 3, figsize = figsize_small)\n",
    "\n",
    "i = 0\n",
    "region = ['na_sales', 'eu_sales', 'jp_sales']\n",
    "for reg in region:\n",
    "    ax = axes[i]\n",
    "    _ = games.groupby('platform')[reg].sum().to_frame()\\\n",
    "        .sort_values(by = reg, ascending = False)\\\n",
    "        .reset_index().head(5)\n",
    "    \n",
    "    ax.bar(x = _['platform'], height = _[reg])\n",
    "    ax.set_title(reg)\n",
    "    i += 1\n",
    "    \n",
    "plt.suptitle('Распределение популярных платформ внутри каждого региона', fontsize = fontsize);"
   ]
  },
  {
   "cell_type": "markdown",
   "metadata": {},
   "source": [
    "### Распределение популярных жанров внутри каждого региона"
   ]
  },
  {
   "cell_type": "code",
   "execution_count": 26,
   "metadata": {},
   "outputs": [
    {
     "data": {
      "image/png": "[encoded data removed]",
      "text/plain": [
       "<Figure size 1152x576 with 3 Axes>"
      ]
     },
     "metadata": {
      "needs_background": "light"
     },
     "output_type": "display_data"
    }
   ],
   "source": [
    "fig, axes = plt.subplots(1, 3, figsize = figsize_small)\n",
    "\n",
    "i = 0\n",
    "region = ['na_sales', 'eu_sales', 'jp_sales']\n",
    "for reg in region:\n",
    "    ax = axes[i]\n",
    "    _ = games.groupby('genre')[reg].sum().to_frame()\\\n",
    "        .sort_values(by = reg, ascending = False)\\\n",
    "        .reset_index().head(5)\n",
    "    \n",
    "    ax.bar(x = _['genre'], height = _[reg])\n",
    "    ax.set_title(reg)\n",
    "    i += 1\n",
    "    \n",
    "plt.suptitle('Распределение популярных жанров внутри каждого региона', fontsize = fontsize);"
   ]
  },
  {
   "cell_type": "markdown",
   "metadata": {},
   "source": [
    "### Влияние рейтинга ESRB на продажи в каждом регионе"
   ]
  },
  {
   "cell_type": "code",
   "execution_count": 27,
   "metadata": {},
   "outputs": [
    {
     "data": {
      "image/png": "[encoded data removed]",
      "text/plain": [
       "<Figure size 1152x576 with 3 Axes>"
      ]
     },
     "metadata": {
      "needs_background": "light"
     },
     "output_type": "display_data"
    }
   ],
   "source": [
    "fig, axes = plt.subplots(1, 3, figsize = figsize_small)\n",
    "\n",
    "i = 0\n",
    "region = ['na_sales', 'eu_sales', 'jp_sales']\n",
    "for reg in region:\n",
    "    ax = axes[i]\n",
    "    _ = games.groupby('rating')[reg].sum().to_frame()\\\n",
    "        .sort_values(by = reg, ascending = False)\\\n",
    "        .reset_index()\n",
    "    \n",
    "    ax.bar(x = _['rating'], height = _[reg])\n",
    "    ax.set_title(reg)\n",
    "    i += 1\n",
    "    \n",
    "plt.suptitle('Влияние рейтинга ESRB на продажи в каждом регионе', fontsize = fontsize);"
   ]
  },
  {
   "cell_type": "markdown",
   "metadata": {},
   "source": [
    "### Вывод"
   ]
  },
  {
   "cell_type": "markdown",
   "metadata": {},
   "source": [
    "* В Северной Америке и Европе самыми популярными платформами являются: ps3, ps3, x360;\n",
    "* В Японии самая популярная платформа: 3ds;\n",
    "\n",
    "\n",
    "* В Северной Америке и Европе самыми популярными жанрами являются: action, shooter, sports;\n",
    "* В Японии самый популярный жанр: role-playing;\n",
    "\n",
    "\n",
    "* В Северной Америке и Европе самыми популярными рейтингами являются: M, E;\n",
    "* В Японии самый популярный рейтиг: E."
   ]
  },
  {
   "cell_type": "markdown",
   "metadata": {},
   "source": [
    "## Проверка гипотез"
   ]
  },
  {
   "cell_type": "markdown",
   "metadata": {},
   "source": [
    "### Средние пользовательские рейтинги платформ Xbox One и PC одинаковые\n",
    "\n",
    "* Н0: Средние пользовательские рейтинги платформ Xbox One и PC не различаются;\n",
    "* Н1: Средние пользовательские рейтинги платформ Xbox One и PC отличаются между собой."
   ]
  },
  {
   "cell_type": "code",
   "execution_count": 28,
   "metadata": {},
   "outputs": [
    {
     "name": "stdout",
     "output_type": "stream",
     "text": [
      "p-значение: 0.5535080500642724\n",
      "Не получилось отвергнуть нулевую гипотезу.\n"
     ]
    }
   ],
   "source": [
    "alpha = 0.05\n",
    "\n",
    "results = st.ttest_ind(\n",
    "    games.query('platform == \"xone\"')['user_score'], \n",
    "    games.query('platform == \"pc\"')['user_score'],\n",
    "    nan_policy = 'omit'\n",
    ")\n",
    "\n",
    "print('p-значение:', results.pvalue)\n",
    "\n",
    "if (results.pvalue < alpha):\n",
    "    print(\"Отвергаем нулевую гипотезу.\")\n",
    "else:\n",
    "    print(\"Не получилось отвергнуть нулевую гипотезу.\")"
   ]
  },
  {
   "cell_type": "markdown",
   "metadata": {},
   "source": [
    "### Средние пользовательские рейтинги жанров Action и Sports разные\n",
    "\n",
    "* Н0: Средние пользовательские рейтинги жанров Action и Sports не различаются;\n",
    "* Н1: Средние пользовательские рейтинги жанров Action и Sports отличаются между собой."
   ]
  },
  {
   "cell_type": "code",
   "execution_count": 29,
   "metadata": {},
   "outputs": [
    {
     "name": "stdout",
     "output_type": "stream",
     "text": [
      "p-значение: 3.716308946093586e-26\n",
      "Отвергаем нулевую гипотезу.\n"
     ]
    }
   ],
   "source": [
    "alpha = 0.05\n",
    "\n",
    "results = st.ttest_ind(\n",
    "    games.query('genre == \"action\"')['user_score'], \n",
    "    games.query('genre == \"sports\"')['user_score'],\n",
    "    nan_policy = 'omit'\n",
    ")\n",
    "\n",
    "print('p-значение:', results.pvalue)\n",
    "\n",
    "if (results.pvalue < alpha):\n",
    "    print(\"Отвергаем нулевую гипотезу.\")\n",
    "else:\n",
    "    print(\"Не получилось отвергнуть нулевую гипотезу.\")"
   ]
  },
  {
   "cell_type": "markdown",
   "metadata": {},
   "source": [
    "### Вывод"
   ]
  },
  {
   "cell_type": "markdown",
   "metadata": {},
   "source": [
    "* Мы смогли отвергнуть гипотезу о том, что: средние пользовательские рейтинги жанров Action и Sports не различаются;\n",
    "* Мы не смогли отвергнуть гипотезу о том, что: средние пользовательские рейтинги платформ Xbox One и PC не различаются."
   ]
  },
  {
   "cell_type": "markdown",
   "metadata": {},
   "source": [
    "## Общий вывод"
   ]
  },
  {
   "cell_type": "markdown",
   "metadata": {},
   "source": [
    "В ходе работы были проанализированы данные от интернет-магазина «Стримчик» по продаже компьютерных игр. Было выявлено, что примерно 30% игр не являются успешными проектами. Компьютерную игру можно считать сверх успешной, если для неё было продано более 1.2 миллиона копий.\n",
    "\n",
    "Среднее время жизни игровой платформы составляет 6 лет, это важно учитывать при прогнозировании. Отзывы критиков и пользователей сильно сказываются на количестве проданных копий игры и её популярности. Самым популярным жанром является action, больше всего денег приносит жанр shooter.\n",
    "\n",
    "Популярные жанры, платформы и рейтинги очень сильно зависят от региона. Например, в Японии самый популярный жанр role-playing, тогда как во всём остальном мире action."
   ]
  }
 ],
 "metadata": {
  "ExecuteTimeLog": [
   {
    "duration": 1298,
    "start_time": "2021-10-09T11:34:51.832Z"
   },
   {
    "duration": 6,
    "start_time": "2021-10-09T11:35:27.440Z"
   },
   {
    "duration": 4,
    "start_time": "2021-10-09T11:35:50.154Z"
   },
   {
    "duration": 4,
    "start_time": "2021-10-09T11:36:48.318Z"
   },
   {
    "duration": 73,
    "start_time": "2021-10-09T11:38:37.139Z"
   },
   {
    "duration": 1320,
    "start_time": "2021-10-09T11:41:57.451Z"
   },
   {
    "duration": 6,
    "start_time": "2021-10-09T11:42:26.834Z"
   },
   {
    "duration": 6,
    "start_time": "2021-10-09T11:42:30.794Z"
   },
   {
    "duration": 6,
    "start_time": "2021-10-09T11:42:34.217Z"
   },
   {
    "duration": 1213,
    "start_time": "2021-10-09T11:42:47.851Z"
   },
   {
    "duration": 4,
    "start_time": "2021-10-09T11:43:17.891Z"
   },
   {
    "duration": 69,
    "start_time": "2021-10-09T11:43:24.638Z"
   },
   {
    "duration": 74,
    "start_time": "2021-10-09T11:48:34.684Z"
   },
   {
    "duration": 1961,
    "start_time": "2021-10-09T11:48:51.581Z"
   },
   {
    "duration": 72,
    "start_time": "2021-10-09T11:49:07.790Z"
   },
   {
    "duration": 378,
    "start_time": "2021-10-09T11:50:06.022Z"
   },
   {
    "duration": 78,
    "start_time": "2021-10-09T11:50:37.702Z"
   },
   {
    "duration": 68,
    "start_time": "2021-10-09T11:50:45.490Z"
   },
   {
    "duration": 15,
    "start_time": "2021-10-09T11:50:51.674Z"
   },
   {
    "duration": 341,
    "start_time": "2021-10-09T11:51:20.004Z"
   },
   {
    "duration": 70,
    "start_time": "2021-10-09T11:52:01.292Z"
   },
   {
    "duration": 27,
    "start_time": "2021-10-09T11:53:38.154Z"
   },
   {
    "duration": 371,
    "start_time": "2021-10-09T11:54:09.476Z"
   },
   {
    "duration": 355,
    "start_time": "2021-10-09T11:54:21.311Z"
   },
   {
    "duration": 1313,
    "start_time": "2021-10-09T11:55:28.249Z"
   },
   {
    "duration": 13,
    "start_time": "2021-10-09T11:55:49.827Z"
   },
   {
    "duration": 100,
    "start_time": "2021-10-09T11:56:32.308Z"
   },
   {
    "duration": 103,
    "start_time": "2021-10-09T11:56:40.004Z"
   },
   {
    "duration": 15,
    "start_time": "2021-10-09T11:59:27.608Z"
   },
   {
    "duration": 29,
    "start_time": "2021-10-09T11:59:36.992Z"
   },
   {
    "duration": 13,
    "start_time": "2021-10-09T11:59:43.359Z"
   },
   {
    "duration": 29,
    "start_time": "2021-10-09T11:59:46.983Z"
   },
   {
    "duration": 8,
    "start_time": "2021-10-09T12:01:44.050Z"
   },
   {
    "duration": 8,
    "start_time": "2021-10-09T12:01:56.178Z"
   },
   {
    "duration": 34,
    "start_time": "2021-10-09T12:02:34.180Z"
   },
   {
    "duration": 26,
    "start_time": "2021-10-09T12:03:44.607Z"
   },
   {
    "duration": 13,
    "start_time": "2021-10-09T12:04:03.337Z"
   },
   {
    "duration": 92,
    "start_time": "2021-10-09T12:04:10.102Z"
   },
   {
    "duration": 31,
    "start_time": "2021-10-09T12:04:12.237Z"
   },
   {
    "duration": 30,
    "start_time": "2021-10-09T12:04:18.493Z"
   },
   {
    "duration": 28,
    "start_time": "2021-10-09T12:04:23.060Z"
   },
   {
    "duration": 36,
    "start_time": "2021-10-09T12:06:41.303Z"
   },
   {
    "duration": 316,
    "start_time": "2021-10-09T12:06:56.267Z"
   },
   {
    "duration": 28,
    "start_time": "2021-10-09T12:07:02.632Z"
   },
   {
    "duration": 18,
    "start_time": "2021-10-09T12:07:25.988Z"
   },
   {
    "duration": 30,
    "start_time": "2021-10-09T12:09:39.550Z"
   },
   {
    "duration": 12,
    "start_time": "2021-10-09T12:09:47.312Z"
   },
   {
    "duration": 31,
    "start_time": "2021-10-09T12:09:51.632Z"
   },
   {
    "duration": 7,
    "start_time": "2021-10-09T12:10:08.733Z"
   },
   {
    "duration": 7,
    "start_time": "2021-10-09T12:10:18.610Z"
   },
   {
    "duration": 9,
    "start_time": "2021-10-09T12:12:03.193Z"
   },
   {
    "duration": 1299,
    "start_time": "2021-10-09T12:12:19.434Z"
   },
   {
    "duration": 5,
    "start_time": "2021-10-09T12:12:20.986Z"
   },
   {
    "duration": 4,
    "start_time": "2021-10-09T12:12:21.550Z"
   },
   {
    "duration": 102,
    "start_time": "2021-10-09T12:12:22.561Z"
   },
   {
    "duration": 9,
    "start_time": "2021-10-09T12:12:52.239Z"
   },
   {
    "duration": 105,
    "start_time": "2021-10-09T12:13:09.925Z"
   },
   {
    "duration": 15,
    "start_time": "2021-10-09T12:13:30.355Z"
   },
   {
    "duration": 25,
    "start_time": "2021-10-09T12:13:48.177Z"
   },
   {
    "duration": 10,
    "start_time": "2021-10-09T12:14:15.063Z"
   },
   {
    "duration": 8,
    "start_time": "2021-10-09T12:14:50.547Z"
   },
   {
    "duration": 12,
    "start_time": "2021-10-09T12:15:00.424Z"
   },
   {
    "duration": 19,
    "start_time": "2021-10-09T12:15:18.605Z"
   },
   {
    "duration": 110,
    "start_time": "2021-10-09T12:18:25.360Z"
   },
   {
    "duration": 13,
    "start_time": "2021-10-09T12:18:28.712Z"
   },
   {
    "duration": 18,
    "start_time": "2021-10-09T12:18:31.140Z"
   },
   {
    "duration": 27,
    "start_time": "2021-10-09T12:18:44.393Z"
   },
   {
    "duration": 27,
    "start_time": "2021-10-09T12:19:13.262Z"
   },
   {
    "duration": 14,
    "start_time": "2021-10-09T12:19:13.292Z"
   },
   {
    "duration": 109,
    "start_time": "2021-10-09T12:19:55.001Z"
   },
   {
    "duration": 13,
    "start_time": "2021-10-09T12:20:17.702Z"
   },
   {
    "duration": 799,
    "start_time": "2021-10-09T12:21:47.073Z"
   },
   {
    "duration": 2088,
    "start_time": "2021-10-09T12:21:53.507Z"
   },
   {
    "duration": 154,
    "start_time": "2021-10-09T12:24:39.837Z"
   },
   {
    "duration": 151,
    "start_time": "2021-10-09T12:25:10.206Z"
   },
   {
    "duration": 114,
    "start_time": "2021-10-09T12:29:11.730Z"
   },
   {
    "duration": 423,
    "start_time": "2021-10-09T12:29:46.287Z"
   },
   {
    "duration": 122,
    "start_time": "2021-10-09T12:30:08.561Z"
   },
   {
    "duration": 118,
    "start_time": "2021-10-09T12:30:32.051Z"
   },
   {
    "duration": 422,
    "start_time": "2021-10-09T12:30:46.903Z"
   },
   {
    "duration": 14,
    "start_time": "2021-10-09T12:30:51.653Z"
   },
   {
    "duration": 19,
    "start_time": "2021-10-09T12:31:16.333Z"
   },
   {
    "duration": 58,
    "start_time": "2021-10-09T12:41:27.229Z"
   },
   {
    "duration": 328,
    "start_time": "2021-10-09T12:43:38.079Z"
   },
   {
    "duration": 24,
    "start_time": "2021-10-09T12:43:46.764Z"
   },
   {
    "duration": 14,
    "start_time": "2021-10-09T12:44:03.973Z"
   },
   {
    "duration": 30,
    "start_time": "2021-10-09T12:44:03.992Z"
   },
   {
    "duration": 23,
    "start_time": "2021-10-09T12:44:17.725Z"
   },
   {
    "duration": 21,
    "start_time": "2021-10-09T12:44:31.091Z"
   },
   {
    "duration": 126,
    "start_time": "2021-10-09T12:44:47.988Z"
   },
   {
    "duration": 14,
    "start_time": "2021-10-09T12:44:58.630Z"
   },
   {
    "duration": 18,
    "start_time": "2021-10-09T12:44:58.945Z"
   },
   {
    "duration": 21,
    "start_time": "2021-10-09T12:45:04.843Z"
   },
   {
    "duration": 301,
    "start_time": "2021-10-09T12:45:23.808Z"
   },
   {
    "duration": 26,
    "start_time": "2021-10-09T12:45:35.778Z"
   },
   {
    "duration": 8,
    "start_time": "2021-10-09T12:46:35.700Z"
   },
   {
    "duration": 314,
    "start_time": "2021-10-09T12:48:27.614Z"
   },
   {
    "duration": 18,
    "start_time": "2021-10-09T12:48:55.783Z"
   },
   {
    "duration": 580,
    "start_time": "2021-10-09T12:49:04.560Z"
   },
   {
    "duration": 547,
    "start_time": "2021-10-09T12:49:13.873Z"
   },
   {
    "duration": 576,
    "start_time": "2021-10-09T12:49:19.948Z"
   },
   {
    "duration": 581,
    "start_time": "2021-10-09T12:49:24.741Z"
   },
   {
    "duration": 672,
    "start_time": "2021-10-09T12:49:30.325Z"
   },
   {
    "duration": 559,
    "start_time": "2021-10-09T12:49:35.341Z"
   },
   {
    "duration": 623,
    "start_time": "2021-10-09T12:49:40.312Z"
   },
   {
    "duration": 118,
    "start_time": "2021-10-09T12:50:06.986Z"
   },
   {
    "duration": 14,
    "start_time": "2021-10-09T12:50:08.076Z"
   },
   {
    "duration": 19,
    "start_time": "2021-10-09T12:50:08.797Z"
   },
   {
    "duration": 18,
    "start_time": "2021-10-09T12:50:14.670Z"
   },
   {
    "duration": 296,
    "start_time": "2021-10-09T12:50:21.442Z"
   },
   {
    "duration": 1349,
    "start_time": "2021-10-09T12:50:57.418Z"
   },
   {
    "duration": 12,
    "start_time": "2021-10-09T12:50:58.770Z"
   },
   {
    "duration": 4,
    "start_time": "2021-10-09T12:50:59.039Z"
   },
   {
    "duration": 139,
    "start_time": "2021-10-09T12:51:00.164Z"
   },
   {
    "duration": 17,
    "start_time": "2021-10-09T12:51:00.726Z"
   },
   {
    "duration": 26,
    "start_time": "2021-10-09T12:51:01.199Z"
   },
   {
    "duration": 28,
    "start_time": "2021-10-09T12:51:14.272Z"
   },
   {
    "duration": 9,
    "start_time": "2021-10-09T12:51:52.432Z"
   },
   {
    "duration": 24,
    "start_time": "2021-10-09T12:51:57.113Z"
   },
   {
    "duration": 1323,
    "start_time": "2021-10-09T12:52:04.695Z"
   },
   {
    "duration": 2061,
    "start_time": "2021-10-09T12:52:38.401Z"
   },
   {
    "duration": 3861,
    "start_time": "2021-10-09T12:53:10.892Z"
   },
   {
    "duration": 52,
    "start_time": "2021-10-09T12:54:05.501Z"
   },
   {
    "duration": 57,
    "start_time": "2021-10-09T12:54:17.920Z"
   },
   {
    "duration": 54,
    "start_time": "2021-10-09T12:54:23.117Z"
   },
   {
    "duration": 76,
    "start_time": "2021-10-09T12:54:27.799Z"
   },
   {
    "duration": 6,
    "start_time": "2021-10-09T12:56:24.079Z"
   },
   {
    "duration": 28,
    "start_time": "2021-10-09T12:59:56.933Z"
   },
   {
    "duration": 23,
    "start_time": "2021-10-09T13:02:14.329Z"
   },
   {
    "duration": 12,
    "start_time": "2021-10-09T13:02:44.807Z"
   },
   {
    "duration": 21,
    "start_time": "2021-10-09T13:02:53.290Z"
   },
   {
    "duration": 898,
    "start_time": "2021-10-09T13:03:19.864Z"
   },
   {
    "duration": 768,
    "start_time": "2021-10-09T13:03:29.808Z"
   },
   {
    "duration": 4123,
    "start_time": "2021-10-09T13:03:50.486Z"
   },
   {
    "duration": 753,
    "start_time": "2021-10-09T13:04:06.956Z"
   },
   {
    "duration": 400,
    "start_time": "2021-10-09T13:25:32.720Z"
   },
   {
    "duration": 319,
    "start_time": "2021-10-09T13:26:04.311Z"
   },
   {
    "duration": 7931,
    "start_time": "2021-10-09T13:26:22.649Z"
   },
   {
    "duration": 229,
    "start_time": "2021-10-09T13:27:30.171Z"
   },
   {
    "duration": 44568,
    "start_time": "2021-10-09T13:28:02.685Z"
   },
   {
    "duration": 12,
    "start_time": "2021-10-09T13:29:19.210Z"
   },
   {
    "duration": 17,
    "start_time": "2021-10-09T13:29:39.390Z"
   },
   {
    "duration": 14,
    "start_time": "2021-10-09T13:29:48.807Z"
   },
   {
    "duration": 8,
    "start_time": "2021-10-09T13:30:00.564Z"
   },
   {
    "duration": 13,
    "start_time": "2021-10-09T13:30:03.826Z"
   },
   {
    "duration": 329,
    "start_time": "2021-10-09T13:30:52.023Z"
   },
   {
    "duration": 16,
    "start_time": "2021-10-09T13:32:05.171Z"
   },
   {
    "duration": 533,
    "start_time": "2021-10-09T13:32:15.319Z"
   },
   {
    "duration": 30,
    "start_time": "2021-10-09T13:32:53.412Z"
   },
   {
    "duration": 790,
    "start_time": "2021-10-09T13:33:18.073Z"
   },
   {
    "duration": 289,
    "start_time": "2021-10-09T13:33:48.852Z"
   },
   {
    "duration": 790,
    "start_time": "2021-10-09T13:34:01.272Z"
   },
   {
    "duration": 31,
    "start_time": "2021-10-09T13:34:27.036Z"
   },
   {
    "duration": 6,
    "start_time": "2021-10-09T13:34:39.958Z"
   },
   {
    "duration": 7,
    "start_time": "2021-10-09T13:35:47.497Z"
   },
   {
    "duration": 6,
    "start_time": "2021-10-09T13:35:56.992Z"
   },
   {
    "duration": 635,
    "start_time": "2021-10-09T13:36:15.484Z"
   },
   {
    "duration": 637,
    "start_time": "2021-10-09T13:36:35.852Z"
   },
   {
    "duration": 759,
    "start_time": "2021-10-09T13:37:12.300Z"
   },
   {
    "duration": 638,
    "start_time": "2021-10-09T13:37:30.954Z"
   },
   {
    "duration": 10,
    "start_time": "2021-10-09T13:39:00.437Z"
   },
   {
    "duration": 660,
    "start_time": "2021-10-09T13:39:15.872Z"
   },
   {
    "duration": 646,
    "start_time": "2021-10-09T13:39:55.428Z"
   },
   {
    "duration": 614,
    "start_time": "2021-10-09T13:40:08.006Z"
   },
   {
    "duration": 618,
    "start_time": "2021-10-09T13:42:11.602Z"
   },
   {
    "duration": 29,
    "start_time": "2021-10-09T13:44:32.003Z"
   },
   {
    "duration": 11,
    "start_time": "2021-10-09T13:44:51.521Z"
   },
   {
    "duration": 14,
    "start_time": "2021-10-09T13:45:04.246Z"
   },
   {
    "duration": 18,
    "start_time": "2021-10-09T13:45:11.534Z"
   },
   {
    "duration": 26,
    "start_time": "2021-10-09T13:45:17.770Z"
   },
   {
    "duration": 8,
    "start_time": "2021-10-09T13:45:35.997Z"
   },
   {
    "duration": 32,
    "start_time": "2021-10-09T13:45:42.587Z"
   },
   {
    "duration": 315,
    "start_time": "2021-10-09T13:46:05.154Z"
   },
   {
    "duration": 10,
    "start_time": "2021-10-09T13:46:15.144Z"
   },
   {
    "duration": 338,
    "start_time": "2021-10-09T13:46:34.383Z"
   },
   {
    "duration": 31,
    "start_time": "2021-10-09T13:46:48.084Z"
   },
   {
    "duration": 10,
    "start_time": "2021-10-09T13:46:52.811Z"
   },
   {
    "duration": 10,
    "start_time": "2021-10-09T13:47:11.350Z"
   },
   {
    "duration": 10,
    "start_time": "2021-10-09T13:47:15.242Z"
   },
   {
    "duration": 10,
    "start_time": "2021-10-09T13:47:37.855Z"
   },
   {
    "duration": 11,
    "start_time": "2021-10-09T13:47:42.964Z"
   },
   {
    "duration": 30,
    "start_time": "2021-10-09T13:48:10.706Z"
   },
   {
    "duration": 14,
    "start_time": "2021-10-09T13:48:38.584Z"
   },
   {
    "duration": 14,
    "start_time": "2021-10-09T13:48:50.036Z"
   },
   {
    "duration": 14,
    "start_time": "2021-10-09T13:49:15.780Z"
   },
   {
    "duration": 18,
    "start_time": "2021-10-09T13:49:36.455Z"
   },
   {
    "duration": 18,
    "start_time": "2021-10-09T13:49:40.234Z"
   },
   {
    "duration": 15,
    "start_time": "2021-10-09T13:49:56.322Z"
   },
   {
    "duration": 13,
    "start_time": "2021-10-09T13:50:37.205Z"
   },
   {
    "duration": 31,
    "start_time": "2021-10-09T13:51:13.904Z"
   },
   {
    "duration": 331,
    "start_time": "2021-10-09T13:51:36.992Z"
   },
   {
    "duration": 33,
    "start_time": "2021-10-09T13:51:46.217Z"
   },
   {
    "duration": 1651,
    "start_time": "2021-10-09T13:52:01.672Z"
   },
   {
    "duration": 296,
    "start_time": "2021-10-09T13:53:43.081Z"
   },
   {
    "duration": 256,
    "start_time": "2021-10-09T13:54:06.684Z"
   },
   {
    "duration": 13,
    "start_time": "2021-10-09T13:54:15.728Z"
   },
   {
    "duration": 34,
    "start_time": "2021-10-09T13:54:25.089Z"
   },
   {
    "duration": 18,
    "start_time": "2021-10-09T13:55:02.079Z"
   },
   {
    "duration": 110,
    "start_time": "2021-10-09T13:55:21.317Z"
   },
   {
    "duration": 18,
    "start_time": "2021-10-09T13:55:26.559Z"
   },
   {
    "duration": 6,
    "start_time": "2021-10-09T13:58:13.805Z"
   },
   {
    "duration": 6,
    "start_time": "2021-10-09T13:58:23.592Z"
   },
   {
    "duration": 30,
    "start_time": "2021-10-09T13:58:31.872Z"
   },
   {
    "duration": 36,
    "start_time": "2021-10-09T13:58:42.583Z"
   },
   {
    "duration": 12,
    "start_time": "2021-10-09T13:59:07.357Z"
   },
   {
    "duration": 13,
    "start_time": "2021-10-09T13:59:57.982Z"
   },
   {
    "duration": 230,
    "start_time": "2021-10-09T14:00:11.640Z"
   },
   {
    "duration": 237,
    "start_time": "2021-10-09T14:00:17.692Z"
   },
   {
    "duration": 7,
    "start_time": "2021-10-09T14:00:59.542Z"
   },
   {
    "duration": 7,
    "start_time": "2021-10-09T14:01:03.457Z"
   },
   {
    "duration": 16,
    "start_time": "2021-10-09T14:01:46.557Z"
   },
   {
    "duration": 229,
    "start_time": "2021-10-09T14:01:48.008Z"
   },
   {
    "duration": 239,
    "start_time": "2021-10-09T14:02:21.848Z"
   },
   {
    "duration": 254,
    "start_time": "2021-10-09T14:04:22.204Z"
   },
   {
    "duration": 252,
    "start_time": "2021-10-09T14:04:44.815Z"
   },
   {
    "duration": 257,
    "start_time": "2021-10-09T14:04:55.346Z"
   },
   {
    "duration": 291,
    "start_time": "2021-10-09T14:04:59.530Z"
   },
   {
    "duration": 281,
    "start_time": "2021-10-09T14:05:05.628Z"
   },
   {
    "duration": 533,
    "start_time": "2021-10-09T14:05:22.302Z"
   },
   {
    "duration": 1473,
    "start_time": "2021-10-09T14:05:31.978Z"
   },
   {
    "duration": 325,
    "start_time": "2021-10-09T14:05:37.668Z"
   },
   {
    "duration": 568,
    "start_time": "2021-10-09T14:06:18.642Z"
   },
   {
    "duration": 340,
    "start_time": "2021-10-09T14:06:40.603Z"
   },
   {
    "duration": 603,
    "start_time": "2021-10-09T14:06:50.929Z"
   },
   {
    "duration": 15,
    "start_time": "2021-10-09T14:07:13.093Z"
   },
   {
    "duration": 575,
    "start_time": "2021-10-09T14:07:14.083Z"
   },
   {
    "duration": 351,
    "start_time": "2021-10-09T14:07:29.113Z"
   },
   {
    "duration": 6,
    "start_time": "2021-10-09T14:07:36.988Z"
   },
   {
    "duration": 393,
    "start_time": "2021-10-09T14:07:40.565Z"
   },
   {
    "duration": 473,
    "start_time": "2021-10-09T14:07:54.088Z"
   },
   {
    "duration": 15,
    "start_time": "2021-10-09T14:07:59.136Z"
   },
   {
    "duration": 510,
    "start_time": "2021-10-09T14:07:59.600Z"
   },
   {
    "duration": 18,
    "start_time": "2021-10-09T14:08:07.906Z"
   },
   {
    "duration": 495,
    "start_time": "2021-10-09T14:08:08.288Z"
   },
   {
    "duration": 490,
    "start_time": "2021-10-09T14:08:47.279Z"
   },
   {
    "duration": 471,
    "start_time": "2021-10-09T14:08:53.984Z"
   },
   {
    "duration": 479,
    "start_time": "2021-10-09T14:09:52.668Z"
   },
   {
    "duration": 495,
    "start_time": "2021-10-09T14:10:00.091Z"
   },
   {
    "duration": 471,
    "start_time": "2021-10-09T14:10:11.720Z"
   },
   {
    "duration": 469,
    "start_time": "2021-10-09T14:10:17.866Z"
   },
   {
    "duration": 487,
    "start_time": "2021-10-09T14:10:22.703Z"
   },
   {
    "duration": 490,
    "start_time": "2021-10-09T14:10:27.316Z"
   },
   {
    "duration": 476,
    "start_time": "2021-10-09T14:10:37.530Z"
   },
   {
    "duration": 556,
    "start_time": "2021-10-09T14:11:07.412Z"
   },
   {
    "duration": 494,
    "start_time": "2021-10-09T14:11:11.258Z"
   },
   {
    "duration": 470,
    "start_time": "2021-10-09T14:11:16.412Z"
   },
   {
    "duration": 646,
    "start_time": "2021-10-09T14:11:26.425Z"
   },
   {
    "duration": 30,
    "start_time": "2021-10-09T14:28:09.054Z"
   },
   {
    "duration": 33,
    "start_time": "2021-10-09T14:28:40.881Z"
   },
   {
    "duration": 9,
    "start_time": "2021-10-09T14:29:10.583Z"
   },
   {
    "duration": 31,
    "start_time": "2021-10-09T14:29:15.439Z"
   },
   {
    "duration": 18,
    "start_time": "2021-10-09T14:34:02.624Z"
   },
   {
    "duration": 22,
    "start_time": "2021-10-09T14:34:17.711Z"
   },
   {
    "duration": 15,
    "start_time": "2021-10-09T14:34:26.217Z"
   },
   {
    "duration": 1370,
    "start_time": "2021-10-09T14:35:21.862Z"
   },
   {
    "duration": 7,
    "start_time": "2021-10-09T14:35:23.235Z"
   },
   {
    "duration": 4,
    "start_time": "2021-10-09T14:35:23.841Z"
   },
   {
    "duration": 132,
    "start_time": "2021-10-09T14:35:24.877Z"
   },
   {
    "duration": 14,
    "start_time": "2021-10-09T14:35:25.062Z"
   },
   {
    "duration": 24,
    "start_time": "2021-10-09T14:35:25.911Z"
   },
   {
    "duration": 55,
    "start_time": "2021-10-09T14:35:26.092Z"
   },
   {
    "duration": 3710,
    "start_time": "2021-10-09T14:35:26.295Z"
   },
   {
    "duration": 25,
    "start_time": "2021-10-09T14:35:31.829Z"
   },
   {
    "duration": 20,
    "start_time": "2021-10-09T14:35:32.010Z"
   },
   {
    "duration": 637,
    "start_time": "2021-10-09T14:35:34.799Z"
   },
   {
    "duration": 16,
    "start_time": "2021-10-09T14:35:39.122Z"
   },
   {
    "duration": 502,
    "start_time": "2021-10-09T14:35:46.139Z"
   },
   {
    "duration": 18,
    "start_time": "2021-10-09T14:35:53.838Z"
   },
   {
    "duration": 497,
    "start_time": "2021-10-09T14:36:47.703Z"
   },
   {
    "duration": 879,
    "start_time": "2021-10-09T14:39:47.164Z"
   },
   {
    "duration": 710,
    "start_time": "2021-10-09T14:40:55.094Z"
   },
   {
    "duration": 709,
    "start_time": "2021-10-09T14:41:03.419Z"
   },
   {
    "duration": 613,
    "start_time": "2021-10-09T14:41:10.124Z"
   },
   {
    "duration": 741,
    "start_time": "2021-10-09T14:41:54.426Z"
   },
   {
    "duration": 534,
    "start_time": "2021-10-09T14:42:05.453Z"
   },
   {
    "duration": 553,
    "start_time": "2021-10-09T14:42:24.267Z"
   },
   {
    "duration": 672,
    "start_time": "2021-10-09T14:48:22.873Z"
   },
   {
    "duration": 497,
    "start_time": "2021-10-09T14:48:39.030Z"
   },
   {
    "duration": 1157,
    "start_time": "2021-10-09T14:49:18.317Z"
   },
   {
    "duration": 5,
    "start_time": "2021-10-09T14:49:43.761Z"
   },
   {
    "duration": 1108,
    "start_time": "2021-10-09T14:50:38.528Z"
   },
   {
    "duration": 240,
    "start_time": "2021-10-09T14:51:06.451Z"
   },
   {
    "duration": 1105,
    "start_time": "2021-10-09T14:51:36.061Z"
   },
   {
    "duration": 1426,
    "start_time": "2021-10-09T14:51:45.871Z"
   },
   {
    "duration": 1263,
    "start_time": "2021-10-09T14:52:13.840Z"
   },
   {
    "duration": 806,
    "start_time": "2021-10-09T14:52:22.478Z"
   },
   {
    "duration": 784,
    "start_time": "2021-10-09T14:53:04.937Z"
   },
   {
    "duration": 90,
    "start_time": "2021-10-09T14:54:39.393Z"
   },
   {
    "duration": 113,
    "start_time": "2021-10-09T14:55:10.354Z"
   },
   {
    "duration": 796,
    "start_time": "2021-10-09T14:55:22.188Z"
   },
   {
    "duration": 1019,
    "start_time": "2021-10-09T17:09:41.523Z"
   },
   {
    "duration": 4,
    "start_time": "2021-10-09T17:09:42.543Z"
   },
   {
    "duration": 5,
    "start_time": "2021-10-09T17:09:42.548Z"
   },
   {
    "duration": 97,
    "start_time": "2021-10-09T17:09:42.582Z"
   },
   {
    "duration": 11,
    "start_time": "2021-10-09T17:09:42.719Z"
   },
   {
    "duration": 22,
    "start_time": "2021-10-09T17:09:42.896Z"
   },
   {
    "duration": 36,
    "start_time": "2021-10-09T17:09:43.030Z"
   },
   {
    "duration": 2537,
    "start_time": "2021-10-09T17:09:43.228Z"
   },
   {
    "duration": 16,
    "start_time": "2021-10-09T17:09:45.767Z"
   },
   {
    "duration": 41,
    "start_time": "2021-10-09T17:09:45.785Z"
   },
   {
    "duration": 445,
    "start_time": "2021-10-09T17:09:45.828Z"
   },
   {
    "duration": 10,
    "start_time": "2021-10-09T17:09:46.275Z"
   },
   {
    "duration": 356,
    "start_time": "2021-10-09T17:09:46.287Z"
   },
   {
    "duration": 15,
    "start_time": "2021-10-09T17:09:46.645Z"
   },
   {
    "duration": 369,
    "start_time": "2021-10-09T17:09:46.663Z"
   },
   {
    "duration": 529,
    "start_time": "2021-10-09T17:09:47.035Z"
   },
   {
    "duration": 522,
    "start_time": "2021-10-09T17:10:01.572Z"
   },
   {
    "duration": 531,
    "start_time": "2021-10-09T17:11:44.514Z"
   },
   {
    "duration": 682,
    "start_time": "2021-10-09T17:12:01.766Z"
   },
   {
    "duration": 521,
    "start_time": "2021-10-09T17:12:09.308Z"
   },
   {
    "duration": 508,
    "start_time": "2021-10-09T17:12:19.364Z"
   },
   {
    "duration": 597,
    "start_time": "2021-10-09T17:12:24.572Z"
   },
   {
    "duration": 518,
    "start_time": "2021-10-09T17:12:32.270Z"
   },
   {
    "duration": 542,
    "start_time": "2021-10-09T17:13:14.846Z"
   },
   {
    "duration": 652,
    "start_time": "2021-10-09T17:14:40.137Z"
   },
   {
    "duration": 558,
    "start_time": "2021-10-09T17:15:04.112Z"
   },
   {
    "duration": 524,
    "start_time": "2021-10-09T17:15:25.667Z"
   },
   {
    "duration": 530,
    "start_time": "2021-10-09T17:15:45.264Z"
   },
   {
    "duration": 511,
    "start_time": "2021-10-09T17:16:11.613Z"
   },
   {
    "duration": 600,
    "start_time": "2021-10-09T17:16:26.485Z"
   },
   {
    "duration": 781,
    "start_time": "2021-10-09T17:16:58.974Z"
   },
   {
    "duration": 485,
    "start_time": "2021-10-09T17:17:39.094Z"
   },
   {
    "duration": 493,
    "start_time": "2021-10-09T17:17:55.856Z"
   },
   {
    "duration": 488,
    "start_time": "2021-10-09T17:21:02.298Z"
   },
   {
    "duration": 504,
    "start_time": "2021-10-09T17:21:05.775Z"
   },
   {
    "duration": 24,
    "start_time": "2021-10-09T17:28:55.208Z"
   },
   {
    "duration": 540,
    "start_time": "2021-10-09T17:30:20.178Z"
   },
   {
    "duration": 19,
    "start_time": "2021-10-09T17:30:51.576Z"
   },
   {
    "duration": 507,
    "start_time": "2021-10-09T17:31:02.985Z"
   },
   {
    "duration": 490,
    "start_time": "2021-10-09T17:32:44.305Z"
   },
   {
    "duration": 450,
    "start_time": "2021-10-09T17:32:54.837Z"
   },
   {
    "duration": 19,
    "start_time": "2021-10-09T17:33:00.114Z"
   },
   {
    "duration": 19,
    "start_time": "2021-10-09T17:33:56.064Z"
   },
   {
    "duration": 12,
    "start_time": "2021-10-09T17:34:35.700Z"
   },
   {
    "duration": 414,
    "start_time": "2021-10-09T17:34:48.455Z"
   },
   {
    "duration": 455,
    "start_time": "2021-10-09T17:35:08.757Z"
   },
   {
    "duration": 509,
    "start_time": "2021-10-09T17:35:15.511Z"
   },
   {
    "duration": 498,
    "start_time": "2021-10-09T17:35:29.818Z"
   },
   {
    "duration": 452,
    "start_time": "2021-10-09T17:35:41.157Z"
   },
   {
    "duration": 397,
    "start_time": "2021-10-09T17:40:07.924Z"
   },
   {
    "duration": 385,
    "start_time": "2021-10-09T17:40:18.632Z"
   },
   {
    "duration": 694,
    "start_time": "2021-10-09T17:41:10.090Z"
   },
   {
    "duration": 740,
    "start_time": "2021-10-09T17:41:42.429Z"
   },
   {
    "duration": 744,
    "start_time": "2021-10-09T17:41:58.061Z"
   },
   {
    "duration": 633,
    "start_time": "2021-10-09T17:42:12.820Z"
   },
   {
    "duration": 1084,
    "start_time": "2021-10-09T17:42:24.476Z"
   },
   {
    "duration": 661,
    "start_time": "2021-10-09T17:42:40.474Z"
   },
   {
    "duration": 697,
    "start_time": "2021-10-09T17:42:53.411Z"
   },
   {
    "duration": 741,
    "start_time": "2021-10-09T17:43:02.685Z"
   },
   {
    "duration": 616,
    "start_time": "2021-10-09T17:44:01.431Z"
   },
   {
    "duration": 648,
    "start_time": "2021-10-09T17:44:36.373Z"
   },
   {
    "duration": 631,
    "start_time": "2021-10-09T17:46:16.343Z"
   },
   {
    "duration": 705,
    "start_time": "2021-10-09T17:46:23.858Z"
   },
   {
    "duration": 802,
    "start_time": "2021-10-09T17:47:51.745Z"
   },
   {
    "duration": 698,
    "start_time": "2021-10-09T17:48:14.762Z"
   },
   {
    "duration": 20,
    "start_time": "2021-10-09T17:48:48.646Z"
   },
   {
    "duration": 679,
    "start_time": "2021-10-09T17:49:05.367Z"
   },
   {
    "duration": 101,
    "start_time": "2021-10-09T17:53:11.880Z"
   },
   {
    "duration": 19,
    "start_time": "2021-10-09T17:53:22.882Z"
   },
   {
    "duration": 10,
    "start_time": "2021-10-09T17:54:14.790Z"
   },
   {
    "duration": 278,
    "start_time": "2021-10-09T17:55:15.812Z"
   },
   {
    "duration": 253,
    "start_time": "2021-10-09T17:55:39.617Z"
   },
   {
    "duration": 796,
    "start_time": "2021-10-09T17:57:57.409Z"
   },
   {
    "duration": 732,
    "start_time": "2021-10-09T17:58:22.358Z"
   },
   {
    "duration": 729,
    "start_time": "2021-10-09T17:58:32.779Z"
   },
   {
    "duration": 749,
    "start_time": "2021-10-09T17:58:46.496Z"
   },
   {
    "duration": 20,
    "start_time": "2021-10-09T18:10:07.210Z"
   },
   {
    "duration": 3667,
    "start_time": "2021-10-09T18:11:18.786Z"
   },
   {
    "duration": 23,
    "start_time": "2021-10-09T18:11:33.880Z"
   },
   {
    "duration": 11,
    "start_time": "2021-10-09T18:11:40.385Z"
   },
   {
    "duration": 10,
    "start_time": "2021-10-09T18:12:31.954Z"
   },
   {
    "duration": 21,
    "start_time": "2021-10-09T18:13:13.623Z"
   },
   {
    "duration": 15,
    "start_time": "2021-10-09T18:13:43.887Z"
   },
   {
    "duration": 145,
    "start_time": "2021-10-09T18:14:09.312Z"
   },
   {
    "duration": 13,
    "start_time": "2021-10-09T18:14:16.039Z"
   },
   {
    "duration": 20,
    "start_time": "2021-10-09T18:14:32.893Z"
   },
   {
    "duration": 11,
    "start_time": "2021-10-09T18:15:00.749Z"
   },
   {
    "duration": 13,
    "start_time": "2021-10-09T18:15:10.044Z"
   },
   {
    "duration": 12,
    "start_time": "2021-10-09T18:16:18.086Z"
   },
   {
    "duration": 1093,
    "start_time": "2021-10-09T20:13:54.486Z"
   },
   {
    "duration": 4,
    "start_time": "2021-10-09T20:13:58.952Z"
   },
   {
    "duration": 3,
    "start_time": "2021-10-09T20:14:00.549Z"
   },
   {
    "duration": 104,
    "start_time": "2021-10-09T20:14:03.924Z"
   },
   {
    "duration": 10,
    "start_time": "2021-10-09T20:14:06.626Z"
   },
   {
    "duration": 14,
    "start_time": "2021-10-09T20:14:08.244Z"
   },
   {
    "duration": 46,
    "start_time": "2021-10-09T20:14:10.136Z"
   },
   {
    "duration": 2563,
    "start_time": "2021-10-09T20:14:12.385Z"
   },
   {
    "duration": 15,
    "start_time": "2021-10-09T20:14:57.166Z"
   },
   {
    "duration": 14,
    "start_time": "2021-10-09T20:14:59.141Z"
   },
   {
    "duration": 435,
    "start_time": "2021-10-09T20:15:10.755Z"
   },
   {
    "duration": 11,
    "start_time": "2021-10-09T20:16:02.053Z"
   },
   {
    "duration": 356,
    "start_time": "2021-10-09T20:22:24.379Z"
   },
   {
    "duration": 5,
    "start_time": "2021-10-09T20:28:22.915Z"
   },
   {
    "duration": 432,
    "start_time": "2021-10-09T20:28:42.474Z"
   },
   {
    "duration": 440,
    "start_time": "2021-10-09T20:29:07.403Z"
   },
   {
    "duration": 441,
    "start_time": "2021-10-09T20:29:11.914Z"
   },
   {
    "duration": 400,
    "start_time": "2021-10-09T20:29:49.794Z"
   },
   {
    "duration": 3,
    "start_time": "2021-10-09T20:30:45.826Z"
   },
   {
    "duration": 746,
    "start_time": "2021-10-09T20:31:22.630Z"
   },
   {
    "duration": 155,
    "start_time": "2021-10-09T20:31:30.598Z"
   },
   {
    "duration": 503,
    "start_time": "2021-10-09T20:31:45.448Z"
   },
   {
    "duration": 3,
    "start_time": "2021-10-09T20:32:07.855Z"
   },
   {
    "duration": 373,
    "start_time": "2021-10-09T20:32:11.773Z"
   },
   {
    "duration": 378,
    "start_time": "2021-10-09T20:32:25.138Z"
   },
   {
    "duration": 13,
    "start_time": "2021-10-09T20:32:53.295Z"
   },
   {
    "duration": 1446,
    "start_time": "2021-10-10T11:01:49.148Z"
   },
   {
    "duration": 5,
    "start_time": "2021-10-10T11:01:53.187Z"
   },
   {
    "duration": 4,
    "start_time": "2021-10-10T11:01:55.109Z"
   },
   {
    "duration": 136,
    "start_time": "2021-10-10T11:02:10.165Z"
   },
   {
    "duration": 14,
    "start_time": "2021-10-10T11:02:12.998Z"
   },
   {
    "duration": 22,
    "start_time": "2021-10-10T11:02:15.293Z"
   },
   {
    "duration": 56,
    "start_time": "2021-10-10T11:02:17.319Z"
   },
   {
    "duration": 416,
    "start_time": "2021-10-10T11:02:19.751Z"
   },
   {
    "duration": 4114,
    "start_time": "2021-10-10T11:02:30.211Z"
   },
   {
    "duration": 22,
    "start_time": "2021-10-10T11:32:45.382Z"
   },
   {
    "duration": 23,
    "start_time": "2021-10-10T11:32:57.412Z"
   },
   {
    "duration": 741,
    "start_time": "2021-10-10T11:33:44.646Z"
   },
   {
    "duration": 1044,
    "start_time": "2021-10-10T11:34:06.385Z"
   },
   {
    "duration": 1032,
    "start_time": "2021-10-10T11:34:18.510Z"
   },
   {
    "duration": 349,
    "start_time": "2021-10-10T11:34:42.385Z"
   },
   {
    "duration": 21,
    "start_time": "2021-10-10T11:35:30.151Z"
   },
   {
    "duration": 8,
    "start_time": "2021-10-10T11:42:19.702Z"
   },
   {
    "duration": 8,
    "start_time": "2021-10-10T11:42:24.729Z"
   },
   {
    "duration": 8,
    "start_time": "2021-10-10T11:42:31.650Z"
   },
   {
    "duration": 8,
    "start_time": "2021-10-10T11:42:38.176Z"
   },
   {
    "duration": 7,
    "start_time": "2021-10-10T11:42:42.540Z"
   },
   {
    "duration": 1475,
    "start_time": "2021-10-10T11:43:45.497Z"
   },
   {
    "duration": 5,
    "start_time": "2021-10-10T11:43:57.019Z"
   },
   {
    "duration": 4,
    "start_time": "2021-10-10T11:43:58.388Z"
   },
   {
    "duration": 157,
    "start_time": "2021-10-10T11:44:16.728Z"
   },
   {
    "duration": 14,
    "start_time": "2021-10-10T11:44:23.210Z"
   },
   {
    "duration": 21,
    "start_time": "2021-10-10T11:44:24.285Z"
   },
   {
    "duration": 57,
    "start_time": "2021-10-10T11:44:33.197Z"
   },
   {
    "duration": 3904,
    "start_time": "2021-10-10T11:44:44.896Z"
   },
   {
    "duration": 22,
    "start_time": "2021-10-10T11:45:00.511Z"
   },
   {
    "duration": 22,
    "start_time": "2021-10-10T11:45:02.627Z"
   },
   {
    "duration": 19,
    "start_time": "2021-10-10T11:45:03.458Z"
   },
   {
    "duration": 8,
    "start_time": "2021-10-10T11:45:04.433Z"
   },
   {
    "duration": 588,
    "start_time": "2021-10-10T11:45:27.333Z"
   },
   {
    "duration": 623,
    "start_time": "2021-10-10T11:46:55.802Z"
   },
   {
    "duration": 594,
    "start_time": "2021-10-10T11:47:20.770Z"
   },
   {
    "duration": 581,
    "start_time": "2021-10-10T11:47:33.828Z"
   },
   {
    "duration": 585,
    "start_time": "2021-10-10T11:47:37.518Z"
   },
   {
    "duration": 610,
    "start_time": "2021-10-10T11:48:10.390Z"
   },
   {
    "duration": 599,
    "start_time": "2021-10-10T11:48:25.377Z"
   },
   {
    "duration": 732,
    "start_time": "2021-10-10T11:48:40.046Z"
   },
   {
    "duration": 19,
    "start_time": "2021-10-10T11:49:01.998Z"
   },
   {
    "duration": 520,
    "start_time": "2021-10-10T11:49:43.475Z"
   },
   {
    "duration": 630,
    "start_time": "2021-10-10T11:50:00.822Z"
   },
   {
    "duration": 571,
    "start_time": "2021-10-10T11:50:39.188Z"
   },
   {
    "duration": 586,
    "start_time": "2021-10-10T11:51:17.391Z"
   },
   {
    "duration": 19,
    "start_time": "2021-10-10T11:52:38.124Z"
   },
   {
    "duration": 561,
    "start_time": "2021-10-10T11:55:04.735Z"
   },
   {
    "duration": 474,
    "start_time": "2021-10-10T11:56:57.734Z"
   },
   {
    "duration": 1442,
    "start_time": "2021-10-10T11:57:27.324Z"
   },
   {
    "duration": 4,
    "start_time": "2021-10-10T11:57:28.769Z"
   },
   {
    "duration": 4,
    "start_time": "2021-10-10T11:57:29.124Z"
   },
   {
    "duration": 140,
    "start_time": "2021-10-10T11:57:30.023Z"
   },
   {
    "duration": 13,
    "start_time": "2021-10-10T11:57:31.351Z"
   },
   {
    "duration": 23,
    "start_time": "2021-10-10T11:57:32.138Z"
   },
   {
    "duration": 61,
    "start_time": "2021-10-10T11:57:33.197Z"
   },
   {
    "duration": 4076,
    "start_time": "2021-10-10T11:57:34.051Z"
   },
   {
    "duration": 26,
    "start_time": "2021-10-10T11:57:47.755Z"
   },
   {
    "duration": 21,
    "start_time": "2021-10-10T11:57:47.911Z"
   },
   {
    "duration": 19,
    "start_time": "2021-10-10T11:57:48.092Z"
   },
   {
    "duration": 9,
    "start_time": "2021-10-10T11:57:48.879Z"
   },
   {
    "duration": 613,
    "start_time": "2021-10-10T11:57:54.963Z"
   },
   {
    "duration": 15,
    "start_time": "2021-10-10T11:57:57.947Z"
   },
   {
    "duration": 572,
    "start_time": "2021-10-10T11:58:00.513Z"
   },
   {
    "duration": 19,
    "start_time": "2021-10-10T11:58:04.777Z"
   },
   {
    "duration": 561,
    "start_time": "2021-10-10T11:58:11.719Z"
   },
   {
    "duration": 722,
    "start_time": "2021-10-10T11:58:21.034Z"
   },
   {
    "duration": 779,
    "start_time": "2021-10-10T11:59:17.738Z"
   },
   {
    "duration": 1132,
    "start_time": "2021-10-10T11:59:52.026Z"
   },
   {
    "duration": 990,
    "start_time": "2021-10-10T12:00:31.312Z"
   },
   {
    "duration": 940,
    "start_time": "2021-10-10T12:00:54.262Z"
   },
   {
    "duration": 761,
    "start_time": "2021-10-10T12:01:41.241Z"
   },
   {
    "duration": 739,
    "start_time": "2021-10-10T12:01:58.252Z"
   },
   {
    "duration": 869,
    "start_time": "2021-10-10T12:02:13.239Z"
   },
   {
    "duration": 994,
    "start_time": "2021-10-10T12:26:43.550Z"
   },
   {
    "duration": 982,
    "start_time": "2021-10-10T12:27:15.545Z"
   },
   {
    "duration": 1207,
    "start_time": "2021-10-10T12:28:08.330Z"
   },
   {
    "duration": 1144,
    "start_time": "2021-10-10T12:29:38.510Z"
   },
   {
    "duration": 1101,
    "start_time": "2021-10-10T12:31:04.103Z"
   },
   {
    "duration": 19,
    "start_time": "2021-10-10T12:31:27.591Z"
   },
   {
    "duration": 21,
    "start_time": "2021-10-10T13:19:08.343Z"
   },
   {
    "duration": 22,
    "start_time": "2021-10-10T13:19:27.881Z"
   },
   {
    "duration": 883,
    "start_time": "2021-10-10T13:20:07.868Z"
   },
   {
    "duration": 412,
    "start_time": "2021-10-10T13:20:19.455Z"
   },
   {
    "duration": 429,
    "start_time": "2021-10-10T13:42:04.769Z"
   },
   {
    "duration": 25,
    "start_time": "2021-10-10T13:42:39.172Z"
   },
   {
    "duration": 281,
    "start_time": "2021-10-10T13:42:53.550Z"
   },
   {
    "duration": 284,
    "start_time": "2021-10-10T13:43:20.483Z"
   },
   {
    "duration": 23,
    "start_time": "2021-10-10T13:43:42.350Z"
   },
   {
    "duration": 288,
    "start_time": "2021-10-10T13:43:47.645Z"
   },
   {
    "duration": 446,
    "start_time": "2021-10-10T13:44:16.126Z"
   },
   {
    "duration": 557,
    "start_time": "2021-10-10T13:45:11.039Z"
   },
   {
    "duration": 559,
    "start_time": "2021-10-10T13:45:25.943Z"
   },
   {
    "duration": 603,
    "start_time": "2021-10-10T13:45:37.201Z"
   },
   {
    "duration": 577,
    "start_time": "2021-10-10T13:45:50.671Z"
   },
   {
    "duration": 31,
    "start_time": "2021-10-10T14:03:12.349Z"
   },
   {
    "duration": 773,
    "start_time": "2021-10-10T14:10:24.589Z"
   },
   {
    "duration": 1143,
    "start_time": "2021-10-10T14:10:53.605Z"
   },
   {
    "duration": 706,
    "start_time": "2021-10-10T14:11:20.200Z"
   },
   {
    "duration": 718,
    "start_time": "2021-10-10T14:16:29.356Z"
   },
   {
    "duration": 759,
    "start_time": "2021-10-10T14:18:42.064Z"
   },
   {
    "duration": 32,
    "start_time": "2021-10-10T14:20:19.555Z"
   },
   {
    "duration": 777,
    "start_time": "2021-10-10T14:21:10.564Z"
   },
   {
    "duration": 31,
    "start_time": "2021-10-10T14:28:10.694Z"
   },
   {
    "duration": 837,
    "start_time": "2021-10-10T14:28:20.863Z"
   },
   {
    "duration": 743,
    "start_time": "2021-10-10T14:28:46.601Z"
   },
   {
    "duration": 17,
    "start_time": "2021-10-10T14:48:03.440Z"
   },
   {
    "duration": 5,
    "start_time": "2021-10-10T14:48:09.827Z"
   },
   {
    "duration": 17,
    "start_time": "2021-10-10T14:48:23.193Z"
   },
   {
    "duration": 17,
    "start_time": "2021-10-10T14:48:40.698Z"
   },
   {
    "duration": 30,
    "start_time": "2021-10-10T14:55:17.333Z"
   },
   {
    "duration": 9,
    "start_time": "2021-10-10T14:55:44.210Z"
   },
   {
    "duration": 31,
    "start_time": "2021-10-10T14:56:02.291Z"
   },
   {
    "duration": 9,
    "start_time": "2021-10-10T14:56:33.071Z"
   },
   {
    "duration": 13,
    "start_time": "2021-10-10T14:56:43.554Z"
   },
   {
    "duration": 18,
    "start_time": "2021-10-10T14:57:54.476Z"
   },
   {
    "duration": 31,
    "start_time": "2021-10-10T15:00:22.324Z"
   },
   {
    "duration": 19,
    "start_time": "2021-10-10T15:01:01.453Z"
   },
   {
    "duration": 1559,
    "start_time": "2021-10-10T15:19:43.455Z"
   },
   {
    "duration": 6,
    "start_time": "2021-10-10T15:19:54.257Z"
   },
   {
    "duration": 5,
    "start_time": "2021-10-10T15:19:57.630Z"
   },
   {
    "duration": 142,
    "start_time": "2021-10-10T15:20:58.925Z"
   },
   {
    "duration": 13,
    "start_time": "2021-10-10T15:21:00.814Z"
   },
   {
    "duration": 23,
    "start_time": "2021-10-10T15:21:02.701Z"
   },
   {
    "duration": 57,
    "start_time": "2021-10-10T15:21:06.213Z"
   },
   {
    "duration": 3803,
    "start_time": "2021-10-10T15:21:08.642Z"
   },
   {
    "duration": 24,
    "start_time": "2021-10-10T15:23:28.099Z"
   },
   {
    "duration": 22,
    "start_time": "2021-10-10T15:23:33.774Z"
   },
   {
    "duration": 21,
    "start_time": "2021-10-10T15:23:40.937Z"
   },
   {
    "duration": 10,
    "start_time": "2021-10-10T15:23:43.357Z"
   },
   {
    "duration": 606,
    "start_time": "2021-10-10T15:25:57.279Z"
   },
   {
    "duration": 17,
    "start_time": "2021-10-10T15:26:11.950Z"
   },
   {
    "duration": 566,
    "start_time": "2021-10-10T15:26:22.121Z"
   },
   {
    "duration": 19,
    "start_time": "2021-10-10T15:26:36.158Z"
   },
   {
    "duration": 569,
    "start_time": "2021-10-10T15:26:47.499Z"
   },
   {
    "duration": 735,
    "start_time": "2021-10-10T15:26:58.705Z"
   },
   {
    "duration": 751,
    "start_time": "2021-10-10T15:27:04.239Z"
   },
   {
    "duration": 1134,
    "start_time": "2021-10-10T15:27:28.270Z"
   },
   {
    "duration": 966,
    "start_time": "2021-10-10T15:28:08.243Z"
   },
   {
    "duration": 1067,
    "start_time": "2021-10-10T15:28:16.060Z"
   },
   {
    "duration": 23,
    "start_time": "2021-10-10T15:28:26.591Z"
   },
   {
    "duration": 574,
    "start_time": "2021-10-10T15:28:30.381Z"
   },
   {
    "duration": 732,
    "start_time": "2021-10-10T15:30:38.759Z"
   },
   {
    "duration": 734,
    "start_time": "2021-10-10T15:31:51.930Z"
   },
   {
    "duration": 861,
    "start_time": "2021-10-10T15:32:16.634Z"
   },
   {
    "duration": 860,
    "start_time": "2021-10-10T15:32:47.819Z"
   },
   {
    "duration": 771,
    "start_time": "2021-10-10T15:33:00.643Z"
   },
   {
    "duration": 718,
    "start_time": "2021-10-10T15:33:38.177Z"
   },
   {
    "duration": 18,
    "start_time": "2021-10-10T15:34:38.115Z"
   },
   {
    "duration": 20,
    "start_time": "2021-10-10T15:35:11.463Z"
   },
   {
    "duration": 1511,
    "start_time": "2021-10-10T15:49:13.368Z"
   },
   {
    "duration": 5,
    "start_time": "2021-10-10T15:49:14.882Z"
   },
   {
    "duration": 4,
    "start_time": "2021-10-10T15:49:14.900Z"
   },
   {
    "duration": 141,
    "start_time": "2021-10-10T15:49:14.906Z"
   },
   {
    "duration": 14,
    "start_time": "2021-10-10T15:49:15.049Z"
   },
   {
    "duration": 41,
    "start_time": "2021-10-10T15:49:15.065Z"
   },
   {
    "duration": 58,
    "start_time": "2021-10-10T15:49:15.108Z"
   },
   {
    "duration": 3905,
    "start_time": "2021-10-10T15:49:15.169Z"
   },
   {
    "duration": 37,
    "start_time": "2021-10-10T15:49:19.078Z"
   },
   {
    "duration": 27,
    "start_time": "2021-10-10T15:49:19.118Z"
   },
   {
    "duration": 19,
    "start_time": "2021-10-10T15:49:19.147Z"
   },
   {
    "duration": 33,
    "start_time": "2021-10-10T15:49:19.169Z"
   },
   {
    "duration": 622,
    "start_time": "2021-10-10T15:49:19.205Z"
   },
   {
    "duration": 15,
    "start_time": "2021-10-10T15:49:19.829Z"
   },
   {
    "duration": 591,
    "start_time": "2021-10-10T15:49:19.846Z"
   },
   {
    "duration": 20,
    "start_time": "2021-10-10T15:49:20.439Z"
   },
   {
    "duration": 691,
    "start_time": "2021-10-10T15:49:20.461Z"
   },
   {
    "duration": 765,
    "start_time": "2021-10-10T15:49:21.154Z"
   },
   {
    "duration": 774,
    "start_time": "2021-10-10T15:49:21.922Z"
   },
   {
    "duration": 1127,
    "start_time": "2021-10-10T15:49:22.701Z"
   },
   {
    "duration": 1002,
    "start_time": "2021-10-10T15:49:23.830Z"
   },
   {
    "duration": 1102,
    "start_time": "2021-10-10T15:49:24.834Z"
   },
   {
    "duration": 23,
    "start_time": "2021-10-10T15:49:25.939Z"
   },
   {
    "duration": 588,
    "start_time": "2021-10-10T15:49:25.965Z"
   },
   {
    "duration": 752,
    "start_time": "2021-10-10T15:49:26.556Z"
   },
   {
    "duration": 789,
    "start_time": "2021-10-10T15:49:27.311Z"
   },
   {
    "duration": 914,
    "start_time": "2021-10-10T15:49:28.104Z"
   },
   {
    "duration": 19,
    "start_time": "2021-10-10T15:49:29.020Z"
   },
   {
    "duration": 18,
    "start_time": "2021-10-10T15:49:29.042Z"
   },
   {
    "duration": 1456,
    "start_time": "2021-10-11T10:14:00.540Z"
   },
   {
    "duration": 5,
    "start_time": "2021-10-11T10:14:02.001Z"
   },
   {
    "duration": 26,
    "start_time": "2021-10-11T10:14:02.010Z"
   },
   {
    "duration": 154,
    "start_time": "2021-10-11T10:14:02.039Z"
   },
   {
    "duration": 12,
    "start_time": "2021-10-11T10:14:02.196Z"
   },
   {
    "duration": 31,
    "start_time": "2021-10-11T10:14:02.211Z"
   },
   {
    "duration": 72,
    "start_time": "2021-10-11T10:14:02.244Z"
   },
   {
    "duration": 4113,
    "start_time": "2021-10-11T10:14:02.318Z"
   },
   {
    "duration": 23,
    "start_time": "2021-10-11T10:14:06.435Z"
   },
   {
    "duration": 45,
    "start_time": "2021-10-11T10:14:06.462Z"
   },
   {
    "duration": 20,
    "start_time": "2021-10-11T10:14:06.509Z"
   },
   {
    "duration": 9,
    "start_time": "2021-10-11T10:14:06.531Z"
   },
   {
    "duration": 658,
    "start_time": "2021-10-11T10:14:06.542Z"
   },
   {
    "duration": 15,
    "start_time": "2021-10-11T10:14:07.203Z"
   },
   {
    "duration": 600,
    "start_time": "2021-10-11T10:14:07.221Z"
   },
   {
    "duration": 17,
    "start_time": "2021-10-11T10:14:07.824Z"
   },
   {
    "duration": 601,
    "start_time": "2021-10-11T10:14:07.844Z"
   },
   {
    "duration": 795,
    "start_time": "2021-10-11T10:14:08.447Z"
   },
   {
    "duration": 799,
    "start_time": "2021-10-11T10:14:09.245Z"
   },
   {
    "duration": 1233,
    "start_time": "2021-10-11T10:14:10.046Z"
   },
   {
    "duration": 1183,
    "start_time": "2021-10-11T10:14:11.281Z"
   },
   {
    "duration": 1114,
    "start_time": "2021-10-11T10:14:12.467Z"
   },
   {
    "duration": 37,
    "start_time": "2021-10-11T10:14:13.584Z"
   },
   {
    "duration": 595,
    "start_time": "2021-10-11T10:14:13.624Z"
   },
   {
    "duration": 792,
    "start_time": "2021-10-11T10:14:14.222Z"
   },
   {
    "duration": 813,
    "start_time": "2021-10-11T10:14:15.016Z"
   },
   {
    "duration": 904,
    "start_time": "2021-10-11T10:14:15.833Z"
   },
   {
    "duration": 19,
    "start_time": "2021-10-11T10:14:16.739Z"
   },
   {
    "duration": 43,
    "start_time": "2021-10-11T10:14:16.760Z"
   },
   {
    "duration": 1155,
    "start_time": "2021-10-11T19:21:05.866Z"
   },
   {
    "duration": 3,
    "start_time": "2021-10-11T19:22:10.404Z"
   },
   {
    "duration": 3,
    "start_time": "2021-10-11T19:22:13.936Z"
   },
   {
    "duration": 93,
    "start_time": "2021-10-11T19:22:17.010Z"
   },
   {
    "duration": 9,
    "start_time": "2021-10-11T19:22:19.343Z"
   },
   {
    "duration": 11,
    "start_time": "2021-10-11T19:22:20.265Z"
   },
   {
    "duration": 3,
    "start_time": "2021-10-11T19:22:58.110Z"
   },
   {
    "duration": 19,
    "start_time": "2021-10-11T19:23:01.697Z"
   },
   {
    "duration": 4,
    "start_time": "2021-10-11T19:23:29.987Z"
   },
   {
    "duration": 14,
    "start_time": "2021-10-11T19:23:33.136Z"
   },
   {
    "duration": 3,
    "start_time": "2021-10-11T19:23:53.809Z"
   },
   {
    "duration": 14,
    "start_time": "2021-10-11T19:23:56.909Z"
   },
   {
    "duration": 4,
    "start_time": "2021-10-11T19:24:25.683Z"
   },
   {
    "duration": 13,
    "start_time": "2021-10-11T19:24:32.801Z"
   },
   {
    "duration": 4,
    "start_time": "2021-10-11T19:24:36.729Z"
   },
   {
    "duration": 13,
    "start_time": "2021-10-11T19:24:38.620Z"
   },
   {
    "duration": 13,
    "start_time": "2021-10-11T19:25:20.654Z"
   },
   {
    "duration": 3,
    "start_time": "2021-10-11T19:25:37.563Z"
   },
   {
    "duration": 1187,
    "start_time": "2021-10-11T19:26:00.248Z"
   },
   {
    "duration": 4,
    "start_time": "2021-10-11T19:26:03.610Z"
   },
   {
    "duration": 3,
    "start_time": "2021-10-11T19:27:16.198Z"
   },
   {
    "duration": 95,
    "start_time": "2021-10-11T19:27:17.827Z"
   },
   {
    "duration": 92,
    "start_time": "2021-10-11T19:28:46.718Z"
   },
   {
    "duration": 456,
    "start_time": "2021-10-11T19:29:00.591Z"
   },
   {
    "duration": 249,
    "start_time": "2021-10-11T19:29:08.256Z"
   },
   {
    "duration": 88,
    "start_time": "2021-10-11T19:29:37.554Z"
   },
   {
    "duration": 93,
    "start_time": "2021-10-11T19:30:57.457Z"
   },
   {
    "duration": 100,
    "start_time": "2021-10-11T19:31:37.785Z"
   },
   {
    "duration": 10,
    "start_time": "2021-10-11T19:32:07.854Z"
   },
   {
    "duration": 21,
    "start_time": "2021-10-11T19:32:09.017Z"
   },
   {
    "duration": 39,
    "start_time": "2021-10-11T19:32:13.253Z"
   },
   {
    "duration": 2169,
    "start_time": "2021-10-11T19:32:15.448Z"
   },
   {
    "duration": 16,
    "start_time": "2021-10-11T19:33:57.432Z"
   },
   {
    "duration": 15,
    "start_time": "2021-10-11T19:34:36.148Z"
   },
   {
    "duration": 13,
    "start_time": "2021-10-11T19:34:37.505Z"
   },
   {
    "duration": 5,
    "start_time": "2021-10-11T19:34:37.913Z"
   },
   {
    "duration": 338,
    "start_time": "2021-10-11T19:34:41.325Z"
   },
   {
    "duration": 70,
    "start_time": "2021-10-11T19:35:30.357Z"
   },
   {
    "duration": 10,
    "start_time": "2021-10-11T19:35:40.599Z"
   },
   {
    "duration": 340,
    "start_time": "2021-10-11T19:35:49.245Z"
   },
   {
    "duration": 13,
    "start_time": "2021-10-11T19:35:58.311Z"
   },
   {
    "duration": 328,
    "start_time": "2021-10-11T19:36:05.736Z"
   },
   {
    "duration": 338,
    "start_time": "2021-10-11T19:36:10.792Z"
   },
   {
    "duration": 423,
    "start_time": "2021-10-11T19:36:30.852Z"
   },
   {
    "duration": 786,
    "start_time": "2021-10-11T19:37:23.310Z"
   },
   {
    "duration": 414,
    "start_time": "2021-10-11T19:37:49.856Z"
   },
   {
    "duration": 77,
    "start_time": "2021-10-11T19:38:14.382Z"
   },
   {
    "duration": 442,
    "start_time": "2021-10-11T19:38:45.781Z"
   },
   {
    "duration": 583,
    "start_time": "2021-10-11T19:38:55.363Z"
   },
   {
    "duration": 609,
    "start_time": "2021-10-11T19:38:57.219Z"
   },
   {
    "duration": 751,
    "start_time": "2021-10-11T19:38:59.072Z"
   },
   {
    "duration": 16,
    "start_time": "2021-10-11T19:39:14.806Z"
   },
   {
    "duration": 402,
    "start_time": "2021-10-11T19:39:16.469Z"
   },
   {
    "duration": 431,
    "start_time": "2021-10-11T19:39:19.608Z"
   },
   {
    "duration": 420,
    "start_time": "2021-10-11T19:39:20.192Z"
   },
   {
    "duration": 396,
    "start_time": "2021-10-11T19:39:26.195Z"
   },
   {
    "duration": 11,
    "start_time": "2021-10-11T19:41:03.689Z"
   },
   {
    "duration": 12,
    "start_time": "2021-10-11T19:41:27.775Z"
   },
   {
    "duration": 1060,
    "start_time": "2021-10-11T19:43:39.090Z"
   },
   {
    "duration": 3,
    "start_time": "2021-10-11T19:43:40.152Z"
   },
   {
    "duration": 28,
    "start_time": "2021-10-11T19:43:40.157Z"
   },
   {
    "duration": 116,
    "start_time": "2021-10-11T19:43:40.187Z"
   },
   {
    "duration": 8,
    "start_time": "2021-10-11T19:43:40.305Z"
   },
   {
    "duration": 24,
    "start_time": "2021-10-11T19:43:40.315Z"
   },
   {
    "duration": 49,
    "start_time": "2021-10-11T19:43:40.341Z"
   },
   {
    "duration": 2078,
    "start_time": "2021-10-11T19:43:40.392Z"
   },
   {
    "duration": 15,
    "start_time": "2021-10-11T19:43:42.473Z"
   },
   {
    "duration": 17,
    "start_time": "2021-10-11T19:43:42.490Z"
   },
   {
    "duration": 11,
    "start_time": "2021-10-11T19:43:42.509Z"
   },
   {
    "duration": 25,
    "start_time": "2021-10-11T19:43:42.522Z"
   },
   {
    "duration": 449,
    "start_time": "2021-10-11T19:43:42.549Z"
   },
   {
    "duration": 11,
    "start_time": "2021-10-11T19:43:43.000Z"
   },
   {
    "duration": 332,
    "start_time": "2021-10-11T19:43:43.013Z"
   },
   {
    "duration": 12,
    "start_time": "2021-10-11T19:43:43.346Z"
   },
   {
    "duration": 329,
    "start_time": "2021-10-11T19:43:43.360Z"
   },
   {
    "duration": 427,
    "start_time": "2021-10-11T19:43:43.691Z"
   },
   {
    "duration": 496,
    "start_time": "2021-10-11T19:43:44.120Z"
   },
   {
    "duration": 702,
    "start_time": "2021-10-11T19:43:44.618Z"
   },
   {
    "duration": 607,
    "start_time": "2021-10-11T19:43:45.322Z"
   },
   {
    "duration": 684,
    "start_time": "2021-10-11T19:43:45.931Z"
   },
   {
    "duration": 15,
    "start_time": "2021-10-11T19:43:46.617Z"
   },
   {
    "duration": 337,
    "start_time": "2021-10-11T19:43:46.633Z"
   },
   {
    "duration": 438,
    "start_time": "2021-10-11T19:43:46.971Z"
   },
   {
    "duration": 436,
    "start_time": "2021-10-11T19:43:47.410Z"
   },
   {
    "duration": 487,
    "start_time": "2021-10-11T19:43:47.848Z"
   },
   {
    "duration": 16,
    "start_time": "2021-10-11T19:43:48.336Z"
   },
   {
    "duration": 10,
    "start_time": "2021-10-11T19:43:48.354Z"
   },
   {
    "duration": 1484,
    "start_time": "2021-10-12T22:18:41.481Z"
   },
   {
    "duration": 5,
    "start_time": "2021-10-12T22:18:45.433Z"
   },
   {
    "duration": 5,
    "start_time": "2021-10-12T22:18:51.952Z"
   },
   {
    "duration": 144,
    "start_time": "2021-10-12T22:18:54.415Z"
   },
   {
    "duration": 14,
    "start_time": "2021-10-12T22:18:59.718Z"
   },
   {
    "duration": 24,
    "start_time": "2021-10-12T22:19:00.706Z"
   },
   {
    "duration": 66,
    "start_time": "2021-10-12T22:19:01.766Z"
   },
   {
    "duration": 3753,
    "start_time": "2021-10-12T22:19:04.818Z"
   },
   {
    "duration": 29,
    "start_time": "2021-10-12T22:20:43.476Z"
   },
   {
    "duration": 22,
    "start_time": "2021-10-12T22:20:47.627Z"
   },
   {
    "duration": 21,
    "start_time": "2021-10-12T22:20:48.752Z"
   },
   {
    "duration": 9,
    "start_time": "2021-10-12T22:20:49.594Z"
   },
   {
    "duration": 698,
    "start_time": "2021-10-12T22:21:02.345Z"
   },
   {
    "duration": 18,
    "start_time": "2021-10-12T22:21:07.399Z"
   },
   {
    "duration": 534,
    "start_time": "2021-10-12T22:21:08.365Z"
   },
   {
    "duration": 19,
    "start_time": "2021-10-12T22:21:13.116Z"
   },
   {
    "duration": 547,
    "start_time": "2021-10-12T22:21:14.243Z"
   },
   {
    "duration": 712,
    "start_time": "2021-10-12T22:21:19.074Z"
   },
   {
    "duration": 732,
    "start_time": "2021-10-12T22:21:24.051Z"
   },
   {
    "duration": 1071,
    "start_time": "2021-10-12T22:21:26.090Z"
   },
   {
    "duration": 1009,
    "start_time": "2021-10-12T22:21:27.164Z"
   },
   {
    "duration": 1067,
    "start_time": "2021-10-12T22:21:28.176Z"
   },
   {
    "duration": 23,
    "start_time": "2021-10-12T22:21:33.561Z"
   },
   {
    "duration": 556,
    "start_time": "2021-10-12T22:21:36.863Z"
   },
   {
    "duration": 708,
    "start_time": "2021-10-12T22:22:24.340Z"
   },
   {
    "duration": 753,
    "start_time": "2021-10-12T22:22:26.861Z"
   },
   {
    "duration": 1048,
    "start_time": "2021-10-12T22:22:30.073Z"
   },
   {
    "duration": 17,
    "start_time": "2021-10-12T22:22:52.558Z"
   },
   {
    "duration": 16,
    "start_time": "2021-10-12T22:23:01.307Z"
   },
   {
    "duration": 1536,
    "start_time": "2021-10-12T22:23:56.677Z"
   },
   {
    "duration": 5,
    "start_time": "2021-10-12T22:23:58.216Z"
   },
   {
    "duration": 27,
    "start_time": "2021-10-12T22:23:58.227Z"
   },
   {
    "duration": 139,
    "start_time": "2021-10-12T22:23:58.257Z"
   },
   {
    "duration": 12,
    "start_time": "2021-10-12T22:23:58.398Z"
   },
   {
    "duration": 20,
    "start_time": "2021-10-12T22:23:58.412Z"
   },
   {
    "duration": 86,
    "start_time": "2021-10-12T22:23:58.435Z"
   },
   {
    "duration": 3723,
    "start_time": "2021-10-12T22:23:58.527Z"
   },
   {
    "duration": 24,
    "start_time": "2021-10-12T22:24:02.258Z"
   },
   {
    "duration": 37,
    "start_time": "2021-10-12T22:24:02.284Z"
   },
   {
    "duration": 37,
    "start_time": "2021-10-12T22:24:02.324Z"
   },
   {
    "duration": 22,
    "start_time": "2021-10-12T22:24:02.363Z"
   },
   {
    "duration": 649,
    "start_time": "2021-10-12T22:24:02.387Z"
   },
   {
    "duration": 20,
    "start_time": "2021-10-12T22:24:03.039Z"
   },
   {
    "duration": 553,
    "start_time": "2021-10-12T22:24:03.062Z"
   },
   {
    "duration": 18,
    "start_time": "2021-10-12T22:24:03.617Z"
   },
   {
    "duration": 747,
    "start_time": "2021-10-12T22:24:03.637Z"
   },
   {
    "duration": 747,
    "start_time": "2021-10-12T22:24:04.386Z"
   },
   {
    "duration": 1032,
    "start_time": "2021-10-12T22:24:05.136Z"
   },
   {
    "duration": 1208,
    "start_time": "2021-10-12T22:24:06.170Z"
   },
   {
    "duration": 995,
    "start_time": "2021-10-12T22:24:07.380Z"
   },
   {
    "duration": 1090,
    "start_time": "2021-10-12T22:24:08.378Z"
   },
   {
    "duration": 24,
    "start_time": "2021-10-12T22:24:09.470Z"
   },
   {
    "duration": 680,
    "start_time": "2021-10-12T22:24:09.496Z"
   },
   {
    "duration": 735,
    "start_time": "2021-10-12T22:24:10.178Z"
   },
   {
    "duration": 740,
    "start_time": "2021-10-12T22:24:10.917Z"
   },
   {
    "duration": 803,
    "start_time": "2021-10-12T22:24:11.660Z"
   },
   {
    "duration": 16,
    "start_time": "2021-10-12T22:24:12.466Z"
   },
   {
    "duration": 19,
    "start_time": "2021-10-12T22:24:12.485Z"
   }
  ],
  "kernelspec": {
   "display_name": "Python 3",
   "language": "python",
   "name": "python3"
  },
  "language_info": {
   "codemirror_mode": {
    "name": "ipython",
    "version": 3
   },
   "file_extension": ".py",
   "mimetype": "text/x-python",
   "name": "python",
   "nbconvert_exporter": "python",
   "pygments_lexer": "ipython3",
   "version": "3.7.8"
  },
  "toc": {
   "base_numbering": 1,
   "nav_menu": {},
   "number_sections": true,
   "sideBar": true,
   "skip_h1_title": true,
   "title_cell": "Содержание",
   "title_sidebar": "Contents",
   "toc_cell": true,
   "toc_position": {
    "height": "calc(100% - 180px)",
    "left": "10px",
    "top": "150px",
    "width": "255.404px"
   },
   "toc_section_display": true,
   "toc_window_display": true
  }
 },
 "nbformat": 4,
 "nbformat_minor": 2
}
