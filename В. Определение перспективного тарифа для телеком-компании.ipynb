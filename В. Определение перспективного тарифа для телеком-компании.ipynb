{
 "cells": [
  {
   "cell_type": "markdown",
   "metadata": {},
   "source": [
    "<div style=\"border:solid green 2px; padding: 20px\"> <h1 style=\"color:green; margin-bottom:20px\">Комментарий ревьюера v1</h1>\n",
    "\n",
    "Аскар, привет! Меня зовут Дмитрий Пышненко, и я буду проверять твой проект. Предлагаю общаться на «ты» если ты не против 😊 Но если нет, то дай знать, и мы перейдем на \"вы\". \n",
    "    \n",
    "Для своих комментариев я буду использовать цветовую разметку:\n",
    "\n",
    "<div class=\"alert alert-success\">\n",
    "    <b>Успех:</b> все сделано правильно.\n",
    "</div>\n",
    "<div class=\"alert alert-warning\">\n",
    "    <b>Есть замечания:</b> так выделены небольшие замечания которые не критичны, но было бы здорово исправить. Если таких замечаний немного, то такой проект может быть принят.\n",
    "</div>\n",
    "<div class=\"alert alert-danger\">\n",
    "    <b>Нужно переделать:</b> есть замечания которые необходимо исправить или доделать для сдачи проекта.\n",
    "</div>\n",
    "    \n",
    "Я буду поддерживать версионность комментариев, и при следующих итерациях я буду оставлять ячейки с новой версией v2 (v3 и.т.д.)\"\n",
    "    \n",
    "Если у тебя есть вопросы, замечания или отвечаешь на комментарии — пиши об этом. Мне будет легче отследить изменения, если ты выделишь свои комментарии: \n",
    "<div class=\"alert alert-info\"> <b>Комментарий студента:</b> Например, вот так.</div>"
   ]
  },
  {
   "cell_type": "markdown",
   "metadata": {},
   "source": [
    "<div style=\"border:solid green 2px; padding: 20px\">\n",
    "<b>Комментарий ревьюера v1:</b>\n",
    "    \n",
    "<b>Общее впечатление:</b> \n",
    "    \n",
    "- У тебя получилась хорошая работа, поздравляю! Очень чистый код и структурированный подход к решению задачи. \n",
    "- Оставил несколько критических замечаний по ходу проекта которые необходимо исправить для сдачи проекта (буду также рад исправлениям желтых:):\n",
    "    - Проверить нулевые аномалии в данных.\n",
    "    - Немного расширить общие выводы (ответить на главный вопрос от бизнеса и оставить свои рекомендации на основе анализа данных).\n",
    "    \n",
    "Буду ждать новую версию на повторную проверку. Успехов!\n",
    "    \n",
    "</div>"
   ]
  },
  {
   "cell_type": "markdown",
   "metadata": {},
   "source": [
    "<div style=\"border:solid green 2px; padding: 20px\">\n",
    "<b>Комментарий ревьюера v2:</b>\n",
    "    \n",
    "Спасибо, что оперативно внес исправления! Оставил только дополнительные советы/рекомендации. Придраться теперь не к чему, а проект так и просится в портфолио на Гитхаб :) \n",
    "    \n",
    "PS: Если наскучит ~~нетфликс~~ кинопоискHD, то могу порекомендовать крутые лекции по стат анализу тут: - https://www.youtube.com/watch?v=enpPFqcIFj8&list=PLlb7e2G7aSpRb95_Wi7lZ-zA6fOjV3_l7    \n",
    "    \n",
    "PSS: Извиняюсь за долгую проверку работы из-за технических работ на платформе и демотивацию к учебе :( Но, надеюсь, все скоро заработает.\n",
    "Было интересно проверять твой проект и осталось только пожелать успехов на следующих спринтах 🔥\n",
    "    \n",
    "</div>"
   ]
  },
  {
   "cell_type": "markdown",
   "metadata": {},
   "source": [
    "# Определение перспективного тарифа для телеком-компании\n",
    "\n",
    "Вы аналитик компании «Мегалайн» — федерального оператора сотовой связи. Клиентам предлагают два тарифных плана: «Смарт» и «Ультра». Чтобы скорректировать рекламный бюджет, коммерческий департамент хочет понять, какой тариф приносит больше денег.\n",
    "Вам предстоит сделать предварительный анализ тарифов на небольшой выборке клиентов. В вашем распоряжении данные 500 пользователей «Мегалайна»: кто они, откуда, каким тарифом пользуются, сколько звонков и сообщений каждый отправил за 2018 год. Нужно проанализировать поведение клиентов и сделать вывод — какой тариф лучше.\n",
    "\n",
    "**Тариф «Смарт»**\n",
    "1. Ежемесячная плата: 550 рублей\n",
    "2. Включено 500 минут разговора, 50 сообщений и 15 Гб интернет-трафика\n",
    "3. Стоимость услуг сверх тарифного пакета: 1. минута разговора: 3 рубля («Мегалайн» всегда округляет вверх значения минут и мегабайтов. Если пользователь проговорил всего 1 секунду, в тарифе засчитывается целая минута); 2. сообщение: 3 рубля; 3. 1 Гб интернет-трафика: 200 рублей.\n",
    "\n",
    "**Тариф «Ультра»**\n",
    "1. Ежемесячная плата: 1950 рублей\n",
    "2. Включено 3000 минут разговора, 1000 сообщений и 30 Гб интернет-трафика\n",
    "3. Стоимость услуг сверх тарифного пакета: 1. минута разговора: 1 рубль; 2. сообщение: 1 рубль; 3. 1 Гб интернет-трафика: 150 рублей."
   ]
  },
  {
   "cell_type": "markdown",
   "metadata": {},
   "source": [
    "<div class=\"alert alert-success\">\n",
    "<b>Комментарий ревьюера v1:</b>\n",
    "    \n",
    "Хорошее начало! Будет совсем хорошо, если основную цель, задачи проекта и общее описание выделить отдельным абзацем, а также добавить автоматическое оглавление.  При создании портфолио на гитхабе данная информация может выступать в качестве Readme файла. Прочитать про создание README можно, например, тут https://medium.com/nuances-of-programming/как-написать-хороший-readme-краткий-курс-79aede120702\n",
    "</div>"
   ]
  },
  {
   "cell_type": "markdown",
   "metadata": {
    "toc": true
   },
   "source": [
    "<h1>Содержание<span class=\"tocSkip\"></span></h1>\n",
    "<div class=\"toc\"><ul class=\"toc-item\"><li><span><a href=\"#Подключение-библиотек\" data-toc-modified-id=\"Подключение-библиотек-1\"><span class=\"toc-item-num\">1&nbsp;&nbsp;</span>Подключение библиотек</a></span></li><li><span><a href=\"#Инициализация-функций\" data-toc-modified-id=\"Инициализация-функций-2\"><span class=\"toc-item-num\">2&nbsp;&nbsp;</span>Инициализация функций</a></span><ul class=\"toc-item\"><li><span><a href=\"#Процент-пропущенных-значений-в-каждом-столбце\" data-toc-modified-id=\"Процент-пропущенных-значений-в-каждом-столбце-2.1\"><span class=\"toc-item-num\">2.1&nbsp;&nbsp;</span>Процент пропущенных значений в каждом столбце</a></span></li><li><span><a href=\"#Ежемесячные-переплаты-по-тарифу\" data-toc-modified-id=\"Ежемесячные-переплаты-по-тарифу-2.2\"><span class=\"toc-item-num\">2.2&nbsp;&nbsp;</span>Ежемесячные переплаты по тарифу</a></span></li></ul></li><li><span><a href=\"#Изучение-данных-из-файлов\" data-toc-modified-id=\"Изучение-данных-из-файлов-3\"><span class=\"toc-item-num\">3&nbsp;&nbsp;</span>Изучение данных из файлов</a></span><ul class=\"toc-item\"><li><span><a href=\"#Таблица-users-(информация-о-пользователях)\" data-toc-modified-id=\"Таблица-users-(информация-о-пользователях)-3.1\"><span class=\"toc-item-num\">3.1&nbsp;&nbsp;</span>Таблица users (информация о пользователях)</a></span></li><li><span><a href=\"#Таблица-calls-(информация-о-звонках)\" data-toc-modified-id=\"Таблица-calls-(информация-о-звонках)-3.2\"><span class=\"toc-item-num\">3.2&nbsp;&nbsp;</span>Таблица calls (информация о звонках)</a></span></li><li><span><a href=\"#Таблица-messages-(информация-о-сообщениях)\" data-toc-modified-id=\"Таблица-messages-(информация-о-сообщениях)-3.3\"><span class=\"toc-item-num\">3.3&nbsp;&nbsp;</span>Таблица messages (информация о сообщениях)</a></span></li><li><span><a href=\"#Таблица-internet-(информация-об-интернет-сессиях)\" data-toc-modified-id=\"Таблица-internet-(информация-об-интернет-сессиях)-3.4\"><span class=\"toc-item-num\">3.4&nbsp;&nbsp;</span>Таблица internet (информация об интернет-сессиях)</a></span></li><li><span><a href=\"#Таблица-tariffs-(информация-о-тарифах)\" data-toc-modified-id=\"Таблица-tariffs-(информация-о-тарифах)-3.5\"><span class=\"toc-item-num\">3.5&nbsp;&nbsp;</span>Таблица tariffs (информация о тарифах)</a></span></li><li><span><a href=\"#Вывод\" data-toc-modified-id=\"Вывод-3.6\"><span class=\"toc-item-num\">3.6&nbsp;&nbsp;</span>Вывод</a></span></li></ul></li><li><span><a href=\"#Расчёты-и-добавление-результатов-в-таблицу\" data-toc-modified-id=\"Расчёты-и-добавление-результатов-в-таблицу-4\"><span class=\"toc-item-num\">4&nbsp;&nbsp;</span>Расчёты и добавление результатов в таблицу</a></span><ul class=\"toc-item\"><li><span><a href=\"#Количество-сделанных-звонков-и-израсходованных-минут-разговора-по-месяцам\" data-toc-modified-id=\"Количество-сделанных-звонков-и-израсходованных-минут-разговора-по-месяцам-4.1\"><span class=\"toc-item-num\">4.1&nbsp;&nbsp;</span>Количество сделанных звонков и израсходованных минут разговора по месяцам</a></span></li><li><span><a href=\"#Количество-отправленных-сообщений-по-месяцам\" data-toc-modified-id=\"Количество-отправленных-сообщений-по-месяцам-4.2\"><span class=\"toc-item-num\">4.2&nbsp;&nbsp;</span>Количество отправленных сообщений по месяцам</a></span></li><li><span><a href=\"#Объем-израсходованного-интернет-трафика-по-месяцам\" data-toc-modified-id=\"Объем-израсходованного-интернет-трафика-по-месяцам-4.3\"><span class=\"toc-item-num\">4.3&nbsp;&nbsp;</span>Объем израсходованного интернет-трафика по месяцам</a></span></li><li><span><a href=\"#Помесячная-выручка-с-каждого-пользователя\" data-toc-modified-id=\"Помесячная-выручка-с-каждого-пользователя-4.4\"><span class=\"toc-item-num\">4.4&nbsp;&nbsp;</span>Помесячная выручка с каждого пользователя</a></span></li><li><span><a href=\"#Вывод\" data-toc-modified-id=\"Вывод-4.5\"><span class=\"toc-item-num\">4.5&nbsp;&nbsp;</span>Вывод</a></span></li></ul></li><li><span><a href=\"#Анализ-данных\" data-toc-modified-id=\"Анализ-данных-5\"><span class=\"toc-item-num\">5&nbsp;&nbsp;</span>Анализ данных</a></span><ul class=\"toc-item\"><li><span><a href=\"#Графический-анализ-разговоров,-сообщений,-объёма-трафика-и-переплаты-по-каждому-тарифу\" data-toc-modified-id=\"Графический-анализ-разговоров,-сообщений,-объёма-трафика-и-переплаты-по-каждому-тарифу-5.1\"><span class=\"toc-item-num\">5.1&nbsp;&nbsp;</span>Графический анализ разговоров, сообщений, объёма трафика и переплаты по каждому тарифу</a></span></li><li><span><a href=\"#Статистический-анализ-разговоров,-сообщений-и-объёма-интернет-трафика-по-каждому-тарифу\" data-toc-modified-id=\"Статистический-анализ-разговоров,-сообщений-и-объёма-интернет-трафика-по-каждому-тарифу-5.2\"><span class=\"toc-item-num\">5.2&nbsp;&nbsp;</span>Статистический анализ разговоров, сообщений и объёма интернет-трафика по каждому тарифу</a></span></li><li><span><a href=\"#Вывод\" data-toc-modified-id=\"Вывод-5.3\"><span class=\"toc-item-num\">5.3&nbsp;&nbsp;</span>Вывод</a></span></li></ul></li><li><span><a href=\"#Очистка-данных-от-выбросов\" data-toc-modified-id=\"Очистка-данных-от-выбросов-6\"><span class=\"toc-item-num\">6&nbsp;&nbsp;</span>Очистка данных от выбросов</a></span><ul class=\"toc-item\"><li><span><a href=\"#Фильтр-по-квантилям\" data-toc-modified-id=\"Фильтр-по-квантилям-6.1\"><span class=\"toc-item-num\">6.1&nbsp;&nbsp;</span>Фильтр по квантилям</a></span></li><li><span><a href=\"#Вывод\" data-toc-modified-id=\"Вывод-6.2\"><span class=\"toc-item-num\">6.2&nbsp;&nbsp;</span>Вывод</a></span></li></ul></li><li><span><a href=\"#Проверка-гипотез\" data-toc-modified-id=\"Проверка-гипотез-7\"><span class=\"toc-item-num\">7&nbsp;&nbsp;</span>Проверка гипотез</a></span><ul class=\"toc-item\"><li><span><a href=\"#Cредняя-выручка-пользователей-тарифов-«Ультра»-и-«Смарт»-различаются\" data-toc-modified-id=\"Cредняя-выручка-пользователей-тарифов-«Ультра»-и-«Смарт»-различаются-7.1\"><span class=\"toc-item-num\">7.1&nbsp;&nbsp;</span>Cредняя выручка пользователей тарифов «Ультра» и «Смарт» различаются</a></span></li><li><span><a href=\"#Выручка-пользователей-из-Москвы-отличается-от-выручки-пользователей-из-других-регионов\" data-toc-modified-id=\"Выручка-пользователей-из-Москвы-отличается-от-выручки-пользователей-из-других-регионов-7.2\"><span class=\"toc-item-num\">7.2&nbsp;&nbsp;</span>Выручка пользователей из Москвы отличается от выручки пользователей из других регионов</a></span></li><li><span><a href=\"#Вывод\" data-toc-modified-id=\"Вывод-7.3\"><span class=\"toc-item-num\">7.3&nbsp;&nbsp;</span>Вывод</a></span></li></ul></li><li><span><a href=\"#Общий-вывод\" data-toc-modified-id=\"Общий-вывод-8\"><span class=\"toc-item-num\">8&nbsp;&nbsp;</span>Общий вывод</a></span></li></ul></div>"
   ]
  },
  {
   "cell_type": "markdown",
   "metadata": {},
   "source": [
    "<div class=\"alert alert-info\"> <b>Комментарий студента:</b> Добавил содержание.</div>"
   ]
  },
  {
   "cell_type": "markdown",
   "metadata": {},
   "source": [
    "<div class=\"alert alert-success\">\n",
    "<b>Комментарий ревьюера v2:</b>\n",
    "    \n",
    "Отлично!\n",
    "\n",
    "</div>"
   ]
  },
  {
   "cell_type": "markdown",
   "metadata": {},
   "source": [
    "## Подключение библиотек"
   ]
  },
  {
   "cell_type": "code",
   "execution_count": 1,
   "metadata": {},
   "outputs": [],
   "source": [
    "import numpy as np\n",
    "import pandas as pd\n",
    "\n",
    "import matplotlib.pyplot as plt\n",
    "\n",
    "from scipy import stats as st"
   ]
  },
  {
   "cell_type": "markdown",
   "metadata": {},
   "source": [
    "## Инициализация функций"
   ]
  },
  {
   "cell_type": "markdown",
   "metadata": {},
   "source": [
    "### Процент пропущенных значений в каждом столбце"
   ]
  },
  {
   "cell_type": "code",
   "execution_count": 2,
   "metadata": {},
   "outputs": [],
   "source": [
    "def get_missing_values(df):\n",
    "    report = df.isna().sum().to_frame()\n",
    "    report = report.rename(columns = {0: 'missing_values'})\n",
    "    report['% of total'] = (report['missing_values'] / df.shape[0]).round(2)\n",
    "    report.sort_values(by = 'missing_values', ascending = False, inplace=True)\n",
    "    \n",
    "    return report"
   ]
  },
  {
   "cell_type": "markdown",
   "metadata": {},
   "source": [
    "### Ежемесячные переплаты по тарифу"
   ]
  },
  {
   "cell_type": "code",
   "execution_count": 3,
   "metadata": {},
   "outputs": [],
   "source": [
    "def get_overpayments_on_tariff(row):\n",
    "    duration = (row['duration_sum'] - row['minutes_included']) * row['rub_per_minute']\n",
    "    message = (row['messages_count'] - row['messages_included']) * row['rub_per_message']\n",
    "    mb = (row['gb_used_sum'] - row['gb_per_month_included']) * row['rub_per_gb']\n",
    "    \n",
    "    overpayments = 0\n",
    "    \n",
    "    for i in [duration, message, mb]:\n",
    "        if i > 0:\n",
    "            overpayments += i\n",
    "            \n",
    "    return overpayments + row['rub_monthly_fee']"
   ]
  },
  {
   "cell_type": "markdown",
   "metadata": {},
   "source": [
    "## Изучение данных из файлов"
   ]
  },
  {
   "cell_type": "code",
   "execution_count": 4,
   "metadata": {},
   "outputs": [],
   "source": [
    "figsize = (16, 12)\n",
    "bins = 100"
   ]
  },
  {
   "cell_type": "markdown",
   "metadata": {},
   "source": [
    "### Таблица users (информация о пользователях)\n",
    "\n",
    "* `user_id` — уникальный идентификатор пользователя\n",
    "* `first_name` — имя пользователя\n",
    "* `last_name` — фамилия пользователя\n",
    "* `age` — возраст пользователя (годы)\n",
    "* `reg_date` — дата подключения тарифа (день, месяц, год)\n",
    "* `churn_date` — дата прекращения пользования тарифом (если значение пропущено, то тариф ещё действовал на момент выгрузки данных)\n",
    "* `city` — город проживания пользователя\n",
    "* `tarif` — название тарифного плана"
   ]
  },
  {
   "cell_type": "code",
   "execution_count": 5,
   "metadata": {},
   "outputs": [
    {
     "data": {
      "text/html": [
       "<div>\n",
       "<style scoped>\n",
       "    .dataframe tbody tr th:only-of-type {\n",
       "        vertical-align: middle;\n",
       "    }\n",
       "\n",
       "    .dataframe tbody tr th {\n",
       "        vertical-align: top;\n",
       "    }\n",
       "\n",
       "    .dataframe thead th {\n",
       "        text-align: right;\n",
       "    }\n",
       "</style>\n",
       "<table border=\"1\" class=\"dataframe\">\n",
       "  <thead>\n",
       "    <tr style=\"text-align: right;\">\n",
       "      <th></th>\n",
       "      <th>user_id</th>\n",
       "      <th>age</th>\n",
       "      <th>churn_date</th>\n",
       "      <th>city</th>\n",
       "      <th>first_name</th>\n",
       "      <th>last_name</th>\n",
       "      <th>reg_date</th>\n",
       "      <th>tariff</th>\n",
       "    </tr>\n",
       "  </thead>\n",
       "  <tbody>\n",
       "    <tr>\n",
       "      <td>0</td>\n",
       "      <td>1000</td>\n",
       "      <td>52</td>\n",
       "      <td>NaT</td>\n",
       "      <td>Краснодар</td>\n",
       "      <td>Рафаил</td>\n",
       "      <td>Верещагин</td>\n",
       "      <td>2018-05-25</td>\n",
       "      <td>ultra</td>\n",
       "    </tr>\n",
       "    <tr>\n",
       "      <td>1</td>\n",
       "      <td>1001</td>\n",
       "      <td>41</td>\n",
       "      <td>NaT</td>\n",
       "      <td>Москва</td>\n",
       "      <td>Иван</td>\n",
       "      <td>Ежов</td>\n",
       "      <td>2018-11-01</td>\n",
       "      <td>smart</td>\n",
       "    </tr>\n",
       "    <tr>\n",
       "      <td>2</td>\n",
       "      <td>1002</td>\n",
       "      <td>59</td>\n",
       "      <td>NaT</td>\n",
       "      <td>Стерлитамак</td>\n",
       "      <td>Евгений</td>\n",
       "      <td>Абрамович</td>\n",
       "      <td>2018-06-17</td>\n",
       "      <td>smart</td>\n",
       "    </tr>\n",
       "    <tr>\n",
       "      <td>3</td>\n",
       "      <td>1003</td>\n",
       "      <td>23</td>\n",
       "      <td>NaT</td>\n",
       "      <td>Москва</td>\n",
       "      <td>Белла</td>\n",
       "      <td>Белякова</td>\n",
       "      <td>2018-08-17</td>\n",
       "      <td>ultra</td>\n",
       "    </tr>\n",
       "    <tr>\n",
       "      <td>4</td>\n",
       "      <td>1004</td>\n",
       "      <td>68</td>\n",
       "      <td>NaT</td>\n",
       "      <td>Новокузнецк</td>\n",
       "      <td>Татьяна</td>\n",
       "      <td>Авдеенко</td>\n",
       "      <td>2018-05-14</td>\n",
       "      <td>ultra</td>\n",
       "    </tr>\n",
       "  </tbody>\n",
       "</table>\n",
       "</div>"
      ],
      "text/plain": [
       "   user_id  age churn_date         city first_name  last_name   reg_date  \\\n",
       "0     1000   52        NaT    Краснодар     Рафаил  Верещагин 2018-05-25   \n",
       "1     1001   41        NaT       Москва       Иван       Ежов 2018-11-01   \n",
       "2     1002   59        NaT  Стерлитамак    Евгений  Абрамович 2018-06-17   \n",
       "3     1003   23        NaT       Москва      Белла   Белякова 2018-08-17   \n",
       "4     1004   68        NaT  Новокузнецк    Татьяна   Авдеенко 2018-05-14   \n",
       "\n",
       "  tariff  \n",
       "0  ultra  \n",
       "1  smart  \n",
       "2  smart  \n",
       "3  ultra  \n",
       "4  ultra  "
      ]
     },
     "execution_count": 5,
     "metadata": {},
     "output_type": "execute_result"
    }
   ],
   "source": [
    "users = pd.read_csv('/datasets/users.csv')\n",
    "\n",
    "users['churn_date'] = pd.to_datetime(users['churn_date'], format = '%Y-%m-%d')\n",
    "users['reg_date'] = pd.to_datetime(users['reg_date'], format = '%Y-%m-%d')\n",
    "\n",
    "users.head()"
   ]
  },
  {
   "cell_type": "code",
   "execution_count": 6,
   "metadata": {},
   "outputs": [
    {
     "name": "stdout",
     "output_type": "stream",
     "text": [
      "<class 'pandas.core.frame.DataFrame'>\n",
      "RangeIndex: 500 entries, 0 to 499\n",
      "Data columns (total 8 columns):\n",
      "user_id       500 non-null int64\n",
      "age           500 non-null int64\n",
      "churn_date    38 non-null datetime64[ns]\n",
      "city          500 non-null object\n",
      "first_name    500 non-null object\n",
      "last_name     500 non-null object\n",
      "reg_date      500 non-null datetime64[ns]\n",
      "tariff        500 non-null object\n",
      "dtypes: datetime64[ns](2), int64(2), object(4)\n",
      "memory usage: 31.4+ KB\n"
     ]
    }
   ],
   "source": [
    "users.info()"
   ]
  },
  {
   "cell_type": "code",
   "execution_count": 7,
   "metadata": {},
   "outputs": [
    {
     "data": {
      "text/html": [
       "<div>\n",
       "<style scoped>\n",
       "    .dataframe tbody tr th:only-of-type {\n",
       "        vertical-align: middle;\n",
       "    }\n",
       "\n",
       "    .dataframe tbody tr th {\n",
       "        vertical-align: top;\n",
       "    }\n",
       "\n",
       "    .dataframe thead th {\n",
       "        text-align: right;\n",
       "    }\n",
       "</style>\n",
       "<table border=\"1\" class=\"dataframe\">\n",
       "  <thead>\n",
       "    <tr style=\"text-align: right;\">\n",
       "      <th></th>\n",
       "      <th>missing_values</th>\n",
       "      <th>% of total</th>\n",
       "    </tr>\n",
       "  </thead>\n",
       "  <tbody>\n",
       "    <tr>\n",
       "      <td>churn_date</td>\n",
       "      <td>462</td>\n",
       "      <td>0.92</td>\n",
       "    </tr>\n",
       "    <tr>\n",
       "      <td>user_id</td>\n",
       "      <td>0</td>\n",
       "      <td>0.00</td>\n",
       "    </tr>\n",
       "    <tr>\n",
       "      <td>age</td>\n",
       "      <td>0</td>\n",
       "      <td>0.00</td>\n",
       "    </tr>\n",
       "    <tr>\n",
       "      <td>city</td>\n",
       "      <td>0</td>\n",
       "      <td>0.00</td>\n",
       "    </tr>\n",
       "    <tr>\n",
       "      <td>first_name</td>\n",
       "      <td>0</td>\n",
       "      <td>0.00</td>\n",
       "    </tr>\n",
       "    <tr>\n",
       "      <td>last_name</td>\n",
       "      <td>0</td>\n",
       "      <td>0.00</td>\n",
       "    </tr>\n",
       "    <tr>\n",
       "      <td>reg_date</td>\n",
       "      <td>0</td>\n",
       "      <td>0.00</td>\n",
       "    </tr>\n",
       "    <tr>\n",
       "      <td>tariff</td>\n",
       "      <td>0</td>\n",
       "      <td>0.00</td>\n",
       "    </tr>\n",
       "  </tbody>\n",
       "</table>\n",
       "</div>"
      ],
      "text/plain": [
       "            missing_values  % of total\n",
       "churn_date             462        0.92\n",
       "user_id                  0        0.00\n",
       "age                      0        0.00\n",
       "city                     0        0.00\n",
       "first_name               0        0.00\n",
       "last_name                0        0.00\n",
       "reg_date                 0        0.00\n",
       "tariff                   0        0.00"
      ]
     },
     "execution_count": 7,
     "metadata": {},
     "output_type": "execute_result"
    }
   ],
   "source": [
    "get_missing_values(users)"
   ]
  },
  {
   "cell_type": "markdown",
   "metadata": {},
   "source": [
    "<div class=\"alert alert-success\">\n",
    "<b>Комментарий ревьюера v1:</b>\n",
    "    \n",
    "Здорово, что создал функцию под проверку пропущенных значений. Очень наглядно.\n",
    "</div>"
   ]
  },
  {
   "cell_type": "markdown",
   "metadata": {},
   "source": [
    "### Таблица calls (информация о звонках)\n",
    "\n",
    "* `id` — уникальный номер звонка\n",
    "* `call_date` — дата звонка\n",
    "* `duration` — длительность звонка в минутах\n",
    "* `user_id` — идентификатор пользователя, сделавшего звонок"
   ]
  },
  {
   "cell_type": "code",
   "execution_count": 8,
   "metadata": {},
   "outputs": [
    {
     "data": {
      "text/html": [
       "<div>\n",
       "<style scoped>\n",
       "    .dataframe tbody tr th:only-of-type {\n",
       "        vertical-align: middle;\n",
       "    }\n",
       "\n",
       "    .dataframe tbody tr th {\n",
       "        vertical-align: top;\n",
       "    }\n",
       "\n",
       "    .dataframe thead th {\n",
       "        text-align: right;\n",
       "    }\n",
       "</style>\n",
       "<table border=\"1\" class=\"dataframe\">\n",
       "  <thead>\n",
       "    <tr style=\"text-align: right;\">\n",
       "      <th></th>\n",
       "      <th>id</th>\n",
       "      <th>call_date</th>\n",
       "      <th>duration</th>\n",
       "      <th>user_id</th>\n",
       "      <th>month_id</th>\n",
       "    </tr>\n",
       "  </thead>\n",
       "  <tbody>\n",
       "    <tr>\n",
       "      <td>0</td>\n",
       "      <td>10000</td>\n",
       "      <td>2018-07-25</td>\n",
       "      <td>0</td>\n",
       "      <td>1000</td>\n",
       "      <td>7</td>\n",
       "    </tr>\n",
       "    <tr>\n",
       "      <td>1</td>\n",
       "      <td>10001</td>\n",
       "      <td>2018-08-17</td>\n",
       "      <td>0</td>\n",
       "      <td>1000</td>\n",
       "      <td>8</td>\n",
       "    </tr>\n",
       "    <tr>\n",
       "      <td>2</td>\n",
       "      <td>10002</td>\n",
       "      <td>2018-06-11</td>\n",
       "      <td>3</td>\n",
       "      <td>1000</td>\n",
       "      <td>6</td>\n",
       "    </tr>\n",
       "    <tr>\n",
       "      <td>3</td>\n",
       "      <td>10003</td>\n",
       "      <td>2018-09-21</td>\n",
       "      <td>14</td>\n",
       "      <td>1000</td>\n",
       "      <td>9</td>\n",
       "    </tr>\n",
       "    <tr>\n",
       "      <td>4</td>\n",
       "      <td>10004</td>\n",
       "      <td>2018-12-15</td>\n",
       "      <td>6</td>\n",
       "      <td>1000</td>\n",
       "      <td>12</td>\n",
       "    </tr>\n",
       "  </tbody>\n",
       "</table>\n",
       "</div>"
      ],
      "text/plain": [
       "      id  call_date  duration  user_id  month_id\n",
       "0  10000 2018-07-25         0     1000         7\n",
       "1  10001 2018-08-17         0     1000         8\n",
       "2  10002 2018-06-11         3     1000         6\n",
       "3  10003 2018-09-21        14     1000         9\n",
       "4  10004 2018-12-15         6     1000        12"
      ]
     },
     "execution_count": 8,
     "metadata": {},
     "output_type": "execute_result"
    }
   ],
   "source": [
    "calls = pd.read_csv('/datasets/calls.csv')\n",
    "\n",
    "\n",
    "calls['call_date'] = pd.to_datetime(calls['call_date'], format = '%Y-%m-%d')\n",
    "calls['month_id'] = calls['call_date'].dt.month\n",
    "\n",
    "calls['id'] = calls['id'].astype('int')\n",
    "calls['duration'] = np.ceil(calls['duration']).astype('int')\n",
    "\n",
    "calls.head()"
   ]
  },
  {
   "cell_type": "markdown",
   "metadata": {},
   "source": [
    "<div class=\"alert alert-warning\">\n",
    "<b>Комментарий ревьюера v1:</b>\n",
    "    \n",
    "Супер, что использовал функцию np.ceil(). Она, кстати, также работает без apply (короче код/быстрее).\n",
    "\n",
    "```\n",
    "calls['duration'] = np.ceil(calls['duration'])\n",
    "```\n",
    "\n",
    "</div>"
   ]
  },
  {
   "cell_type": "markdown",
   "metadata": {},
   "source": [
    "<div class=\"alert alert-info\"> <b>Комментарий студента:</b> Поправил, спасибо!</div>"
   ]
  },
  {
   "cell_type": "markdown",
   "metadata": {},
   "source": [
    "<div class=\"alert alert-success\">\n",
    "<b>Комментарий ревьюера v2:</b>\n",
    "    \n",
    "🙌\n",
    "    \n",
    "</div>"
   ]
  },
  {
   "cell_type": "code",
   "execution_count": 9,
   "metadata": {},
   "outputs": [
    {
     "name": "stdout",
     "output_type": "stream",
     "text": [
      "<class 'pandas.core.frame.DataFrame'>\n",
      "RangeIndex: 202607 entries, 0 to 202606\n",
      "Data columns (total 5 columns):\n",
      "id           202607 non-null int64\n",
      "call_date    202607 non-null datetime64[ns]\n",
      "duration     202607 non-null int64\n",
      "user_id      202607 non-null int64\n",
      "month_id     202607 non-null int64\n",
      "dtypes: datetime64[ns](1), int64(4)\n",
      "memory usage: 7.7 MB\n"
     ]
    }
   ],
   "source": [
    "calls.info()"
   ]
  },
  {
   "cell_type": "code",
   "execution_count": 10,
   "metadata": {},
   "outputs": [
    {
     "data": {
      "text/html": [
       "<div>\n",
       "<style scoped>\n",
       "    .dataframe tbody tr th:only-of-type {\n",
       "        vertical-align: middle;\n",
       "    }\n",
       "\n",
       "    .dataframe tbody tr th {\n",
       "        vertical-align: top;\n",
       "    }\n",
       "\n",
       "    .dataframe thead th {\n",
       "        text-align: right;\n",
       "    }\n",
       "</style>\n",
       "<table border=\"1\" class=\"dataframe\">\n",
       "  <thead>\n",
       "    <tr style=\"text-align: right;\">\n",
       "      <th></th>\n",
       "      <th>missing_values</th>\n",
       "      <th>% of total</th>\n",
       "    </tr>\n",
       "  </thead>\n",
       "  <tbody>\n",
       "    <tr>\n",
       "      <td>id</td>\n",
       "      <td>0</td>\n",
       "      <td>0.0</td>\n",
       "    </tr>\n",
       "    <tr>\n",
       "      <td>call_date</td>\n",
       "      <td>0</td>\n",
       "      <td>0.0</td>\n",
       "    </tr>\n",
       "    <tr>\n",
       "      <td>duration</td>\n",
       "      <td>0</td>\n",
       "      <td>0.0</td>\n",
       "    </tr>\n",
       "    <tr>\n",
       "      <td>user_id</td>\n",
       "      <td>0</td>\n",
       "      <td>0.0</td>\n",
       "    </tr>\n",
       "    <tr>\n",
       "      <td>month_id</td>\n",
       "      <td>0</td>\n",
       "      <td>0.0</td>\n",
       "    </tr>\n",
       "  </tbody>\n",
       "</table>\n",
       "</div>"
      ],
      "text/plain": [
       "           missing_values  % of total\n",
       "id                      0         0.0\n",
       "call_date               0         0.0\n",
       "duration                0         0.0\n",
       "user_id                 0         0.0\n",
       "month_id                0         0.0"
      ]
     },
     "execution_count": 10,
     "metadata": {},
     "output_type": "execute_result"
    }
   ],
   "source": [
    "get_missing_values(calls)"
   ]
  },
  {
   "cell_type": "code",
   "execution_count": 11,
   "metadata": {},
   "outputs": [
    {
     "data": {
      "image/png": "[encoded data removed]",
      "text/plain": [
       "<Figure size 1152x864 with 1 Axes>"
      ]
     },
     "metadata": {
      "needs_background": "light"
     },
     "output_type": "display_data"
    }
   ],
   "source": [
    "calls['duration'].hist(bins = bins, figsize = figsize);"
   ]
  },
  {
   "cell_type": "markdown",
   "metadata": {},
   "source": [
    "### Таблица messages (информация о сообщениях)\n",
    "\n",
    "* `id` — уникальный номер сообщения\n",
    "* `message_date` — дата сообщения\n",
    "* `user_id` — идентификатор пользователя, отправившего сообщение"
   ]
  },
  {
   "cell_type": "code",
   "execution_count": 12,
   "metadata": {},
   "outputs": [
    {
     "data": {
      "text/html": [
       "<div>\n",
       "<style scoped>\n",
       "    .dataframe tbody tr th:only-of-type {\n",
       "        vertical-align: middle;\n",
       "    }\n",
       "\n",
       "    .dataframe tbody tr th {\n",
       "        vertical-align: top;\n",
       "    }\n",
       "\n",
       "    .dataframe thead th {\n",
       "        text-align: right;\n",
       "    }\n",
       "</style>\n",
       "<table border=\"1\" class=\"dataframe\">\n",
       "  <thead>\n",
       "    <tr style=\"text-align: right;\">\n",
       "      <th></th>\n",
       "      <th>id</th>\n",
       "      <th>message_date</th>\n",
       "      <th>user_id</th>\n",
       "      <th>month_id</th>\n",
       "    </tr>\n",
       "  </thead>\n",
       "  <tbody>\n",
       "    <tr>\n",
       "      <td>0</td>\n",
       "      <td>10000</td>\n",
       "      <td>2018-06-27</td>\n",
       "      <td>1000</td>\n",
       "      <td>6</td>\n",
       "    </tr>\n",
       "    <tr>\n",
       "      <td>1</td>\n",
       "      <td>10001</td>\n",
       "      <td>2018-10-08</td>\n",
       "      <td>1000</td>\n",
       "      <td>10</td>\n",
       "    </tr>\n",
       "    <tr>\n",
       "      <td>2</td>\n",
       "      <td>10002</td>\n",
       "      <td>2018-08-04</td>\n",
       "      <td>1000</td>\n",
       "      <td>8</td>\n",
       "    </tr>\n",
       "    <tr>\n",
       "      <td>3</td>\n",
       "      <td>10003</td>\n",
       "      <td>2018-06-16</td>\n",
       "      <td>1000</td>\n",
       "      <td>6</td>\n",
       "    </tr>\n",
       "    <tr>\n",
       "      <td>4</td>\n",
       "      <td>10004</td>\n",
       "      <td>2018-12-05</td>\n",
       "      <td>1000</td>\n",
       "      <td>12</td>\n",
       "    </tr>\n",
       "  </tbody>\n",
       "</table>\n",
       "</div>"
      ],
      "text/plain": [
       "      id message_date  user_id  month_id\n",
       "0  10000   2018-06-27     1000         6\n",
       "1  10001   2018-10-08     1000        10\n",
       "2  10002   2018-08-04     1000         8\n",
       "3  10003   2018-06-16     1000         6\n",
       "4  10004   2018-12-05     1000        12"
      ]
     },
     "execution_count": 12,
     "metadata": {},
     "output_type": "execute_result"
    }
   ],
   "source": [
    "messages = pd.read_csv('/datasets/messages.csv')\n",
    "\n",
    "messages['id'] = messages['id'].astype('int')\n",
    "\n",
    "messages['message_date'] = pd.to_datetime(messages['message_date'], format = '%Y-%m-%d')\n",
    "messages['month_id'] = messages['message_date'].dt.month\n",
    "\n",
    "messages.head()"
   ]
  },
  {
   "cell_type": "code",
   "execution_count": 13,
   "metadata": {},
   "outputs": [
    {
     "name": "stdout",
     "output_type": "stream",
     "text": [
      "<class 'pandas.core.frame.DataFrame'>\n",
      "RangeIndex: 123036 entries, 0 to 123035\n",
      "Data columns (total 4 columns):\n",
      "id              123036 non-null int64\n",
      "message_date    123036 non-null datetime64[ns]\n",
      "user_id         123036 non-null int64\n",
      "month_id        123036 non-null int64\n",
      "dtypes: datetime64[ns](1), int64(3)\n",
      "memory usage: 3.8 MB\n"
     ]
    }
   ],
   "source": [
    "messages.info()"
   ]
  },
  {
   "cell_type": "code",
   "execution_count": 14,
   "metadata": {},
   "outputs": [
    {
     "data": {
      "text/html": [
       "<div>\n",
       "<style scoped>\n",
       "    .dataframe tbody tr th:only-of-type {\n",
       "        vertical-align: middle;\n",
       "    }\n",
       "\n",
       "    .dataframe tbody tr th {\n",
       "        vertical-align: top;\n",
       "    }\n",
       "\n",
       "    .dataframe thead th {\n",
       "        text-align: right;\n",
       "    }\n",
       "</style>\n",
       "<table border=\"1\" class=\"dataframe\">\n",
       "  <thead>\n",
       "    <tr style=\"text-align: right;\">\n",
       "      <th></th>\n",
       "      <th>missing_values</th>\n",
       "      <th>% of total</th>\n",
       "    </tr>\n",
       "  </thead>\n",
       "  <tbody>\n",
       "    <tr>\n",
       "      <td>id</td>\n",
       "      <td>0</td>\n",
       "      <td>0.0</td>\n",
       "    </tr>\n",
       "    <tr>\n",
       "      <td>message_date</td>\n",
       "      <td>0</td>\n",
       "      <td>0.0</td>\n",
       "    </tr>\n",
       "    <tr>\n",
       "      <td>user_id</td>\n",
       "      <td>0</td>\n",
       "      <td>0.0</td>\n",
       "    </tr>\n",
       "    <tr>\n",
       "      <td>month_id</td>\n",
       "      <td>0</td>\n",
       "      <td>0.0</td>\n",
       "    </tr>\n",
       "  </tbody>\n",
       "</table>\n",
       "</div>"
      ],
      "text/plain": [
       "              missing_values  % of total\n",
       "id                         0         0.0\n",
       "message_date               0         0.0\n",
       "user_id                    0         0.0\n",
       "month_id                   0         0.0"
      ]
     },
     "execution_count": 14,
     "metadata": {},
     "output_type": "execute_result"
    }
   ],
   "source": [
    "get_missing_values(messages)"
   ]
  },
  {
   "cell_type": "markdown",
   "metadata": {},
   "source": [
    "### Таблица internet (информация об интернет-сессиях)\n",
    "\n",
    "* `id` — уникальный номер сессии\n",
    "* `mb_used` — объём потраченного за сессию интернет-трафика (в мегабайтах)\n",
    "* `session_date` — дата интернет-сессии\n",
    "* `user_id` — идентификатор пользователя"
   ]
  },
  {
   "cell_type": "code",
   "execution_count": 15,
   "metadata": {},
   "outputs": [
    {
     "data": {
      "text/html": [
       "<div>\n",
       "<style scoped>\n",
       "    .dataframe tbody tr th:only-of-type {\n",
       "        vertical-align: middle;\n",
       "    }\n",
       "\n",
       "    .dataframe tbody tr th {\n",
       "        vertical-align: top;\n",
       "    }\n",
       "\n",
       "    .dataframe thead th {\n",
       "        text-align: right;\n",
       "    }\n",
       "</style>\n",
       "<table border=\"1\" class=\"dataframe\">\n",
       "  <thead>\n",
       "    <tr style=\"text-align: right;\">\n",
       "      <th></th>\n",
       "      <th>id</th>\n",
       "      <th>mb_used</th>\n",
       "      <th>session_date</th>\n",
       "      <th>user_id</th>\n",
       "      <th>month_id</th>\n",
       "    </tr>\n",
       "  </thead>\n",
       "  <tbody>\n",
       "    <tr>\n",
       "      <td>0</td>\n",
       "      <td>10000</td>\n",
       "      <td>112.95</td>\n",
       "      <td>2018-11-25</td>\n",
       "      <td>1000</td>\n",
       "      <td>11</td>\n",
       "    </tr>\n",
       "    <tr>\n",
       "      <td>1</td>\n",
       "      <td>10001</td>\n",
       "      <td>1052.81</td>\n",
       "      <td>2018-09-07</td>\n",
       "      <td>1000</td>\n",
       "      <td>9</td>\n",
       "    </tr>\n",
       "    <tr>\n",
       "      <td>2</td>\n",
       "      <td>10002</td>\n",
       "      <td>1197.26</td>\n",
       "      <td>2018-06-25</td>\n",
       "      <td>1000</td>\n",
       "      <td>6</td>\n",
       "    </tr>\n",
       "    <tr>\n",
       "      <td>3</td>\n",
       "      <td>10003</td>\n",
       "      <td>550.27</td>\n",
       "      <td>2018-08-22</td>\n",
       "      <td>1000</td>\n",
       "      <td>8</td>\n",
       "    </tr>\n",
       "    <tr>\n",
       "      <td>4</td>\n",
       "      <td>10004</td>\n",
       "      <td>302.56</td>\n",
       "      <td>2018-09-24</td>\n",
       "      <td>1000</td>\n",
       "      <td>9</td>\n",
       "    </tr>\n",
       "  </tbody>\n",
       "</table>\n",
       "</div>"
      ],
      "text/plain": [
       "      id  mb_used session_date  user_id  month_id\n",
       "0  10000   112.95   2018-11-25     1000        11\n",
       "1  10001  1052.81   2018-09-07     1000         9\n",
       "2  10002  1197.26   2018-06-25     1000         6\n",
       "3  10003   550.27   2018-08-22     1000         8\n",
       "4  10004   302.56   2018-09-24     1000         9"
      ]
     },
     "execution_count": 15,
     "metadata": {},
     "output_type": "execute_result"
    }
   ],
   "source": [
    "internet = pd.read_csv('/datasets/internet.csv', index_col = 0)\n",
    "\n",
    "internet['id'] = internet['id'].astype('int')\n",
    "\n",
    "internet['session_date'] = pd.to_datetime(internet['session_date'], format = '%Y-%m-%d')\n",
    "internet['month_id'] = internet['session_date'].dt.month\n",
    "\n",
    "internet.head()"
   ]
  },
  {
   "cell_type": "code",
   "execution_count": 16,
   "metadata": {},
   "outputs": [
    {
     "name": "stdout",
     "output_type": "stream",
     "text": [
      "<class 'pandas.core.frame.DataFrame'>\n",
      "Int64Index: 149396 entries, 0 to 149395\n",
      "Data columns (total 5 columns):\n",
      "id              149396 non-null int64\n",
      "mb_used         149396 non-null float64\n",
      "session_date    149396 non-null datetime64[ns]\n",
      "user_id         149396 non-null int64\n",
      "month_id        149396 non-null int64\n",
      "dtypes: datetime64[ns](1), float64(1), int64(3)\n",
      "memory usage: 6.8 MB\n"
     ]
    }
   ],
   "source": [
    "internet.info()"
   ]
  },
  {
   "cell_type": "code",
   "execution_count": 17,
   "metadata": {},
   "outputs": [
    {
     "data": {
      "text/html": [
       "<div>\n",
       "<style scoped>\n",
       "    .dataframe tbody tr th:only-of-type {\n",
       "        vertical-align: middle;\n",
       "    }\n",
       "\n",
       "    .dataframe tbody tr th {\n",
       "        vertical-align: top;\n",
       "    }\n",
       "\n",
       "    .dataframe thead th {\n",
       "        text-align: right;\n",
       "    }\n",
       "</style>\n",
       "<table border=\"1\" class=\"dataframe\">\n",
       "  <thead>\n",
       "    <tr style=\"text-align: right;\">\n",
       "      <th></th>\n",
       "      <th>missing_values</th>\n",
       "      <th>% of total</th>\n",
       "    </tr>\n",
       "  </thead>\n",
       "  <tbody>\n",
       "    <tr>\n",
       "      <td>id</td>\n",
       "      <td>0</td>\n",
       "      <td>0.0</td>\n",
       "    </tr>\n",
       "    <tr>\n",
       "      <td>mb_used</td>\n",
       "      <td>0</td>\n",
       "      <td>0.0</td>\n",
       "    </tr>\n",
       "    <tr>\n",
       "      <td>session_date</td>\n",
       "      <td>0</td>\n",
       "      <td>0.0</td>\n",
       "    </tr>\n",
       "    <tr>\n",
       "      <td>user_id</td>\n",
       "      <td>0</td>\n",
       "      <td>0.0</td>\n",
       "    </tr>\n",
       "    <tr>\n",
       "      <td>month_id</td>\n",
       "      <td>0</td>\n",
       "      <td>0.0</td>\n",
       "    </tr>\n",
       "  </tbody>\n",
       "</table>\n",
       "</div>"
      ],
      "text/plain": [
       "              missing_values  % of total\n",
       "id                         0         0.0\n",
       "mb_used                    0         0.0\n",
       "session_date               0         0.0\n",
       "user_id                    0         0.0\n",
       "month_id                   0         0.0"
      ]
     },
     "execution_count": 17,
     "metadata": {},
     "output_type": "execute_result"
    }
   ],
   "source": [
    "get_missing_values(internet)"
   ]
  },
  {
   "cell_type": "code",
   "execution_count": 18,
   "metadata": {},
   "outputs": [
    {
     "data": {
      "image/png": "[encoded data removed]",
      "text/plain": [
       "<Figure size 1152x864 with 1 Axes>"
      ]
     },
     "metadata": {
      "needs_background": "light"
     },
     "output_type": "display_data"
    }
   ],
   "source": [
    "internet['mb_used'].hist(bins = bins, figsize = figsize);"
   ]
  },
  {
   "cell_type": "markdown",
   "metadata": {},
   "source": [
    "### Таблица tariffs (информация о тарифах)\n",
    "\n",
    "* `tariff_name` — название тарифа\n",
    "* `rub_monthly_fee` — ежемесячная абонентская плата в рублях\n",
    "* `minutes_included` — количество минут разговора в месяц, включённых в абонентскую плату\n",
    "* `messages_included` — количество сообщений в месяц, включённых в абонентскую плату\n",
    "* `mb_per_month_included` — объём интернет-трафика, включённого в абонентскую плату (в мегабайтах)\n",
    "* `rub_per_minute` — стоимость минуты разговора сверх тарифного пакета (например, если в тарифе 100 минут разговора в месяц, то со 101 минуты будет взиматься плата)\n",
    "* `rub_per_message` — стоимость отправки сообщения сверх тарифного пакета\n",
    "* `rub_per_gb` — стоимость дополнительного гигабайта интернет-трафика сверх тарифного пакета (1 гигабайт = 1024 мегабайта)"
   ]
  },
  {
   "cell_type": "code",
   "execution_count": 19,
   "metadata": {},
   "outputs": [
    {
     "data": {
      "text/html": [
       "<div>\n",
       "<style scoped>\n",
       "    .dataframe tbody tr th:only-of-type {\n",
       "        vertical-align: middle;\n",
       "    }\n",
       "\n",
       "    .dataframe tbody tr th {\n",
       "        vertical-align: top;\n",
       "    }\n",
       "\n",
       "    .dataframe thead th {\n",
       "        text-align: right;\n",
       "    }\n",
       "</style>\n",
       "<table border=\"1\" class=\"dataframe\">\n",
       "  <thead>\n",
       "    <tr style=\"text-align: right;\">\n",
       "      <th></th>\n",
       "      <th>messages_included</th>\n",
       "      <th>gb_per_month_included</th>\n",
       "      <th>minutes_included</th>\n",
       "      <th>rub_monthly_fee</th>\n",
       "      <th>rub_per_gb</th>\n",
       "      <th>rub_per_message</th>\n",
       "      <th>rub_per_minute</th>\n",
       "      <th>tariff_name</th>\n",
       "    </tr>\n",
       "  </thead>\n",
       "  <tbody>\n",
       "    <tr>\n",
       "      <td>0</td>\n",
       "      <td>50</td>\n",
       "      <td>15.0</td>\n",
       "      <td>500</td>\n",
       "      <td>550</td>\n",
       "      <td>200</td>\n",
       "      <td>3</td>\n",
       "      <td>3</td>\n",
       "      <td>smart</td>\n",
       "    </tr>\n",
       "    <tr>\n",
       "      <td>1</td>\n",
       "      <td>1000</td>\n",
       "      <td>30.0</td>\n",
       "      <td>3000</td>\n",
       "      <td>1950</td>\n",
       "      <td>150</td>\n",
       "      <td>1</td>\n",
       "      <td>1</td>\n",
       "      <td>ultra</td>\n",
       "    </tr>\n",
       "  </tbody>\n",
       "</table>\n",
       "</div>"
      ],
      "text/plain": [
       "   messages_included  gb_per_month_included  minutes_included  \\\n",
       "0                 50                   15.0               500   \n",
       "1               1000                   30.0              3000   \n",
       "\n",
       "   rub_monthly_fee  rub_per_gb  rub_per_message  rub_per_minute tariff_name  \n",
       "0              550         200                3               3       smart  \n",
       "1             1950         150                1               1       ultra  "
      ]
     },
     "execution_count": 19,
     "metadata": {},
     "output_type": "execute_result"
    }
   ],
   "source": [
    "tariffs = pd.read_csv('/datasets/tariffs.csv')\n",
    "\n",
    "tariffs['mb_per_month_included'] = np.ceil(tariffs['mb_per_month_included'] / 1024)\n",
    "tariffs.rename(columns = {'mb_per_month_included': 'gb_per_month_included'}, inplace=True)\n",
    "\n",
    "tariffs.head()"
   ]
  },
  {
   "cell_type": "markdown",
   "metadata": {},
   "source": [
    "<div class=\"alert alert-warning\">\n",
    "<b>Комментарий ревьюера v1:</b>\n",
    "    \n",
    "Тут можно также без apply просто пройтись по столбцу.\n",
    "</div>"
   ]
  },
  {
   "cell_type": "markdown",
   "metadata": {},
   "source": [
    "<div class=\"alert alert-info\"> <b>Комментарий студента:</b> Поправил, спасибо!</div>"
   ]
  },
  {
   "cell_type": "markdown",
   "metadata": {},
   "source": [
    "### Вывод"
   ]
  },
  {
   "cell_type": "markdown",
   "metadata": {},
   "source": [
    "* Всего лишь 38 абонентов (меньше 10% от всей выборки) перестали пользоваться каким-либо тарифом;\n",
    "* В каждой таблице (где это возможно) столбцы с датой были переведены из формата `String` в формат `DateTime`;\n",
    "* В таблице `tariffs` значения столбца `mb_per_month_included` были переведены из мегабайт в гигабайты;\n",
    "* В таблице `calls` есть звонки с продолжительностью 0 минут, скорее всего абоненты не смогли дозвониться;\n",
    "* В таблице `internet` есть записи со значением столбца `mb_used` равным нулю, скорее всего эти абоненты не пользовались интернетом в указанном месяце."
   ]
  },
  {
   "cell_type": "markdown",
   "metadata": {},
   "source": [
    "<div class=\"alert alert-danger\">\n",
    "<b>Комментарий ревьюера v1:</b>\n",
    "\n",
    "А можешь, пожалуйста, перепроверить данные для трафика - есть ли в них какие либо аномалии (нулевые значения, например). Очень полезно всегда проверять численные данные на их адекватность. Иногда это бывает сложно из-за большого количества данных, но после у нас есть представление о том с чем придется работать или какие проблемы есть в данных. Пожалуйста, проанализируй эти данные дополнительно, сделай вывод отчего-почему и реши, что с ними делать. Проверить эти данные можно легко - построить гистрограммы, например.\n",
    "   \n",
    "</div>"
   ]
  },
  {
   "cell_type": "markdown",
   "metadata": {},
   "source": [
    "<div class=\"alert alert-info\"> <b>Комментарий студента:</b> Поправил, спасибо!</div>"
   ]
  },
  {
   "cell_type": "markdown",
   "metadata": {},
   "source": [
    "<div class=\"alert alert-success\">\n",
    "<b>Комментарий ревьюера v2:</b>\n",
    "    \n",
    " Здорово, что добавил решение по нулям в интернет-сессий.  Ты все правильно сказал. Да, их можно удалить, а можно и оставить. Ведь при сборке сводной таблицы они просуммируются, а наш анализ это никак не исказит. Важно было, чтобы ты это заметил и оценил влияние. Что ты и сделал, собственно.\n",
    "    \n",
    "</div>"
   ]
  },
  {
   "cell_type": "markdown",
   "metadata": {},
   "source": [
    "## Расчёты и добавление результатов в таблицу"
   ]
  },
  {
   "cell_type": "markdown",
   "metadata": {},
   "source": [
    "### Количество сделанных звонков и израсходованных минут разговора по месяцам"
   ]
  },
  {
   "cell_type": "code",
   "execution_count": 20,
   "metadata": {},
   "outputs": [
    {
     "data": {
      "text/html": [
       "<div>\n",
       "<style scoped>\n",
       "    .dataframe tbody tr th:only-of-type {\n",
       "        vertical-align: middle;\n",
       "    }\n",
       "\n",
       "    .dataframe tbody tr th {\n",
       "        vertical-align: top;\n",
       "    }\n",
       "\n",
       "    .dataframe thead th {\n",
       "        text-align: right;\n",
       "    }\n",
       "</style>\n",
       "<table border=\"1\" class=\"dataframe\">\n",
       "  <thead>\n",
       "    <tr style=\"text-align: right;\">\n",
       "      <th></th>\n",
       "      <th>user_id</th>\n",
       "      <th>month_id</th>\n",
       "      <th>duration_sum</th>\n",
       "      <th>calls_count</th>\n",
       "    </tr>\n",
       "  </thead>\n",
       "  <tbody>\n",
       "    <tr>\n",
       "      <td>0</td>\n",
       "      <td>1000</td>\n",
       "      <td>5</td>\n",
       "      <td>159</td>\n",
       "      <td>22</td>\n",
       "    </tr>\n",
       "    <tr>\n",
       "      <td>1</td>\n",
       "      <td>1000</td>\n",
       "      <td>6</td>\n",
       "      <td>172</td>\n",
       "      <td>43</td>\n",
       "    </tr>\n",
       "    <tr>\n",
       "      <td>2</td>\n",
       "      <td>1000</td>\n",
       "      <td>7</td>\n",
       "      <td>340</td>\n",
       "      <td>47</td>\n",
       "    </tr>\n",
       "    <tr>\n",
       "      <td>3</td>\n",
       "      <td>1000</td>\n",
       "      <td>8</td>\n",
       "      <td>408</td>\n",
       "      <td>52</td>\n",
       "    </tr>\n",
       "    <tr>\n",
       "      <td>4</td>\n",
       "      <td>1000</td>\n",
       "      <td>9</td>\n",
       "      <td>466</td>\n",
       "      <td>58</td>\n",
       "    </tr>\n",
       "  </tbody>\n",
       "</table>\n",
       "</div>"
      ],
      "text/plain": [
       "   user_id  month_id  duration_sum  calls_count\n",
       "0     1000         5           159           22\n",
       "1     1000         6           172           43\n",
       "2     1000         7           340           47\n",
       "3     1000         8           408           52\n",
       "4     1000         9           466           58"
      ]
     },
     "execution_count": 20,
     "metadata": {},
     "output_type": "execute_result"
    }
   ],
   "source": [
    "user_calls = calls.groupby(['user_id', 'month_id'])\\\n",
    "                  .agg({'duration': 'sum', 'id': 'count'})\\\n",
    "                  .reset_index()\\\n",
    "                  .rename(columns={'duration': 'duration_sum','id': 'calls_count'})\n",
    "\n",
    "user_calls = user_calls.astype(int)\n",
    "user_calls.sort_values(by = ['user_id', 'month_id'], inplace = True)\n",
    "user_calls.head()"
   ]
  },
  {
   "cell_type": "markdown",
   "metadata": {},
   "source": [
    "### Количество отправленных сообщений по месяцам"
   ]
  },
  {
   "cell_type": "code",
   "execution_count": 21,
   "metadata": {},
   "outputs": [
    {
     "data": {
      "text/html": [
       "<div>\n",
       "<style scoped>\n",
       "    .dataframe tbody tr th:only-of-type {\n",
       "        vertical-align: middle;\n",
       "    }\n",
       "\n",
       "    .dataframe tbody tr th {\n",
       "        vertical-align: top;\n",
       "    }\n",
       "\n",
       "    .dataframe thead th {\n",
       "        text-align: right;\n",
       "    }\n",
       "</style>\n",
       "<table border=\"1\" class=\"dataframe\">\n",
       "  <thead>\n",
       "    <tr style=\"text-align: right;\">\n",
       "      <th></th>\n",
       "      <th>user_id</th>\n",
       "      <th>month_id</th>\n",
       "      <th>messages_count</th>\n",
       "    </tr>\n",
       "  </thead>\n",
       "  <tbody>\n",
       "    <tr>\n",
       "      <td>0</td>\n",
       "      <td>1000</td>\n",
       "      <td>5</td>\n",
       "      <td>22</td>\n",
       "    </tr>\n",
       "    <tr>\n",
       "      <td>1</td>\n",
       "      <td>1000</td>\n",
       "      <td>6</td>\n",
       "      <td>60</td>\n",
       "    </tr>\n",
       "    <tr>\n",
       "      <td>2</td>\n",
       "      <td>1000</td>\n",
       "      <td>7</td>\n",
       "      <td>75</td>\n",
       "    </tr>\n",
       "    <tr>\n",
       "      <td>3</td>\n",
       "      <td>1000</td>\n",
       "      <td>8</td>\n",
       "      <td>81</td>\n",
       "    </tr>\n",
       "    <tr>\n",
       "      <td>4</td>\n",
       "      <td>1000</td>\n",
       "      <td>9</td>\n",
       "      <td>57</td>\n",
       "    </tr>\n",
       "  </tbody>\n",
       "</table>\n",
       "</div>"
      ],
      "text/plain": [
       "   user_id  month_id  messages_count\n",
       "0     1000         5              22\n",
       "1     1000         6              60\n",
       "2     1000         7              75\n",
       "3     1000         8              81\n",
       "4     1000         9              57"
      ]
     },
     "execution_count": 21,
     "metadata": {},
     "output_type": "execute_result"
    }
   ],
   "source": [
    "user_messages = messages.groupby(['user_id', 'month_id'])\\\n",
    "                        .agg({'id': 'count'})\\\n",
    "                        .reset_index()\\\n",
    "                        .rename(columns={'id': 'messages_count'})\n",
    "\n",
    "user_messages= user_messages.astype(int)\n",
    "user_messages.sort_values(by = ['user_id', 'month_id'], inplace = True)\n",
    "user_messages.head()"
   ]
  },
  {
   "cell_type": "markdown",
   "metadata": {},
   "source": [
    "### Объем израсходованного интернет-трафика по месяцам"
   ]
  },
  {
   "cell_type": "code",
   "execution_count": 22,
   "metadata": {},
   "outputs": [
    {
     "data": {
      "text/html": [
       "<div>\n",
       "<style scoped>\n",
       "    .dataframe tbody tr th:only-of-type {\n",
       "        vertical-align: middle;\n",
       "    }\n",
       "\n",
       "    .dataframe tbody tr th {\n",
       "        vertical-align: top;\n",
       "    }\n",
       "\n",
       "    .dataframe thead th {\n",
       "        text-align: right;\n",
       "    }\n",
       "</style>\n",
       "<table border=\"1\" class=\"dataframe\">\n",
       "  <thead>\n",
       "    <tr style=\"text-align: right;\">\n",
       "      <th></th>\n",
       "      <th>user_id</th>\n",
       "      <th>month_id</th>\n",
       "      <th>gb_used_sum</th>\n",
       "    </tr>\n",
       "  </thead>\n",
       "  <tbody>\n",
       "    <tr>\n",
       "      <td>0</td>\n",
       "      <td>1000</td>\n",
       "      <td>5</td>\n",
       "      <td>3</td>\n",
       "    </tr>\n",
       "    <tr>\n",
       "      <td>1</td>\n",
       "      <td>1000</td>\n",
       "      <td>6</td>\n",
       "      <td>23</td>\n",
       "    </tr>\n",
       "    <tr>\n",
       "      <td>2</td>\n",
       "      <td>1000</td>\n",
       "      <td>7</td>\n",
       "      <td>14</td>\n",
       "    </tr>\n",
       "    <tr>\n",
       "      <td>3</td>\n",
       "      <td>1000</td>\n",
       "      <td>8</td>\n",
       "      <td>14</td>\n",
       "    </tr>\n",
       "    <tr>\n",
       "      <td>4</td>\n",
       "      <td>1000</td>\n",
       "      <td>9</td>\n",
       "      <td>15</td>\n",
       "    </tr>\n",
       "  </tbody>\n",
       "</table>\n",
       "</div>"
      ],
      "text/plain": [
       "   user_id  month_id  gb_used_sum\n",
       "0     1000         5            3\n",
       "1     1000         6           23\n",
       "2     1000         7           14\n",
       "3     1000         8           14\n",
       "4     1000         9           15"
      ]
     },
     "execution_count": 22,
     "metadata": {},
     "output_type": "execute_result"
    }
   ],
   "source": [
    "user_internet = internet.groupby(['user_id', 'month_id'])\\\n",
    "                        .agg({'mb_used': 'sum'})\\\n",
    "                        .reset_index()\\\n",
    "                        .rename(columns={'mb_used': 'mb_used_sum'})\n",
    "\n",
    "user_internet['mb_used_sum'] = user_internet['mb_used_sum'].apply(lambda x: np.ceil(x / 1024))\n",
    "user_internet= user_internet.astype(int)\n",
    "\n",
    "user_internet.rename(columns = {'mb_used_sum': 'gb_used_sum'}, inplace = True)\n",
    "user_internet.sort_values(by = ['user_id', 'month_id'], inplace = True)\n",
    "user_internet.head()"
   ]
  },
  {
   "cell_type": "markdown",
   "metadata": {},
   "source": [
    "### Помесячная выручка с каждого пользователя"
   ]
  },
  {
   "cell_type": "code",
   "execution_count": 23,
   "metadata": {},
   "outputs": [
    {
     "data": {
      "text/html": [
       "<div>\n",
       "<style scoped>\n",
       "    .dataframe tbody tr th:only-of-type {\n",
       "        vertical-align: middle;\n",
       "    }\n",
       "\n",
       "    .dataframe tbody tr th {\n",
       "        vertical-align: top;\n",
       "    }\n",
       "\n",
       "    .dataframe thead th {\n",
       "        text-align: right;\n",
       "    }\n",
       "</style>\n",
       "<table border=\"1\" class=\"dataframe\">\n",
       "  <thead>\n",
       "    <tr style=\"text-align: right;\">\n",
       "      <th></th>\n",
       "      <th>user_id</th>\n",
       "      <th>month_id</th>\n",
       "      <th>duration_sum</th>\n",
       "      <th>calls_count</th>\n",
       "      <th>messages_count</th>\n",
       "      <th>gb_used_sum</th>\n",
       "      <th>city</th>\n",
       "      <th>tariff</th>\n",
       "      <th>messages_included</th>\n",
       "      <th>gb_per_month_included</th>\n",
       "      <th>minutes_included</th>\n",
       "      <th>rub_monthly_fee</th>\n",
       "      <th>rub_per_gb</th>\n",
       "      <th>rub_per_message</th>\n",
       "      <th>rub_per_minute</th>\n",
       "      <th>tariff_name</th>\n",
       "    </tr>\n",
       "  </thead>\n",
       "  <tbody>\n",
       "    <tr>\n",
       "      <td>0</td>\n",
       "      <td>1000</td>\n",
       "      <td>5</td>\n",
       "      <td>159</td>\n",
       "      <td>22</td>\n",
       "      <td>22</td>\n",
       "      <td>3</td>\n",
       "      <td>Краснодар</td>\n",
       "      <td>ultra</td>\n",
       "      <td>1000</td>\n",
       "      <td>30.0</td>\n",
       "      <td>3000</td>\n",
       "      <td>1950</td>\n",
       "      <td>150</td>\n",
       "      <td>1</td>\n",
       "      <td>1</td>\n",
       "      <td>ultra</td>\n",
       "    </tr>\n",
       "    <tr>\n",
       "      <td>1</td>\n",
       "      <td>1000</td>\n",
       "      <td>6</td>\n",
       "      <td>172</td>\n",
       "      <td>43</td>\n",
       "      <td>60</td>\n",
       "      <td>23</td>\n",
       "      <td>Краснодар</td>\n",
       "      <td>ultra</td>\n",
       "      <td>1000</td>\n",
       "      <td>30.0</td>\n",
       "      <td>3000</td>\n",
       "      <td>1950</td>\n",
       "      <td>150</td>\n",
       "      <td>1</td>\n",
       "      <td>1</td>\n",
       "      <td>ultra</td>\n",
       "    </tr>\n",
       "    <tr>\n",
       "      <td>2</td>\n",
       "      <td>1000</td>\n",
       "      <td>7</td>\n",
       "      <td>340</td>\n",
       "      <td>47</td>\n",
       "      <td>75</td>\n",
       "      <td>14</td>\n",
       "      <td>Краснодар</td>\n",
       "      <td>ultra</td>\n",
       "      <td>1000</td>\n",
       "      <td>30.0</td>\n",
       "      <td>3000</td>\n",
       "      <td>1950</td>\n",
       "      <td>150</td>\n",
       "      <td>1</td>\n",
       "      <td>1</td>\n",
       "      <td>ultra</td>\n",
       "    </tr>\n",
       "    <tr>\n",
       "      <td>3</td>\n",
       "      <td>1000</td>\n",
       "      <td>8</td>\n",
       "      <td>408</td>\n",
       "      <td>52</td>\n",
       "      <td>81</td>\n",
       "      <td>14</td>\n",
       "      <td>Краснодар</td>\n",
       "      <td>ultra</td>\n",
       "      <td>1000</td>\n",
       "      <td>30.0</td>\n",
       "      <td>3000</td>\n",
       "      <td>1950</td>\n",
       "      <td>150</td>\n",
       "      <td>1</td>\n",
       "      <td>1</td>\n",
       "      <td>ultra</td>\n",
       "    </tr>\n",
       "    <tr>\n",
       "      <td>4</td>\n",
       "      <td>1000</td>\n",
       "      <td>9</td>\n",
       "      <td>466</td>\n",
       "      <td>58</td>\n",
       "      <td>57</td>\n",
       "      <td>15</td>\n",
       "      <td>Краснодар</td>\n",
       "      <td>ultra</td>\n",
       "      <td>1000</td>\n",
       "      <td>30.0</td>\n",
       "      <td>3000</td>\n",
       "      <td>1950</td>\n",
       "      <td>150</td>\n",
       "      <td>1</td>\n",
       "      <td>1</td>\n",
       "      <td>ultra</td>\n",
       "    </tr>\n",
       "  </tbody>\n",
       "</table>\n",
       "</div>"
      ],
      "text/plain": [
       "   user_id  month_id  duration_sum  calls_count  messages_count  gb_used_sum  \\\n",
       "0     1000         5           159           22              22            3   \n",
       "1     1000         6           172           43              60           23   \n",
       "2     1000         7           340           47              75           14   \n",
       "3     1000         8           408           52              81           14   \n",
       "4     1000         9           466           58              57           15   \n",
       "\n",
       "        city tariff  messages_included  gb_per_month_included  \\\n",
       "0  Краснодар  ultra               1000                   30.0   \n",
       "1  Краснодар  ultra               1000                   30.0   \n",
       "2  Краснодар  ultra               1000                   30.0   \n",
       "3  Краснодар  ultra               1000                   30.0   \n",
       "4  Краснодар  ultra               1000                   30.0   \n",
       "\n",
       "   minutes_included  rub_monthly_fee  rub_per_gb  rub_per_message  \\\n",
       "0              3000             1950         150                1   \n",
       "1              3000             1950         150                1   \n",
       "2              3000             1950         150                1   \n",
       "3              3000             1950         150                1   \n",
       "4              3000             1950         150                1   \n",
       "\n",
       "   rub_per_minute tariff_name  \n",
       "0               1       ultra  \n",
       "1               1       ultra  \n",
       "2               1       ultra  \n",
       "3               1       ultra  \n",
       "4               1       ultra  "
      ]
     },
     "execution_count": 23,
     "metadata": {},
     "output_type": "execute_result"
    }
   ],
   "source": [
    "users_consumption = user_calls.merge(user_messages, on=['user_id','month_id'], how ='outer')\\\n",
    "                              .merge(user_internet, on=['user_id','month_id'], how ='outer')\\\n",
    "                              .merge(users[['user_id', 'city', 'tariff']], on=['user_id'], how ='outer')\\\n",
    "                              .merge(tariffs, left_on = 'tariff', right_on = 'tariff_name', how ='inner')\n",
    "\n",
    "users_consumption = users_consumption.fillna(0)\n",
    "users_consumption[users_consumption.columns[1:6]] = users_consumption[users_consumption.columns[1:6]].astype(int)\n",
    "\n",
    "users_consumption.head()"
   ]
  },
  {
   "cell_type": "markdown",
   "metadata": {},
   "source": [
    "<div class=\"alert alert-success\">\n",
    "<b>Комментарий ревьюера v1:</b>\n",
    "    \n",
    "Здорово. how='outer' здесь подходит, чтобы не потерять данныe.\n",
    "\n",
    "Кстати, можно сгруппировать 3 таблицы одновременно с помощью reduce. Почитать можно тут:\n",
    "https://www.codegrepper.com/code-examples/python/merge+more+than+2+dataframes+in+pandas\n",
    "</div>"
   ]
  },
  {
   "cell_type": "code",
   "execution_count": 24,
   "metadata": {},
   "outputs": [
    {
     "data": {
      "text/html": [
       "<div>\n",
       "<style scoped>\n",
       "    .dataframe tbody tr th:only-of-type {\n",
       "        vertical-align: middle;\n",
       "    }\n",
       "\n",
       "    .dataframe tbody tr th {\n",
       "        vertical-align: top;\n",
       "    }\n",
       "\n",
       "    .dataframe thead th {\n",
       "        text-align: right;\n",
       "    }\n",
       "</style>\n",
       "<table border=\"1\" class=\"dataframe\">\n",
       "  <thead>\n",
       "    <tr style=\"text-align: right;\">\n",
       "      <th></th>\n",
       "      <th>user_id</th>\n",
       "      <th>month_id</th>\n",
       "      <th>duration_sum</th>\n",
       "      <th>calls_count</th>\n",
       "      <th>messages_count</th>\n",
       "      <th>gb_used_sum</th>\n",
       "      <th>city</th>\n",
       "      <th>tariff</th>\n",
       "      <th>messages_included</th>\n",
       "      <th>gb_per_month_included</th>\n",
       "      <th>minutes_included</th>\n",
       "      <th>rub_monthly_fee</th>\n",
       "      <th>rub_per_gb</th>\n",
       "      <th>rub_per_message</th>\n",
       "      <th>rub_per_minute</th>\n",
       "      <th>tariff_name</th>\n",
       "      <th>overpayments</th>\n",
       "    </tr>\n",
       "  </thead>\n",
       "  <tbody>\n",
       "    <tr>\n",
       "      <td>0</td>\n",
       "      <td>1000</td>\n",
       "      <td>5</td>\n",
       "      <td>159</td>\n",
       "      <td>22</td>\n",
       "      <td>22</td>\n",
       "      <td>3</td>\n",
       "      <td>Краснодар</td>\n",
       "      <td>ultra</td>\n",
       "      <td>1000</td>\n",
       "      <td>30.0</td>\n",
       "      <td>3000</td>\n",
       "      <td>1950</td>\n",
       "      <td>150</td>\n",
       "      <td>1</td>\n",
       "      <td>1</td>\n",
       "      <td>ultra</td>\n",
       "      <td>1950.0</td>\n",
       "    </tr>\n",
       "    <tr>\n",
       "      <td>1</td>\n",
       "      <td>1000</td>\n",
       "      <td>6</td>\n",
       "      <td>172</td>\n",
       "      <td>43</td>\n",
       "      <td>60</td>\n",
       "      <td>23</td>\n",
       "      <td>Краснодар</td>\n",
       "      <td>ultra</td>\n",
       "      <td>1000</td>\n",
       "      <td>30.0</td>\n",
       "      <td>3000</td>\n",
       "      <td>1950</td>\n",
       "      <td>150</td>\n",
       "      <td>1</td>\n",
       "      <td>1</td>\n",
       "      <td>ultra</td>\n",
       "      <td>1950.0</td>\n",
       "    </tr>\n",
       "    <tr>\n",
       "      <td>2</td>\n",
       "      <td>1000</td>\n",
       "      <td>7</td>\n",
       "      <td>340</td>\n",
       "      <td>47</td>\n",
       "      <td>75</td>\n",
       "      <td>14</td>\n",
       "      <td>Краснодар</td>\n",
       "      <td>ultra</td>\n",
       "      <td>1000</td>\n",
       "      <td>30.0</td>\n",
       "      <td>3000</td>\n",
       "      <td>1950</td>\n",
       "      <td>150</td>\n",
       "      <td>1</td>\n",
       "      <td>1</td>\n",
       "      <td>ultra</td>\n",
       "      <td>1950.0</td>\n",
       "    </tr>\n",
       "    <tr>\n",
       "      <td>3</td>\n",
       "      <td>1000</td>\n",
       "      <td>8</td>\n",
       "      <td>408</td>\n",
       "      <td>52</td>\n",
       "      <td>81</td>\n",
       "      <td>14</td>\n",
       "      <td>Краснодар</td>\n",
       "      <td>ultra</td>\n",
       "      <td>1000</td>\n",
       "      <td>30.0</td>\n",
       "      <td>3000</td>\n",
       "      <td>1950</td>\n",
       "      <td>150</td>\n",
       "      <td>1</td>\n",
       "      <td>1</td>\n",
       "      <td>ultra</td>\n",
       "      <td>1950.0</td>\n",
       "    </tr>\n",
       "    <tr>\n",
       "      <td>4</td>\n",
       "      <td>1000</td>\n",
       "      <td>9</td>\n",
       "      <td>466</td>\n",
       "      <td>58</td>\n",
       "      <td>57</td>\n",
       "      <td>15</td>\n",
       "      <td>Краснодар</td>\n",
       "      <td>ultra</td>\n",
       "      <td>1000</td>\n",
       "      <td>30.0</td>\n",
       "      <td>3000</td>\n",
       "      <td>1950</td>\n",
       "      <td>150</td>\n",
       "      <td>1</td>\n",
       "      <td>1</td>\n",
       "      <td>ultra</td>\n",
       "      <td>1950.0</td>\n",
       "    </tr>\n",
       "  </tbody>\n",
       "</table>\n",
       "</div>"
      ],
      "text/plain": [
       "   user_id  month_id  duration_sum  calls_count  messages_count  gb_used_sum  \\\n",
       "0     1000         5           159           22              22            3   \n",
       "1     1000         6           172           43              60           23   \n",
       "2     1000         7           340           47              75           14   \n",
       "3     1000         8           408           52              81           14   \n",
       "4     1000         9           466           58              57           15   \n",
       "\n",
       "        city tariff  messages_included  gb_per_month_included  \\\n",
       "0  Краснодар  ultra               1000                   30.0   \n",
       "1  Краснодар  ultra               1000                   30.0   \n",
       "2  Краснодар  ultra               1000                   30.0   \n",
       "3  Краснодар  ultra               1000                   30.0   \n",
       "4  Краснодар  ultra               1000                   30.0   \n",
       "\n",
       "   minutes_included  rub_monthly_fee  rub_per_gb  rub_per_message  \\\n",
       "0              3000             1950         150                1   \n",
       "1              3000             1950         150                1   \n",
       "2              3000             1950         150                1   \n",
       "3              3000             1950         150                1   \n",
       "4              3000             1950         150                1   \n",
       "\n",
       "   rub_per_minute tariff_name  overpayments  \n",
       "0               1       ultra        1950.0  \n",
       "1               1       ultra        1950.0  \n",
       "2               1       ultra        1950.0  \n",
       "3               1       ultra        1950.0  \n",
       "4               1       ultra        1950.0  "
      ]
     },
     "execution_count": 24,
     "metadata": {},
     "output_type": "execute_result"
    }
   ],
   "source": [
    "users_consumption['overpayments'] = users_consumption.apply(get_overpayments_on_tariff, axis=1)\n",
    "users_consumption.head()"
   ]
  },
  {
   "cell_type": "code",
   "execution_count": 25,
   "metadata": {},
   "outputs": [
    {
     "name": "stdout",
     "output_type": "stream",
     "text": [
      "<class 'pandas.core.frame.DataFrame'>\n",
      "Int64Index: 3216 entries, 0 to 3215\n",
      "Data columns (total 17 columns):\n",
      "user_id                  3216 non-null int64\n",
      "month_id                 3216 non-null int64\n",
      "duration_sum             3216 non-null int64\n",
      "calls_count              3216 non-null int64\n",
      "messages_count           3216 non-null int64\n",
      "gb_used_sum              3216 non-null int64\n",
      "city                     3216 non-null object\n",
      "tariff                   3216 non-null object\n",
      "messages_included        3216 non-null int64\n",
      "gb_per_month_included    3216 non-null float64\n",
      "minutes_included         3216 non-null int64\n",
      "rub_monthly_fee          3216 non-null int64\n",
      "rub_per_gb               3216 non-null int64\n",
      "rub_per_message          3216 non-null int64\n",
      "rub_per_minute           3216 non-null int64\n",
      "tariff_name              3216 non-null object\n",
      "overpayments             3216 non-null float64\n",
      "dtypes: float64(2), int64(12), object(3)\n",
      "memory usage: 452.2+ KB\n"
     ]
    }
   ],
   "source": [
    "users_consumption.info()"
   ]
  },
  {
   "cell_type": "markdown",
   "metadata": {},
   "source": [
    "<div class=\"alert alert-success\">\n",
    "<b>Комментарий ревьюера v1:</b>\n",
    "    \n",
    "- Расчет выручки верный и здорово, что через функцию. \n",
    "    \n",
    "- Кстати можно сделать расчет выручки немного по другому (чуть короче и быстрее без apply) с помощью np.where ([https://numpy.org/doc/stable/reference/generated/numpy.where.html](https://numpy.org/doc/stable/reference/generated/numpy.where.html)):\n",
    "\n",
    "```\n",
    "np.where('условие: если перерасход выполняем второй аргумент','перерасход умножаем на цену', '0')\n",
    "```\n",
    "  \n",
    "- Или же через clip() Прочитать можно тут: [https://pythobyte.com/numpy-clip-22378/](https://pythobyte.com/numpy-clip-22378/)\n",
    "\n",
    "```\n",
    "total5['gb_surcharge'] = (total5['gb_used'] - total5['gb_per_month_included']).clip(0) * total5['usd_per_gb']\n",
    "```\n",
    "</div>"
   ]
  },
  {
   "cell_type": "code",
   "execution_count": 26,
   "metadata": {},
   "outputs": [
    {
     "data": {
      "text/html": [
       "<div>\n",
       "<style scoped>\n",
       "    .dataframe tbody tr th:only-of-type {\n",
       "        vertical-align: middle;\n",
       "    }\n",
       "\n",
       "    .dataframe tbody tr th {\n",
       "        vertical-align: top;\n",
       "    }\n",
       "\n",
       "    .dataframe thead th {\n",
       "        text-align: right;\n",
       "    }\n",
       "</style>\n",
       "<table border=\"1\" class=\"dataframe\">\n",
       "  <thead>\n",
       "    <tr style=\"text-align: right;\">\n",
       "      <th></th>\n",
       "      <th>missing_values</th>\n",
       "      <th>% of total</th>\n",
       "    </tr>\n",
       "  </thead>\n",
       "  <tbody>\n",
       "    <tr>\n",
       "      <td>user_id</td>\n",
       "      <td>0</td>\n",
       "      <td>0.0</td>\n",
       "    </tr>\n",
       "    <tr>\n",
       "      <td>gb_per_month_included</td>\n",
       "      <td>0</td>\n",
       "      <td>0.0</td>\n",
       "    </tr>\n",
       "    <tr>\n",
       "      <td>tariff_name</td>\n",
       "      <td>0</td>\n",
       "      <td>0.0</td>\n",
       "    </tr>\n",
       "    <tr>\n",
       "      <td>rub_per_minute</td>\n",
       "      <td>0</td>\n",
       "      <td>0.0</td>\n",
       "    </tr>\n",
       "    <tr>\n",
       "      <td>rub_per_message</td>\n",
       "      <td>0</td>\n",
       "      <td>0.0</td>\n",
       "    </tr>\n",
       "    <tr>\n",
       "      <td>rub_per_gb</td>\n",
       "      <td>0</td>\n",
       "      <td>0.0</td>\n",
       "    </tr>\n",
       "    <tr>\n",
       "      <td>rub_monthly_fee</td>\n",
       "      <td>0</td>\n",
       "      <td>0.0</td>\n",
       "    </tr>\n",
       "    <tr>\n",
       "      <td>minutes_included</td>\n",
       "      <td>0</td>\n",
       "      <td>0.0</td>\n",
       "    </tr>\n",
       "    <tr>\n",
       "      <td>messages_included</td>\n",
       "      <td>0</td>\n",
       "      <td>0.0</td>\n",
       "    </tr>\n",
       "    <tr>\n",
       "      <td>month_id</td>\n",
       "      <td>0</td>\n",
       "      <td>0.0</td>\n",
       "    </tr>\n",
       "    <tr>\n",
       "      <td>tariff</td>\n",
       "      <td>0</td>\n",
       "      <td>0.0</td>\n",
       "    </tr>\n",
       "    <tr>\n",
       "      <td>city</td>\n",
       "      <td>0</td>\n",
       "      <td>0.0</td>\n",
       "    </tr>\n",
       "    <tr>\n",
       "      <td>gb_used_sum</td>\n",
       "      <td>0</td>\n",
       "      <td>0.0</td>\n",
       "    </tr>\n",
       "    <tr>\n",
       "      <td>messages_count</td>\n",
       "      <td>0</td>\n",
       "      <td>0.0</td>\n",
       "    </tr>\n",
       "    <tr>\n",
       "      <td>calls_count</td>\n",
       "      <td>0</td>\n",
       "      <td>0.0</td>\n",
       "    </tr>\n",
       "    <tr>\n",
       "      <td>duration_sum</td>\n",
       "      <td>0</td>\n",
       "      <td>0.0</td>\n",
       "    </tr>\n",
       "    <tr>\n",
       "      <td>overpayments</td>\n",
       "      <td>0</td>\n",
       "      <td>0.0</td>\n",
       "    </tr>\n",
       "  </tbody>\n",
       "</table>\n",
       "</div>"
      ],
      "text/plain": [
       "                       missing_values  % of total\n",
       "user_id                             0         0.0\n",
       "gb_per_month_included               0         0.0\n",
       "tariff_name                         0         0.0\n",
       "rub_per_minute                      0         0.0\n",
       "rub_per_message                     0         0.0\n",
       "rub_per_gb                          0         0.0\n",
       "rub_monthly_fee                     0         0.0\n",
       "minutes_included                    0         0.0\n",
       "messages_included                   0         0.0\n",
       "month_id                            0         0.0\n",
       "tariff                              0         0.0\n",
       "city                                0         0.0\n",
       "gb_used_sum                         0         0.0\n",
       "messages_count                      0         0.0\n",
       "calls_count                         0         0.0\n",
       "duration_sum                        0         0.0\n",
       "overpayments                        0         0.0"
      ]
     },
     "execution_count": 26,
     "metadata": {},
     "output_type": "execute_result"
    }
   ],
   "source": [
    "get_missing_values(users_consumption)"
   ]
  },
  {
   "cell_type": "markdown",
   "metadata": {},
   "source": [
    "### Вывод"
   ]
  },
  {
   "cell_type": "markdown",
   "metadata": {},
   "source": [
    "Для каждого пользователя были расчитаны следующие показатели:\n",
    "* Количество сделанных звонков и израсходованных минут разговора по месяцам;\n",
    "* Количество отправленных сообщений по месяцам;\n",
    "* Объем израсходованного интернет-трафика по месяцам;\n",
    "* Помесячная выручка с каждого пользователя.\n",
    "\n",
    "Все показатели были собраны в общую таблицу `users_consumption` для удобства их дальнейшего использования."
   ]
  },
  {
   "cell_type": "markdown",
   "metadata": {},
   "source": [
    "## Анализ данных"
   ]
  },
  {
   "cell_type": "markdown",
   "metadata": {},
   "source": [
    "### Графический анализ разговоров, сообщений, объёма трафика и переплаты по каждому тарифу"
   ]
  },
  {
   "cell_type": "code",
   "execution_count": 27,
   "metadata": {},
   "outputs": [],
   "source": [
    "col_names = ['duration_sum', 'messages_count', 'gb_used_sum', 'overpayments']"
   ]
  },
  {
   "cell_type": "code",
   "execution_count": 28,
   "metadata": {},
   "outputs": [
    {
     "data": {
      "image/png": "[encoded data removed]",
      "text/plain": [
       "<Figure size 1152x864 with 4 Axes>"
      ]
     },
     "metadata": {
      "needs_background": "light"
     },
     "output_type": "display_data"
    }
   ],
   "source": [
    "fig, axes = plt.subplots(2, 2, figsize=figsize)\n",
    "\n",
    "y = 0\n",
    "for col_name in col_names:\n",
    "    i, j = divmod(y, 2)\n",
    "    users_consumption.query('tariff_name == \"smart\"').boxplot(column=[col_name], ax = axes[i, j])\n",
    "    y = y + 1"
   ]
  },
  {
   "cell_type": "code",
   "execution_count": 44,
   "metadata": {},
   "outputs": [
    {
     "data": {
      "image/png": "[encoded data removed]",
      "text/plain": [
       "<Figure size 1152x864 with 4 Axes>"
      ]
     },
     "metadata": {
      "needs_background": "light"
     },
     "output_type": "display_data"
    }
   ],
   "source": [
    "fig, axes = plt.subplots(2, 2, figsize=figsize)\n",
    "\n",
    "y = 0\n",
    "for col_name in col_names:\n",
    "    i, j = divmod(y, 2)\n",
    "    users_consumption.query('tariff_name == \"ultra\"').boxplot(column=[col_name], ax = axes[i, j])\n",
    "    y = y + 1"
   ]
  },
  {
   "cell_type": "code",
   "execution_count": 45,
   "metadata": {},
   "outputs": [
    {
     "data": {
      "image/png": "[encoded data removed]",
      "text/plain": [
       "<Figure size 1152x864 with 4 Axes>"
      ]
     },
     "metadata": {
      "needs_background": "light"
     },
     "output_type": "display_data"
    }
   ],
   "source": [
    "users_consumption.query('tariff_name == \"smart\"')[col_names].hist(figsize=figsize, bins=20);"
   ]
  },
  {
   "cell_type": "code",
   "execution_count": 52,
   "metadata": {},
   "outputs": [
    {
     "data": {
      "image/png": "[encoded data removed]",
      "text/plain": [
       "<Figure size 1152x864 with 4 Axes>"
      ]
     },
     "metadata": {
      "needs_background": "light"
     },
     "output_type": "display_data"
    }
   ],
   "source": [
    "users_consumption.query('tariff_name == \"ultra\"')[col_names].hist(figsize=figsize, bins=20);\n"
   ]
  },
  {
   "cell_type": "markdown",
   "metadata": {},
   "source": [
    "<div class=\"alert alert-warning\">\n",
    "<b>Комментарий ревьюера v1:</b>\n",
    "    \n",
    "Не забывай, пожалуйста, добавлять легенду и заголовки к графикам, чтобы было сразу понятно что это за график и с какой информацией.\n",
    "\n",
    "</div>"
   ]
  },
  {
   "cell_type": "markdown",
   "metadata": {},
   "source": [
    "<div class=\"alert alert-info\"> <b>Комментарий студента:</b> Если поправить, то придется циклом создавать графики. Встроенный метод pandas.hist() не дает возможности это делать. Не хочу усложнять свое решение, итак слишком длинный блокнот получился. Если есть возможность решить эту проблему без цикла, подскажите, пожалуйста способ :)</div>"
   ]
  },
  {
   "cell_type": "markdown",
   "metadata": {},
   "source": [
    "<div class=\"alert alert-success\">\n",
    "<b>Комментарий ревьюера v2:</b>\n",
    "    \n",
    "Можно, например, применить suptitle()\n",
    "    \n",
    "    import pylab as pl\n",
    "    users_consumption.query('tariff_name == \"ultra\"')[col_names].hist(figsize=figsize, bins=20)\n",
    "    pl.suptitle(\"Пример заголовка - тариф Ultra\");\n",
    "    \n",
    "</div>"
   ]
  },
  {
   "cell_type": "markdown",
   "metadata": {},
   "source": [
    "### Статистический анализ разговоров, сообщений и объёма интернет-трафика по каждому тарифу"
   ]
  },
  {
   "cell_type": "code",
   "execution_count": 32,
   "metadata": {},
   "outputs": [
    {
     "data": {
      "text/html": [
       "<div>\n",
       "<style scoped>\n",
       "    .dataframe tbody tr th:only-of-type {\n",
       "        vertical-align: middle;\n",
       "    }\n",
       "\n",
       "    .dataframe tbody tr th {\n",
       "        vertical-align: top;\n",
       "    }\n",
       "\n",
       "    .dataframe thead th {\n",
       "        text-align: right;\n",
       "    }\n",
       "</style>\n",
       "<table border=\"1\" class=\"dataframe\">\n",
       "  <thead>\n",
       "    <tr style=\"text-align: right;\">\n",
       "      <th></th>\n",
       "      <th>duration_sum</th>\n",
       "      <th>messages_count</th>\n",
       "      <th>gb_used_sum</th>\n",
       "      <th>overpayments</th>\n",
       "    </tr>\n",
       "  </thead>\n",
       "  <tbody>\n",
       "    <tr>\n",
       "      <td>count</td>\n",
       "      <td>2230.00</td>\n",
       "      <td>2230.00</td>\n",
       "      <td>2230.00</td>\n",
       "      <td>2230.00</td>\n",
       "    </tr>\n",
       "    <tr>\n",
       "      <td>mean</td>\n",
       "      <td>417.75</td>\n",
       "      <td>33.37</td>\n",
       "      <td>16.32</td>\n",
       "      <td>1289.64</td>\n",
       "    </tr>\n",
       "    <tr>\n",
       "      <td>std</td>\n",
       "      <td>190.48</td>\n",
       "      <td>28.23</td>\n",
       "      <td>5.76</td>\n",
       "      <td>818.37</td>\n",
       "    </tr>\n",
       "    <tr>\n",
       "      <td>min</td>\n",
       "      <td>0.00</td>\n",
       "      <td>0.00</td>\n",
       "      <td>0.00</td>\n",
       "      <td>550.00</td>\n",
       "    </tr>\n",
       "    <tr>\n",
       "      <td>25%</td>\n",
       "      <td>282.00</td>\n",
       "      <td>10.00</td>\n",
       "      <td>13.00</td>\n",
       "      <td>550.00</td>\n",
       "    </tr>\n",
       "    <tr>\n",
       "      <td>50%</td>\n",
       "      <td>421.50</td>\n",
       "      <td>28.00</td>\n",
       "      <td>17.00</td>\n",
       "      <td>1021.00</td>\n",
       "    </tr>\n",
       "    <tr>\n",
       "      <td>75%</td>\n",
       "      <td>545.00</td>\n",
       "      <td>51.00</td>\n",
       "      <td>20.00</td>\n",
       "      <td>1750.00</td>\n",
       "    </tr>\n",
       "    <tr>\n",
       "      <td>max</td>\n",
       "      <td>1435.00</td>\n",
       "      <td>143.00</td>\n",
       "      <td>38.00</td>\n",
       "      <td>6770.00</td>\n",
       "    </tr>\n",
       "  </tbody>\n",
       "</table>\n",
       "</div>"
      ],
      "text/plain": [
       "       duration_sum  messages_count  gb_used_sum  overpayments\n",
       "count       2230.00         2230.00      2230.00       2230.00\n",
       "mean         417.75           33.37        16.32       1289.64\n",
       "std          190.48           28.23         5.76        818.37\n",
       "min            0.00            0.00         0.00        550.00\n",
       "25%          282.00           10.00        13.00        550.00\n",
       "50%          421.50           28.00        17.00       1021.00\n",
       "75%          545.00           51.00        20.00       1750.00\n",
       "max         1435.00          143.00        38.00       6770.00"
      ]
     },
     "execution_count": 32,
     "metadata": {},
     "output_type": "execute_result"
    }
   ],
   "source": [
    "users_consumption.query('tariff_name == \"smart\"')[col_names].describe().round(2)"
   ]
  },
  {
   "cell_type": "code",
   "execution_count": 33,
   "metadata": {},
   "outputs": [
    {
     "data": {
      "text/html": [
       "<div>\n",
       "<style scoped>\n",
       "    .dataframe tbody tr th:only-of-type {\n",
       "        vertical-align: middle;\n",
       "    }\n",
       "\n",
       "    .dataframe tbody tr th {\n",
       "        vertical-align: top;\n",
       "    }\n",
       "\n",
       "    .dataframe thead th {\n",
       "        text-align: right;\n",
       "    }\n",
       "</style>\n",
       "<table border=\"1\" class=\"dataframe\">\n",
       "  <thead>\n",
       "    <tr style=\"text-align: right;\">\n",
       "      <th></th>\n",
       "      <th>duration_sum</th>\n",
       "      <th>messages_count</th>\n",
       "      <th>gb_used_sum</th>\n",
       "      <th>overpayments</th>\n",
       "    </tr>\n",
       "  </thead>\n",
       "  <tbody>\n",
       "    <tr>\n",
       "      <td>count</td>\n",
       "      <td>986.00</td>\n",
       "      <td>986.00</td>\n",
       "      <td>986.00</td>\n",
       "      <td>986.00</td>\n",
       "    </tr>\n",
       "    <tr>\n",
       "      <td>mean</td>\n",
       "      <td>526.09</td>\n",
       "      <td>49.31</td>\n",
       "      <td>19.47</td>\n",
       "      <td>2070.03</td>\n",
       "    </tr>\n",
       "    <tr>\n",
       "      <td>std</td>\n",
       "      <td>317.89</td>\n",
       "      <td>47.81</td>\n",
       "      <td>9.87</td>\n",
       "      <td>376.02</td>\n",
       "    </tr>\n",
       "    <tr>\n",
       "      <td>min</td>\n",
       "      <td>0.00</td>\n",
       "      <td>0.00</td>\n",
       "      <td>0.00</td>\n",
       "      <td>1950.00</td>\n",
       "    </tr>\n",
       "    <tr>\n",
       "      <td>25%</td>\n",
       "      <td>282.50</td>\n",
       "      <td>6.00</td>\n",
       "      <td>12.00</td>\n",
       "      <td>1950.00</td>\n",
       "    </tr>\n",
       "    <tr>\n",
       "      <td>50%</td>\n",
       "      <td>518.00</td>\n",
       "      <td>38.00</td>\n",
       "      <td>19.00</td>\n",
       "      <td>1950.00</td>\n",
       "    </tr>\n",
       "    <tr>\n",
       "      <td>75%</td>\n",
       "      <td>751.75</td>\n",
       "      <td>78.75</td>\n",
       "      <td>27.00</td>\n",
       "      <td>1950.00</td>\n",
       "    </tr>\n",
       "    <tr>\n",
       "      <td>max</td>\n",
       "      <td>1673.00</td>\n",
       "      <td>224.00</td>\n",
       "      <td>49.00</td>\n",
       "      <td>4800.00</td>\n",
       "    </tr>\n",
       "  </tbody>\n",
       "</table>\n",
       "</div>"
      ],
      "text/plain": [
       "       duration_sum  messages_count  gb_used_sum  overpayments\n",
       "count        986.00          986.00       986.00        986.00\n",
       "mean         526.09           49.31        19.47       2070.03\n",
       "std          317.89           47.81         9.87        376.02\n",
       "min            0.00            0.00         0.00       1950.00\n",
       "25%          282.50            6.00        12.00       1950.00\n",
       "50%          518.00           38.00        19.00       1950.00\n",
       "75%          751.75           78.75        27.00       1950.00\n",
       "max         1673.00          224.00        49.00       4800.00"
      ]
     },
     "execution_count": 33,
     "metadata": {},
     "output_type": "execute_result"
    }
   ],
   "source": [
    "users_consumption.query('tariff_name == \"ultra\"')[col_names].describe().round(2)"
   ]
  },
  {
   "cell_type": "code",
   "execution_count": 34,
   "metadata": {},
   "outputs": [
    {
     "name": "stdout",
     "output_type": "stream",
     "text": [
      "       duration_sum                           \n",
      "             median    mean        var     std\n",
      "tariff                                        \n",
      "smart         421.5  417.75   36281.39  190.48\n",
      "ultra         518.0  526.09  101052.49  317.89 \n",
      "\n",
      "\n",
      "\n",
      "       messages_count                       \n",
      "               median   mean      var    std\n",
      "tariff                                      \n",
      "smart              28  33.37   796.96  28.23\n",
      "ultra              38  49.31  2285.42  47.81 \n",
      "\n",
      "\n",
      "\n",
      "       gb_used_sum                    \n",
      "            median   mean    var   std\n",
      "tariff                                \n",
      "smart           17  16.32  33.13  5.76\n",
      "ultra           19  19.47  97.38  9.87 \n",
      "\n",
      "\n",
      "\n",
      "       overpayments                            \n",
      "             median     mean        var     std\n",
      "tariff                                         \n",
      "smart        1021.0  1289.64  669730.76  818.37\n",
      "ultra        1950.0  2070.03  141387.71  376.02 \n",
      "\n",
      "\n",
      "\n"
     ]
    }
   ],
   "source": [
    "for col_name in col_names:\n",
    "    statistical_indicators = users_consumption.groupby('tariff')\\\n",
    "                                              .agg({col_name:['median','mean','var','std']}).round(2)\n",
    "    \n",
    "    print(statistical_indicators, '\\n\\n\\n')"
   ]
  },
  {
   "cell_type": "markdown",
   "metadata": {},
   "source": [
    "### Вывод"
   ]
  },
  {
   "cell_type": "markdown",
   "metadata": {},
   "source": [
    "* Абоненты тарифа \"Смарт\" чаще переплачивают по своему тарифу;\n",
    "* Абоненты тарифа \"Ультра\" в среднем говорят по телефону около 526 минут, когда их запас 3000 минут;\n",
    "* Абоненты тарифа \"Ультра\" чаще пользуются СМС;\n",
    "* Владельцы обоих тарифов примерно одинаково пользуются услугами интернет трафика."
   ]
  },
  {
   "cell_type": "markdown",
   "metadata": {},
   "source": [
    "<div class=\"alert alert-success\">\n",
    "<b>Комментарий ревьюера v1:</b>\n",
    "\n",
    "Оставлю общие комментарии по разделу: В целом получилась отличная аналитика, выводы и предположения. Наглядная и аккуратная визуализация данных. \n",
    "    \n",
    "Можно также попробовать наложить два тарифа на один график, возможно, будет чуть нагляднее.\n",
    "   \n",
    "Но если есть время и желание попрактиковаться, то можно вывести два графика (гистограмму и диаграмму размаха) с помощью сабплота в две колонки.\n",
    "    \n",
    "    # Создадим одну строку с двумя колонками\n",
    "    fig, axes = plt.subplots(1, 2, figsize=(16, 5))\n",
    "    \n",
    "    sns.distplot(...)\n",
    "    ...\n",
    "    sns.boxplot(...)\n",
    "    \n",
    "    ...\n",
    "\n",
    "</div>\n"
   ]
  },
  {
   "cell_type": "markdown",
   "metadata": {},
   "source": [
    "## Очистка данных от выбросов"
   ]
  },
  {
   "cell_type": "markdown",
   "metadata": {},
   "source": [
    "### Фильтр по квантилям"
   ]
  },
  {
   "cell_type": "code",
   "execution_count": null,
   "metadata": {},
   "outputs": [],
   "source": [
    "for col in col_names:\n",
    "    q1 = users_consumption[col].quantile(0.25)   \n",
    "    q3 = users_consumption[col].quantile(0.75)\n",
    "    iqr = q3 - q1\n",
    "    \n",
    "    filter_by_col = (users_consumption[col] >= (q1 - 1.5*iqr)) & (users_consumption[col] <= (q3 + 1.5*iqr))\n",
    "    users_consumption = users_consumption[filter_by_col]\n",
    "\n",
    "\n",
    "users_consumption = users_consumption.reset_index(drop=True)\n",
    "print(users_consumption.shape)\n",
    "users_consumption.head()"
   ]
  },
  {
   "cell_type": "markdown",
   "metadata": {},
   "source": [
    "### Вывод"
   ]
  },
  {
   "cell_type": "markdown",
   "metadata": {},
   "source": [
    "Для каждого из столбцов `duration_sum`, `messages_count`, `gb_used_sum`, `overpayments` были найдены значения 25% и 75% квантиля. Далее, для каждого столбца (из списка выше) были оставлены лишь те значения, которые не выходят за границы межквартильного размаха. Оставшаяся после преобразований таблица была использована при проверке гипотез ниже."
   ]
  },
  {
   "cell_type": "markdown",
   "metadata": {},
   "source": [
    "<div class=\"alert alert-success\">\n",
    "<b>Комментарий ревьюера v1:</b>\n",
    "\n",
    "Отлично! Молодец, что провел очистку данных до проверки гипотез.\n",
    "</div>\n"
   ]
  },
  {
   "cell_type": "markdown",
   "metadata": {},
   "source": [
    "## Проверка гипотез"
   ]
  },
  {
   "cell_type": "markdown",
   "metadata": {},
   "source": [
    "### Cредняя выручка пользователей тарифов «Ультра» и «Смарт» различаются\n",
    "\n",
    "* H0: Cредняя выручка пользователей тарифов «Ультра» и «Смарт» не различается.\n",
    "* H1: Cредняя выручка пользователей тарифов «Ультра» и «Смарт» различается."
   ]
  },
  {
   "cell_type": "code",
   "execution_count": null,
   "metadata": {},
   "outputs": [],
   "source": [
    "alpha = 0.05\n",
    "\n",
    "results = st.ttest_ind(\n",
    "    users_consumption.query('tariff_name == \"ultra\"')['overpayments'], \n",
    "    users_consumption.query('tariff_name == \"smart\"')['overpayments']\n",
    ")\n",
    "\n",
    "print('p-значение:', results.pvalue)\n",
    "\n",
    "if (results.pvalue < alpha):\n",
    "    print(\"Отвергаем нулевую гипотезу.\")\n",
    "else:\n",
    "    print(\"Не получилось отвергнуть нулевую гипотезу.\")"
   ]
  },
  {
   "cell_type": "markdown",
   "metadata": {},
   "source": [
    "### Выручка пользователей из Москвы отличается от выручки пользователей из других регионов\n",
    "\n",
    "* H0: Средняя выручка пользователей из Москвы не отличается от выручки пользователей из других регионов.\n",
    "* H1: Средняя выручка пользователей из Москвы отличается от выручки пользователей из других регионов."
   ]
  },
  {
   "cell_type": "code",
   "execution_count": null,
   "metadata": {},
   "outputs": [],
   "source": [
    "alpha = 0.05\n",
    "\n",
    "results = st.ttest_ind(\n",
    "    users_consumption.query('city == \"Москва\"')['overpayments'], \n",
    "    users_consumption.query('city != \"Москва\"')['overpayments']\n",
    ")\n",
    "\n",
    "print('p-значение:', results.pvalue)\n",
    "\n",
    "if (results.pvalue < alpha):\n",
    "    print(\"Отвергаем нулевую гипотезу.\")\n",
    "else:\n",
    "    print(\"Не получилось отвергнуть нулевую гипотезу.\")"
   ]
  },
  {
   "cell_type": "markdown",
   "metadata": {},
   "source": [
    "### Вывод"
   ]
  },
  {
   "cell_type": "markdown",
   "metadata": {},
   "source": [
    "* Мы смогли отвергнуть гипотезу о том, что: средняя выручка пользователей тарифов «Ультра» и «Смарт» не различается;\n",
    "* Мы не смогли отвергнуть гипотезу о том, что: средняя выручка пользователей из Москвы не отличается от выручки пользователей из других регионов."
   ]
  },
  {
   "cell_type": "markdown",
   "metadata": {},
   "source": [
    "<div class=\"alert alert-success\">\n",
    "<b>Комментарий ревьюера v1:</b>\n",
    "    \n",
    "- Да, тут Москва и регионы платят примерно одинаково.    \n",
    "- Гипотезы сформулированы и протестированы верно.\n",
    "- Можно еще дополнительно сравнить дисперсии выборок до проверки гипотез, чтобы понять с каким параметром equal_var использовать метод проверки ttest_ind (по дефолту True). В работе ты принимаешь его как True, при этом никак не обосновываешь свой выбор. Здесь можно вручную посчитать дисперсии , либо воспользоваться стат.тестом Левене (https://docs.scipy.org/doc/scipy/reference/generated/scipy.stats.levene.html) или тестом Барлетта (https://docs.scipy.org/doc/scipy/reference/generated/scipy.stats.bartlett.html#scipy.stats.bartlett).\n",
    "</div>"
   ]
  },
  {
   "cell_type": "markdown",
   "metadata": {},
   "source": [
    "## Общий вывод"
   ]
  },
  {
   "cell_type": "markdown",
   "metadata": {},
   "source": [
    "В ходе работы были проанализированы данные по трафику абонентов, пользующихся двумя разными тарифными планами: \"Смарт\", \"Ультра\". После удаления всех выбросов из данных, мы выяснили, что на тариф \"Ультра\" приходится примерно 34% всех абонентов, а на тариф \"Смарт\" 66% соответственно. Однако, тариф \"Ультра\" приносит порядка 54% всей выручки. Абоненты тарифа \"Смарт\" чаще приближаются к отведенному лимиту по длительности звонков. Сложно выделить луший тариф, потому что это зависит от текущих целей компании. Имеет смысл подумать над введением нового, промежуточного тарифа. Ниже перечислены интересные факты, которые удалось выделить из анализа:\n",
    "\n",
    "* Владельцы обоих тарифов (\"Смарт\", \"Ультра\") примерно одинаково пользуются интернет трафиком;\n",
    "* Абоненты тарифа \"Смарт\" чаще других переплачивают по своему тарифу;\n",
    "* Крайне редко (практически никогда) абоненты переплачивают за услуги СМС;\n",
    "* Есть статистически значимая разница между средней выручкой пользователей тарифов «Ультра» и «Смарт»."
   ]
  },
  {
   "cell_type": "markdown",
   "metadata": {},
   "source": [
    "<div class=\"alert alert-danger\">\n",
    "<b>Комментарий ревьюера v1:</b>\n",
    "    \n",
    "В целом ты провел хорошее исследование: чистый код, крутые графики, правильные промежуточные выводы. Но общие выводы в данном случае это мини-презентация всей работы перед бизнес-заказчиком. На реальном проекте это, возможно, единственное, что бизнес будет читать. Поэтому необходимо структурировано указывать развернутые комментарии ко всем выводам, которые были получены по каждому пункту работы. Стоит также подумать, что будет интересно со стороны бизнеса (детальное описание пользователя для каждого тарифа, что нам показывают выбросы, кто приносит больше дополнительной выручки, кто приносит больше выручки в общем объеме). Ну и ответить на главный вопрос проекта.\n",
    "<div>\n",
    "  "
   ]
  },
  {
   "cell_type": "markdown",
   "metadata": {},
   "source": [
    "<div class=\"alert alert-info\"> <b>Комментарий студента:</b> Поправил, спасибо!</div>"
   ]
  },
  {
   "cell_type": "markdown",
   "metadata": {},
   "source": [
    "<div class=\"alert alert-success\">\n",
    "<b>Комментарий ревьюера v2:</b>\n",
    "    \n",
    "Спасибо, что расширил общий вывод и добавил добавил рекомендации и следующие шаги.\n",
    "    \n",
    "</div>"
   ]
  }
 ],
 "metadata": {
  "ExecuteTimeLog": [
   {
    "duration": 4,
    "start_time": "2021-10-03T13:39:36.553Z"
   },
   {
    "duration": 682,
    "start_time": "2021-10-03T13:40:23.925Z"
   },
   {
    "duration": 58,
    "start_time": "2021-10-03T13:41:03.342Z"
   },
   {
    "duration": 29,
    "start_time": "2021-10-03T13:41:13.028Z"
   },
   {
    "duration": 41,
    "start_time": "2021-10-03T13:44:40.932Z"
   },
   {
    "duration": 4,
    "start_time": "2021-10-03T13:45:39.423Z"
   },
   {
    "duration": 3,
    "start_time": "2021-10-03T13:45:49.548Z"
   },
   {
    "duration": 6,
    "start_time": "2021-10-03T13:47:32.925Z"
   },
   {
    "duration": 13,
    "start_time": "2021-10-03T13:47:44.885Z"
   },
   {
    "duration": 22,
    "start_time": "2021-10-03T13:48:01.037Z"
   },
   {
    "duration": 5,
    "start_time": "2021-10-03T13:48:16.190Z"
   },
   {
    "duration": 16,
    "start_time": "2021-10-03T13:48:18.994Z"
   },
   {
    "duration": 5,
    "start_time": "2021-10-03T13:48:45.611Z"
   },
   {
    "duration": 15,
    "start_time": "2021-10-03T13:48:49.459Z"
   },
   {
    "duration": 242,
    "start_time": "2021-10-03T13:53:38.212Z"
   },
   {
    "duration": 3,
    "start_time": "2021-10-03T13:56:29.196Z"
   },
   {
    "duration": 6,
    "start_time": "2021-10-03T13:56:43.815Z"
   },
   {
    "duration": 5,
    "start_time": "2021-10-03T13:56:47.681Z"
   },
   {
    "duration": 275,
    "start_time": "2021-10-03T13:57:12.959Z"
   },
   {
    "duration": 284,
    "start_time": "2021-10-03T13:57:20.762Z"
   },
   {
    "duration": 323,
    "start_time": "2021-10-03T13:57:25.752Z"
   },
   {
    "duration": 16,
    "start_time": "2021-10-03T13:57:33.717Z"
   },
   {
    "duration": 16,
    "start_time": "2021-10-03T13:57:42.604Z"
   },
   {
    "duration": 200,
    "start_time": "2021-10-03T14:00:18.266Z"
   },
   {
    "duration": 16,
    "start_time": "2021-10-03T14:00:29.085Z"
   },
   {
    "duration": 15,
    "start_time": "2021-10-03T14:00:43.057Z"
   },
   {
    "duration": 214,
    "start_time": "2021-10-03T14:04:44.404Z"
   },
   {
    "duration": 222,
    "start_time": "2021-10-03T14:08:23.356Z"
   },
   {
    "duration": 11,
    "start_time": "2021-10-03T14:08:44.409Z"
   },
   {
    "duration": 15,
    "start_time": "2021-10-03T14:08:56.128Z"
   },
   {
    "duration": 25,
    "start_time": "2021-10-03T14:11:47.883Z"
   },
   {
    "duration": 15,
    "start_time": "2021-10-03T14:16:34.507Z"
   },
   {
    "duration": 110,
    "start_time": "2021-10-03T14:17:02.010Z"
   },
   {
    "duration": 358,
    "start_time": "2021-10-03T14:17:04.408Z"
   },
   {
    "duration": 16,
    "start_time": "2021-10-03T14:17:18.268Z"
   },
   {
    "duration": 32,
    "start_time": "2021-10-03T14:17:26.279Z"
   },
   {
    "duration": 301,
    "start_time": "2021-10-03T14:17:54.495Z"
   },
   {
    "duration": 284,
    "start_time": "2021-10-03T14:18:11.147Z"
   },
   {
    "duration": 18,
    "start_time": "2021-10-03T14:18:24.940Z"
   },
   {
    "duration": 7330,
    "start_time": "2021-10-03T14:18:57.180Z"
   },
   {
    "duration": 1323,
    "start_time": "2021-10-03T14:19:23.431Z"
   },
   {
    "duration": 702,
    "start_time": "2021-10-03T14:19:30.709Z"
   },
   {
    "duration": 6,
    "start_time": "2021-10-03T14:19:32.333Z"
   },
   {
    "duration": 53,
    "start_time": "2021-10-03T14:19:33.476Z"
   },
   {
    "duration": 12,
    "start_time": "2021-10-03T14:19:34.220Z"
   },
   {
    "duration": 21,
    "start_time": "2021-10-03T14:19:34.646Z"
   },
   {
    "duration": 286,
    "start_time": "2021-10-03T14:19:36.041Z"
   },
   {
    "duration": 19,
    "start_time": "2021-10-03T14:19:38.632Z"
   },
   {
    "duration": 16,
    "start_time": "2021-10-03T14:19:38.793Z"
   },
   {
    "duration": 144,
    "start_time": "2021-10-03T14:19:40.496Z"
   },
   {
    "duration": 10,
    "start_time": "2021-10-03T14:19:40.652Z"
   },
   {
    "duration": 14,
    "start_time": "2021-10-03T14:19:40.834Z"
   },
   {
    "duration": 232,
    "start_time": "2021-10-03T14:19:42.093Z"
   },
   {
    "duration": 12,
    "start_time": "2021-10-03T14:19:42.328Z"
   },
   {
    "duration": 15,
    "start_time": "2021-10-03T14:19:42.948Z"
   },
   {
    "duration": 25,
    "start_time": "2021-10-03T14:19:43.986Z"
   },
   {
    "duration": 19,
    "start_time": "2021-10-03T14:20:37.175Z"
   },
   {
    "duration": 132,
    "start_time": "2021-10-03T14:20:42.351Z"
   },
   {
    "duration": 175,
    "start_time": "2021-10-03T14:21:05.008Z"
   },
   {
    "duration": 152,
    "start_time": "2021-10-03T14:21:16.373Z"
   },
   {
    "duration": 30,
    "start_time": "2021-10-03T14:22:01.871Z"
   },
   {
    "duration": 35,
    "start_time": "2021-10-03T14:22:07.826Z"
   },
   {
    "duration": 36,
    "start_time": "2021-10-03T14:27:59.894Z"
   },
   {
    "duration": 42,
    "start_time": "2021-10-03T14:28:40.531Z"
   },
   {
    "duration": 39,
    "start_time": "2021-10-03T14:29:01.457Z"
   },
   {
    "duration": 4,
    "start_time": "2021-10-03T14:29:54.782Z"
   },
   {
    "duration": 166,
    "start_time": "2021-10-03T14:30:41.602Z"
   },
   {
    "duration": 29,
    "start_time": "2021-10-03T14:31:58.982Z"
   },
   {
    "duration": 273,
    "start_time": "2021-10-03T14:33:10.154Z"
   },
   {
    "duration": 36,
    "start_time": "2021-10-03T14:33:49.278Z"
   },
   {
    "duration": 29,
    "start_time": "2021-10-03T14:34:34.954Z"
   },
   {
    "duration": 24,
    "start_time": "2021-10-03T14:40:02.710Z"
   },
   {
    "duration": 13,
    "start_time": "2021-10-03T14:40:26.171Z"
   },
   {
    "duration": 25,
    "start_time": "2021-10-03T14:41:19.068Z"
   },
   {
    "duration": 765,
    "start_time": "2021-10-03T14:48:47.756Z"
   },
   {
    "duration": 6,
    "start_time": "2021-10-03T14:48:49.444Z"
   },
   {
    "duration": 55,
    "start_time": "2021-10-03T14:48:55.003Z"
   },
   {
    "duration": 11,
    "start_time": "2021-10-03T14:48:56.893Z"
   },
   {
    "duration": 22,
    "start_time": "2021-10-03T14:48:59.594Z"
   },
   {
    "duration": 296,
    "start_time": "2021-10-03T14:49:27.944Z"
   },
   {
    "duration": 21,
    "start_time": "2021-10-03T14:49:30.782Z"
   },
   {
    "duration": 18,
    "start_time": "2021-10-03T14:49:35.100Z"
   },
   {
    "duration": 197,
    "start_time": "2021-10-03T14:49:46.910Z"
   },
   {
    "duration": 12,
    "start_time": "2021-10-03T14:49:47.651Z"
   },
   {
    "duration": 16,
    "start_time": "2021-10-03T14:49:48.801Z"
   },
   {
    "duration": 255,
    "start_time": "2021-10-03T14:49:56.158Z"
   },
   {
    "duration": 13,
    "start_time": "2021-10-03T14:49:57.374Z"
   },
   {
    "duration": 22,
    "start_time": "2021-10-03T14:49:58.340Z"
   },
   {
    "duration": 24,
    "start_time": "2021-10-03T14:50:00.884Z"
   },
   {
    "duration": 349,
    "start_time": "2021-10-03T14:50:43.872Z"
   },
   {
    "duration": 35,
    "start_time": "2021-10-03T14:50:51.242Z"
   },
   {
    "duration": 28,
    "start_time": "2021-10-03T14:51:03.525Z"
   },
   {
    "duration": 25,
    "start_time": "2021-10-03T14:51:15.540Z"
   },
   {
    "duration": 25,
    "start_time": "2021-10-03T14:51:57.395Z"
   },
   {
    "duration": 25,
    "start_time": "2021-10-03T14:51:58.881Z"
   },
   {
    "duration": 32,
    "start_time": "2021-10-03T14:52:07.528Z"
   },
   {
    "duration": 20,
    "start_time": "2021-10-03T14:52:08.954Z"
   },
   {
    "duration": 38,
    "start_time": "2021-10-03T14:52:24.394Z"
   },
   {
    "duration": 40,
    "start_time": "2021-10-03T14:55:17.051Z"
   },
   {
    "duration": 23,
    "start_time": "2021-10-03T14:57:24.341Z"
   },
   {
    "duration": 63,
    "start_time": "2021-10-03T14:57:33.365Z"
   },
   {
    "duration": 24,
    "start_time": "2021-10-03T15:00:14.087Z"
   },
   {
    "duration": 104,
    "start_time": "2021-10-03T15:00:25.541Z"
   },
   {
    "duration": 60,
    "start_time": "2021-10-03T15:00:32.535Z"
   },
   {
    "duration": 39,
    "start_time": "2021-10-03T15:00:50.132Z"
   },
   {
    "duration": 13,
    "start_time": "2021-10-03T15:00:57.510Z"
   },
   {
    "duration": 6,
    "start_time": "2021-10-03T15:14:04.014Z"
   },
   {
    "duration": 6,
    "start_time": "2021-10-03T15:15:45.445Z"
   },
   {
    "duration": 7,
    "start_time": "2021-10-03T15:16:43.111Z"
   },
   {
    "duration": 6,
    "start_time": "2021-10-03T15:16:48.491Z"
   },
   {
    "duration": 42,
    "start_time": "2021-10-03T15:17:52.232Z"
   },
   {
    "duration": 28,
    "start_time": "2021-10-03T15:17:58.789Z"
   },
   {
    "duration": 33,
    "start_time": "2021-10-03T15:18:18.946Z"
   },
   {
    "duration": 40,
    "start_time": "2021-10-03T15:18:23.013Z"
   },
   {
    "duration": 10,
    "start_time": "2021-10-03T15:18:23.240Z"
   },
   {
    "duration": 33,
    "start_time": "2021-10-03T15:18:58.630Z"
   },
   {
    "duration": 305,
    "start_time": "2021-10-03T15:19:07.654Z"
   },
   {
    "duration": 316,
    "start_time": "2021-10-03T15:19:17.756Z"
   },
   {
    "duration": 45,
    "start_time": "2021-10-03T15:19:31.447Z"
   },
   {
    "duration": 43,
    "start_time": "2021-10-03T15:19:50.337Z"
   },
   {
    "duration": 11,
    "start_time": "2021-10-03T15:19:52.091Z"
   },
   {
    "duration": 282,
    "start_time": "2021-10-03T15:46:52.123Z"
   },
   {
    "duration": 263,
    "start_time": "2021-10-03T15:47:00.112Z"
   },
   {
    "duration": 11,
    "start_time": "2021-10-03T15:47:08.185Z"
   },
   {
    "duration": 41,
    "start_time": "2021-10-03T15:47:19.961Z"
   },
   {
    "duration": 41,
    "start_time": "2021-10-03T15:47:27.092Z"
   },
   {
    "duration": 102,
    "start_time": "2021-10-03T15:48:53.487Z"
   },
   {
    "duration": 90,
    "start_time": "2021-10-03T15:48:57.197Z"
   },
   {
    "duration": 270,
    "start_time": "2021-10-03T15:49:01.495Z"
   },
   {
    "duration": 301,
    "start_time": "2021-10-03T15:49:06.085Z"
   },
   {
    "duration": 49,
    "start_time": "2021-10-03T15:49:23.322Z"
   },
   {
    "duration": 12,
    "start_time": "2021-10-03T15:49:25.346Z"
   },
   {
    "duration": 49,
    "start_time": "2021-10-03T15:50:28.258Z"
   },
   {
    "duration": 11,
    "start_time": "2021-10-03T15:50:31.228Z"
   },
   {
    "duration": 48,
    "start_time": "2021-10-03T15:50:49.324Z"
   },
   {
    "duration": 11,
    "start_time": "2021-10-03T15:50:50.801Z"
   },
   {
    "duration": 12,
    "start_time": "2021-10-03T15:50:52.563Z"
   },
   {
    "duration": 8,
    "start_time": "2021-10-03T15:51:29.299Z"
   },
   {
    "duration": 7,
    "start_time": "2021-10-03T15:52:05.299Z"
   },
   {
    "duration": 286,
    "start_time": "2021-10-03T15:52:15.178Z"
   },
   {
    "duration": 3,
    "start_time": "2021-10-03T15:53:01.506Z"
   },
   {
    "duration": 34,
    "start_time": "2021-10-03T15:53:07.694Z"
   },
   {
    "duration": 23,
    "start_time": "2021-10-03T15:53:23.984Z"
   },
   {
    "duration": 19,
    "start_time": "2021-10-03T15:53:31.546Z"
   },
   {
    "duration": 30,
    "start_time": "2021-10-03T15:53:45.562Z"
   },
   {
    "duration": 652,
    "start_time": "2021-10-03T15:54:02.550Z"
   },
   {
    "duration": 32,
    "start_time": "2021-10-03T15:54:20.055Z"
   },
   {
    "duration": 26,
    "start_time": "2021-10-03T15:54:24.511Z"
   },
   {
    "duration": 296,
    "start_time": "2021-10-03T15:54:48.142Z"
   },
   {
    "duration": 663,
    "start_time": "2021-10-03T15:55:23.663Z"
   },
   {
    "duration": 50,
    "start_time": "2021-10-03T15:55:50.915Z"
   },
   {
    "duration": 11,
    "start_time": "2021-10-03T15:55:52.935Z"
   },
   {
    "duration": 29,
    "start_time": "2021-10-03T15:56:31.187Z"
   },
   {
    "duration": 21,
    "start_time": "2021-10-03T15:56:38.329Z"
   },
   {
    "duration": 19,
    "start_time": "2021-10-03T15:56:44.596Z"
   },
   {
    "duration": 49,
    "start_time": "2021-10-03T15:57:00.098Z"
   },
   {
    "duration": 12,
    "start_time": "2021-10-03T15:57:01.519Z"
   },
   {
    "duration": 32,
    "start_time": "2021-10-03T15:57:16.524Z"
   },
   {
    "duration": 22,
    "start_time": "2021-10-03T15:57:28.382Z"
   },
   {
    "duration": 31,
    "start_time": "2021-10-03T15:57:39.858Z"
   },
   {
    "duration": 48,
    "start_time": "2021-10-03T15:57:43.344Z"
   },
   {
    "duration": 10,
    "start_time": "2021-10-03T15:57:43.931Z"
   },
   {
    "duration": 16,
    "start_time": "2021-10-03T15:58:15.633Z"
   },
   {
    "duration": 29,
    "start_time": "2021-10-03T16:00:39.547Z"
   },
   {
    "duration": 5,
    "start_time": "2021-10-03T16:08:50.550Z"
   },
   {
    "duration": 7516,
    "start_time": "2021-10-03T16:09:04.385Z"
   },
   {
    "duration": 30,
    "start_time": "2021-10-03T16:09:41.736Z"
   },
   {
    "duration": 5,
    "start_time": "2021-10-03T16:10:03.261Z"
   },
   {
    "duration": 410,
    "start_time": "2021-10-03T16:10:07.601Z"
   },
   {
    "duration": 331,
    "start_time": "2021-10-03T16:10:29.775Z"
   },
   {
    "duration": 34,
    "start_time": "2021-10-03T16:10:36.213Z"
   },
   {
    "duration": 436,
    "start_time": "2021-10-03T16:10:45.638Z"
   },
   {
    "duration": 12,
    "start_time": "2021-10-03T16:11:05.458Z"
   },
   {
    "duration": 5,
    "start_time": "2021-10-03T16:11:21.621Z"
   },
   {
    "duration": 323,
    "start_time": "2021-10-03T16:11:36.172Z"
   },
   {
    "duration": 75,
    "start_time": "2021-10-03T16:11:41.009Z"
   },
   {
    "duration": 358,
    "start_time": "2021-10-03T16:11:46.838Z"
   },
   {
    "duration": 36,
    "start_time": "2021-10-03T16:29:26.087Z"
   },
   {
    "duration": 51,
    "start_time": "2021-10-03T16:29:29.169Z"
   },
   {
    "duration": 11,
    "start_time": "2021-10-03T16:29:29.416Z"
   },
   {
    "duration": 16,
    "start_time": "2021-10-03T16:29:30.543Z"
   },
   {
    "duration": 8138,
    "start_time": "2021-10-03T16:29:31.666Z"
   },
   {
    "duration": 5,
    "start_time": "2021-10-03T16:30:22.014Z"
   },
   {
    "duration": 6,
    "start_time": "2021-10-03T16:30:49.562Z"
   },
   {
    "duration": 1174,
    "start_time": "2021-10-03T16:32:02.286Z"
   },
   {
    "duration": 37,
    "start_time": "2021-10-03T16:32:23.954Z"
   },
   {
    "duration": 37,
    "start_time": "2021-10-03T16:32:37.114Z"
   },
   {
    "duration": 5,
    "start_time": "2021-10-03T16:32:58.178Z"
   },
   {
    "duration": 51,
    "start_time": "2021-10-03T16:33:02.497Z"
   },
   {
    "duration": 13,
    "start_time": "2021-10-03T16:33:03.348Z"
   },
   {
    "duration": 757,
    "start_time": "2021-10-03T16:33:19.659Z"
   },
   {
    "duration": 6,
    "start_time": "2021-10-03T16:33:20.418Z"
   },
   {
    "duration": 6,
    "start_time": "2021-10-03T16:33:20.586Z"
   },
   {
    "duration": 72,
    "start_time": "2021-10-03T16:33:21.576Z"
   },
   {
    "duration": 14,
    "start_time": "2021-10-03T16:33:21.798Z"
   },
   {
    "duration": 21,
    "start_time": "2021-10-03T16:33:22.045Z"
   },
   {
    "duration": 506,
    "start_time": "2021-10-03T16:33:22.585Z"
   },
   {
    "duration": 24,
    "start_time": "2021-10-03T16:33:23.095Z"
   },
   {
    "duration": 21,
    "start_time": "2021-10-03T16:33:23.122Z"
   },
   {
    "duration": 166,
    "start_time": "2021-10-03T16:33:23.598Z"
   },
   {
    "duration": 12,
    "start_time": "2021-10-03T16:33:24.390Z"
   },
   {
    "duration": 14,
    "start_time": "2021-10-03T16:33:24.610Z"
   },
   {
    "duration": 272,
    "start_time": "2021-10-03T16:33:25.127Z"
   },
   {
    "duration": 13,
    "start_time": "2021-10-03T16:33:25.402Z"
   },
   {
    "duration": 15,
    "start_time": "2021-10-03T16:33:26.478Z"
   },
   {
    "duration": 28,
    "start_time": "2021-10-03T16:33:27.445Z"
   },
   {
    "duration": 33,
    "start_time": "2021-10-03T16:33:28.850Z"
   },
   {
    "duration": 26,
    "start_time": "2021-10-03T16:33:29.267Z"
   },
   {
    "duration": 34,
    "start_time": "2021-10-03T16:33:30.595Z"
   },
   {
    "duration": 45,
    "start_time": "2021-10-03T16:33:31.608Z"
   },
   {
    "duration": 11,
    "start_time": "2021-10-03T16:33:32.755Z"
   },
   {
    "duration": 28,
    "start_time": "2021-10-03T16:34:02.977Z"
   },
   {
    "duration": 32,
    "start_time": "2021-10-03T16:34:29.978Z"
   },
   {
    "duration": 46,
    "start_time": "2021-10-03T16:34:31.526Z"
   },
   {
    "duration": 30,
    "start_time": "2021-10-03T16:34:39.563Z"
   },
   {
    "duration": 14,
    "start_time": "2021-10-03T16:34:51.597Z"
   },
   {
    "duration": 47,
    "start_time": "2021-10-03T16:34:57.519Z"
   },
   {
    "duration": 11,
    "start_time": "2021-10-03T16:34:58.398Z"
   },
   {
    "duration": 15,
    "start_time": "2021-10-03T16:35:00.620Z"
   },
   {
    "duration": 354,
    "start_time": "2021-10-03T16:35:01.654Z"
   },
   {
    "duration": 34,
    "start_time": "2021-10-03T16:35:26.676Z"
   },
   {
    "duration": 336,
    "start_time": "2021-10-03T16:36:16.897Z"
   },
   {
    "duration": 249,
    "start_time": "2021-10-03T16:36:25.109Z"
   },
   {
    "duration": 39,
    "start_time": "2021-10-03T16:36:32.019Z"
   },
   {
    "duration": 35,
    "start_time": "2021-10-03T16:36:37.889Z"
   },
   {
    "duration": 3,
    "start_time": "2021-10-03T16:36:45.251Z"
   },
   {
    "duration": 34,
    "start_time": "2021-10-03T16:36:47.630Z"
   },
   {
    "duration": 46,
    "start_time": "2021-10-03T16:36:55.259Z"
   },
   {
    "duration": 301,
    "start_time": "2021-10-03T16:37:42.925Z"
   },
   {
    "duration": 110,
    "start_time": "2021-10-03T16:37:57.854Z"
   },
   {
    "duration": 979,
    "start_time": "2021-10-03T16:38:01.795Z"
   },
   {
    "duration": 1039,
    "start_time": "2021-10-03T16:38:15.835Z"
   },
   {
    "duration": 607,
    "start_time": "2021-10-03T16:39:14.918Z"
   },
   {
    "duration": 738,
    "start_time": "2021-10-03T16:39:24.053Z"
   },
   {
    "duration": 654,
    "start_time": "2021-10-03T16:39:45.610Z"
   },
   {
    "duration": 665,
    "start_time": "2021-10-03T16:39:56.319Z"
   },
   {
    "duration": 1032,
    "start_time": "2021-10-03T16:40:51.624Z"
   },
   {
    "duration": 1000,
    "start_time": "2021-10-03T16:41:06.070Z"
   },
   {
    "duration": 1017,
    "start_time": "2021-10-03T16:41:18.580Z"
   },
   {
    "duration": 33,
    "start_time": "2021-10-03T16:45:10.244Z"
   },
   {
    "duration": 705,
    "start_time": "2021-10-03T16:45:40.398Z"
   },
   {
    "duration": 24,
    "start_time": "2021-10-03T16:45:55.021Z"
   },
   {
    "duration": 26,
    "start_time": "2021-10-03T16:46:01.163Z"
   },
   {
    "duration": 23,
    "start_time": "2021-10-03T16:46:29.062Z"
   },
   {
    "duration": 3,
    "start_time": "2021-10-03T16:46:43.395Z"
   },
   {
    "duration": 284,
    "start_time": "2021-10-03T16:46:44.429Z"
   },
   {
    "duration": 23,
    "start_time": "2021-10-03T16:46:55.545Z"
   },
   {
    "duration": 46,
    "start_time": "2021-10-03T16:47:43.178Z"
   },
   {
    "duration": 51,
    "start_time": "2021-10-03T16:47:56.700Z"
   },
   {
    "duration": 51,
    "start_time": "2021-10-03T16:48:13.688Z"
   },
   {
    "duration": 48,
    "start_time": "2021-10-03T16:48:31.554Z"
   },
   {
    "duration": 33,
    "start_time": "2021-10-03T16:51:40.423Z"
   },
   {
    "duration": 725,
    "start_time": "2021-10-03T16:53:44.737Z"
   },
   {
    "duration": 430,
    "start_time": "2021-10-03T16:54:54.038Z"
   },
   {
    "duration": 17,
    "start_time": "2021-10-03T16:56:15.178Z"
   },
   {
    "duration": 14,
    "start_time": "2021-10-03T16:56:36.730Z"
   },
   {
    "duration": 19,
    "start_time": "2021-10-03T16:56:45.145Z"
   },
   {
    "duration": 13,
    "start_time": "2021-10-03T16:56:55.630Z"
   },
   {
    "duration": 1225,
    "start_time": "2021-10-03T17:03:47.502Z"
   },
   {
    "duration": 6,
    "start_time": "2021-10-03T17:04:15.377Z"
   },
   {
    "duration": 6,
    "start_time": "2021-10-03T17:05:14.105Z"
   },
   {
    "duration": 51,
    "start_time": "2021-10-03T17:05:58.926Z"
   },
   {
    "duration": 10,
    "start_time": "2021-10-03T17:06:01.220Z"
   },
   {
    "duration": 21,
    "start_time": "2021-10-03T17:06:03.648Z"
   },
   {
    "duration": 303,
    "start_time": "2021-10-03T17:06:27.169Z"
   },
   {
    "duration": 18,
    "start_time": "2021-10-03T17:06:29.436Z"
   },
   {
    "duration": 15,
    "start_time": "2021-10-03T17:06:30.310Z"
   },
   {
    "duration": 175,
    "start_time": "2021-10-03T17:07:11.557Z"
   },
   {
    "duration": 164,
    "start_time": "2021-10-03T17:07:30.051Z"
   },
   {
    "duration": 117,
    "start_time": "2021-10-03T17:07:38.690Z"
   },
   {
    "duration": 171,
    "start_time": "2021-10-03T17:07:46.644Z"
   },
   {
    "duration": 14,
    "start_time": "2021-10-03T17:07:48.546Z"
   },
   {
    "duration": 14,
    "start_time": "2021-10-03T17:07:49.310Z"
   },
   {
    "duration": 243,
    "start_time": "2021-10-03T17:08:13.119Z"
   },
   {
    "duration": 15,
    "start_time": "2021-10-03T17:08:15.274Z"
   },
   {
    "duration": 17,
    "start_time": "2021-10-03T17:08:16.377Z"
   },
   {
    "duration": 30,
    "start_time": "2021-10-03T17:08:26.213Z"
   },
   {
    "duration": 113,
    "start_time": "2021-10-03T17:08:47.901Z"
   },
   {
    "duration": 163,
    "start_time": "2021-10-03T17:08:51.064Z"
   },
   {
    "duration": 31,
    "start_time": "2021-10-03T17:09:05.497Z"
   },
   {
    "duration": 32,
    "start_time": "2021-10-03T17:09:59.768Z"
   },
   {
    "duration": 34,
    "start_time": "2021-10-03T17:10:07.868Z"
   },
   {
    "duration": 29,
    "start_time": "2021-10-03T17:10:30.347Z"
   },
   {
    "duration": 36,
    "start_time": "2021-10-03T17:10:58.530Z"
   },
   {
    "duration": 56,
    "start_time": "2021-10-03T17:11:07.698Z"
   },
   {
    "duration": 22,
    "start_time": "2021-10-03T17:11:26.844Z"
   },
   {
    "duration": 48,
    "start_time": "2021-10-03T17:11:53.551Z"
   },
   {
    "duration": 30,
    "start_time": "2021-10-03T17:12:11.708Z"
   },
   {
    "duration": 30,
    "start_time": "2021-10-03T17:12:18.100Z"
   },
   {
    "duration": 21,
    "start_time": "2021-10-03T17:12:21.657Z"
   },
   {
    "duration": 20,
    "start_time": "2021-10-03T17:12:27.055Z"
   },
   {
    "duration": 46,
    "start_time": "2021-10-03T17:12:40.827Z"
   },
   {
    "duration": 53,
    "start_time": "2021-10-03T17:13:00.037Z"
   },
   {
    "duration": 11,
    "start_time": "2021-10-03T17:13:05.803Z"
   },
   {
    "duration": 16,
    "start_time": "2021-10-03T17:13:06.833Z"
   },
   {
    "duration": 343,
    "start_time": "2021-10-03T17:13:12.962Z"
   },
   {
    "duration": 15,
    "start_time": "2021-10-03T17:13:25.556Z"
   },
   {
    "duration": 11,
    "start_time": "2021-10-03T17:13:28.218Z"
   },
   {
    "duration": 346,
    "start_time": "2021-10-03T17:13:42.658Z"
   },
   {
    "duration": 10,
    "start_time": "2021-10-03T17:13:43.126Z"
   },
   {
    "duration": 17,
    "start_time": "2021-10-03T17:13:44.072Z"
   },
   {
    "duration": 3,
    "start_time": "2021-10-03T17:14:57.042Z"
   },
   {
    "duration": 37,
    "start_time": "2021-10-03T17:14:59.470Z"
   },
   {
    "duration": 37,
    "start_time": "2021-10-03T17:15:03.252Z"
   },
   {
    "duration": 4,
    "start_time": "2021-10-03T17:16:22.229Z"
   },
   {
    "duration": 35,
    "start_time": "2021-10-03T17:16:23.307Z"
   },
   {
    "duration": 34,
    "start_time": "2021-10-03T17:16:28.574Z"
   },
   {
    "duration": 799,
    "start_time": "2021-10-03T17:16:55.536Z"
   },
   {
    "duration": 3,
    "start_time": "2021-10-03T17:17:10.444Z"
   },
   {
    "duration": 881,
    "start_time": "2021-10-03T17:17:12.317Z"
   },
   {
    "duration": 38,
    "start_time": "2021-10-03T17:17:57.946Z"
   },
   {
    "duration": 37,
    "start_time": "2021-10-03T17:17:59.564Z"
   },
   {
    "duration": 894,
    "start_time": "2021-10-03T17:18:55.728Z"
   },
   {
    "duration": 898,
    "start_time": "2021-10-03T17:19:02.341Z"
   },
   {
    "duration": 1490,
    "start_time": "2021-10-03T17:19:26.961Z"
   },
   {
    "duration": 1396,
    "start_time": "2021-10-03T17:19:31.249Z"
   },
   {
    "duration": 35,
    "start_time": "2021-10-03T17:19:42.614Z"
   },
   {
    "duration": 38,
    "start_time": "2021-10-03T17:19:43.671Z"
   },
   {
    "duration": 68,
    "start_time": "2021-10-03T17:20:45.619Z"
   },
   {
    "duration": 68,
    "start_time": "2021-10-03T17:21:04.294Z"
   },
   {
    "duration": 86,
    "start_time": "2021-10-03T17:22:02.772Z"
   },
   {
    "duration": 42,
    "start_time": "2021-10-03T17:24:59.567Z"
   },
   {
    "duration": 14,
    "start_time": "2021-10-03T17:25:15.352Z"
   },
   {
    "duration": 13,
    "start_time": "2021-10-03T17:27:03.892Z"
   },
   {
    "duration": 25,
    "start_time": "2021-10-03T17:38:31.659Z"
   },
   {
    "duration": 23,
    "start_time": "2021-10-03T17:39:06.496Z"
   },
   {
    "duration": 52,
    "start_time": "2021-10-03T17:39:42.100Z"
   },
   {
    "duration": 52,
    "start_time": "2021-10-03T17:39:51.652Z"
   },
   {
    "duration": 447,
    "start_time": "2021-10-03T17:39:52.504Z"
   },
   {
    "duration": 11,
    "start_time": "2021-10-03T17:39:53.968Z"
   },
   {
    "duration": 17,
    "start_time": "2021-10-03T17:39:56.644Z"
   },
   {
    "duration": 29,
    "start_time": "2021-10-03T17:40:04.074Z"
   },
   {
    "duration": 15,
    "start_time": "2021-10-03T17:40:31.204Z"
   },
   {
    "duration": 1338,
    "start_time": "2021-10-03T17:51:13.386Z"
   },
   {
    "duration": 5,
    "start_time": "2021-10-03T17:51:20.023Z"
   },
   {
    "duration": 6,
    "start_time": "2021-10-03T17:51:27.993Z"
   },
   {
    "duration": 49,
    "start_time": "2021-10-03T17:51:41.627Z"
   },
   {
    "duration": 11,
    "start_time": "2021-10-03T17:51:43.378Z"
   },
   {
    "duration": 21,
    "start_time": "2021-10-03T17:51:44.256Z"
   },
   {
    "duration": 313,
    "start_time": "2021-10-03T17:51:57.171Z"
   },
   {
    "duration": 19,
    "start_time": "2021-10-03T17:51:58.634Z"
   },
   {
    "duration": 16,
    "start_time": "2021-10-03T17:51:59.443Z"
   },
   {
    "duration": 163,
    "start_time": "2021-10-03T17:52:05.251Z"
   },
   {
    "duration": 11,
    "start_time": "2021-10-03T17:52:07.477Z"
   },
   {
    "duration": 15,
    "start_time": "2021-10-03T17:52:08.353Z"
   },
   {
    "duration": 249,
    "start_time": "2021-10-03T17:52:09.412Z"
   },
   {
    "duration": 14,
    "start_time": "2021-10-03T17:52:10.199Z"
   },
   {
    "duration": 15,
    "start_time": "2021-10-03T17:52:10.809Z"
   },
   {
    "duration": 27,
    "start_time": "2021-10-03T17:52:12.381Z"
   },
   {
    "duration": 33,
    "start_time": "2021-10-03T17:58:39.815Z"
   },
   {
    "duration": 26,
    "start_time": "2021-10-03T17:58:41.074Z"
   },
   {
    "duration": 34,
    "start_time": "2021-10-03T17:58:42.222Z"
   },
   {
    "duration": 58,
    "start_time": "2021-10-03T17:58:44.272Z"
   },
   {
    "duration": 347,
    "start_time": "2021-10-03T17:58:46.073Z"
   },
   {
    "duration": 12,
    "start_time": "2021-10-03T17:58:47.286Z"
   },
   {
    "duration": 16,
    "start_time": "2021-10-03T17:58:48.635Z"
   },
   {
    "duration": 4,
    "start_time": "2021-10-03T18:02:38.408Z"
   },
   {
    "duration": 935,
    "start_time": "2021-10-03T18:02:39.362Z"
   },
   {
    "duration": 970,
    "start_time": "2021-10-03T18:02:42.189Z"
   },
   {
    "duration": 1334,
    "start_time": "2021-10-03T18:02:45.161Z"
   },
   {
    "duration": 1392,
    "start_time": "2021-10-03T18:02:46.498Z"
   },
   {
    "duration": 37,
    "start_time": "2021-10-03T18:03:03.856Z"
   },
   {
    "duration": 37,
    "start_time": "2021-10-03T18:03:04.283Z"
   },
   {
    "duration": 487,
    "start_time": "2021-10-03T18:03:04.913Z"
   },
   {
    "duration": 67,
    "start_time": "2021-10-03T18:03:17.216Z"
   },
   {
    "duration": 42,
    "start_time": "2021-10-03T18:44:58.452Z"
   },
   {
    "duration": 6,
    "start_time": "2021-10-03T18:48:04.914Z"
   },
   {
    "duration": 16,
    "start_time": "2021-10-03T18:54:15.808Z"
   },
   {
    "duration": 13,
    "start_time": "2021-10-03T18:54:20.154Z"
   },
   {
    "duration": 14,
    "start_time": "2021-10-03T18:55:27.456Z"
   },
   {
    "duration": 14,
    "start_time": "2021-10-03T18:55:28.753Z"
   },
   {
    "duration": 1352,
    "start_time": "2021-10-03T19:01:42.167Z"
   },
   {
    "duration": 5,
    "start_time": "2021-10-03T19:01:43.522Z"
   },
   {
    "duration": 10,
    "start_time": "2021-10-03T19:01:43.530Z"
   },
   {
    "duration": 63,
    "start_time": "2021-10-03T19:01:43.543Z"
   },
   {
    "duration": 10,
    "start_time": "2021-10-03T19:01:43.609Z"
   },
   {
    "duration": 16,
    "start_time": "2021-10-03T19:01:43.621Z"
   },
   {
    "duration": 354,
    "start_time": "2021-10-03T19:01:43.640Z"
   },
   {
    "duration": 25,
    "start_time": "2021-10-03T19:01:44.000Z"
   },
   {
    "duration": 57,
    "start_time": "2021-10-03T19:01:44.028Z"
   },
   {
    "duration": 184,
    "start_time": "2021-10-03T19:01:44.087Z"
   },
   {
    "duration": 17,
    "start_time": "2021-10-03T19:01:44.273Z"
   },
   {
    "duration": 23,
    "start_time": "2021-10-03T19:01:44.293Z"
   },
   {
    "duration": 434,
    "start_time": "2021-10-03T19:01:44.319Z"
   },
   {
    "duration": 35,
    "start_time": "2021-10-03T19:01:44.757Z"
   },
   {
    "duration": 15,
    "start_time": "2021-10-03T19:01:44.795Z"
   },
   {
    "duration": 29,
    "start_time": "2021-10-03T19:01:44.812Z"
   },
   {
    "duration": 70,
    "start_time": "2021-10-03T19:01:44.844Z"
   },
   {
    "duration": 25,
    "start_time": "2021-10-03T19:01:44.916Z"
   },
   {
    "duration": 67,
    "start_time": "2021-10-03T19:01:44.944Z"
   },
   {
    "duration": 82,
    "start_time": "2021-10-03T19:01:45.013Z"
   },
   {
    "duration": 379,
    "start_time": "2021-10-03T19:01:45.097Z"
   },
   {
    "duration": 12,
    "start_time": "2021-10-03T19:01:45.482Z"
   },
   {
    "duration": 16,
    "start_time": "2021-10-03T19:01:45.499Z"
   },
   {
    "duration": 3,
    "start_time": "2021-10-03T19:01:45.519Z"
   },
   {
    "duration": 1038,
    "start_time": "2021-10-03T19:01:45.525Z"
   },
   {
    "duration": 1317,
    "start_time": "2021-10-03T19:01:46.565Z"
   },
   {
    "duration": 1405,
    "start_time": "2021-10-03T19:01:47.884Z"
   },
   {
    "duration": 1453,
    "start_time": "2021-10-03T19:01:49.292Z"
   },
   {
    "duration": 56,
    "start_time": "2021-10-03T19:01:50.748Z"
   },
   {
    "duration": 40,
    "start_time": "2021-10-03T19:01:50.806Z"
   },
   {
    "duration": 70,
    "start_time": "2021-10-03T19:01:50.883Z"
   },
   {
    "duration": 63,
    "start_time": "2021-10-03T19:01:50.955Z"
   },
   {
    "duration": 14,
    "start_time": "2021-10-03T19:01:51.021Z"
   },
   {
    "duration": 49,
    "start_time": "2021-10-03T19:01:51.038Z"
   },
   {
    "duration": 1579,
    "start_time": "2021-10-03T19:03:02.163Z"
   },
   {
    "duration": 5,
    "start_time": "2021-10-03T19:03:11.409Z"
   },
   {
    "duration": 9,
    "start_time": "2021-10-03T19:03:22.931Z"
   },
   {
    "duration": 58,
    "start_time": "2021-10-03T19:03:28.331Z"
   },
   {
    "duration": 13,
    "start_time": "2021-10-03T19:03:30.222Z"
   },
   {
    "duration": 21,
    "start_time": "2021-10-03T19:03:31.704Z"
   },
   {
    "duration": 308,
    "start_time": "2021-10-03T19:03:34.268Z"
   },
   {
    "duration": 25,
    "start_time": "2021-10-03T19:03:35.623Z"
   },
   {
    "duration": 16,
    "start_time": "2021-10-03T19:03:36.744Z"
   },
   {
    "duration": 171,
    "start_time": "2021-10-03T19:03:59.246Z"
   },
   {
    "duration": 12,
    "start_time": "2021-10-03T19:04:00.257Z"
   },
   {
    "duration": 15,
    "start_time": "2021-10-03T19:04:00.954Z"
   },
   {
    "duration": 285,
    "start_time": "2021-10-03T19:04:18.956Z"
   },
   {
    "duration": 16,
    "start_time": "2021-10-03T19:04:20.173Z"
   },
   {
    "duration": 21,
    "start_time": "2021-10-03T19:04:21.069Z"
   },
   {
    "duration": 28,
    "start_time": "2021-10-03T19:04:23.186Z"
   },
   {
    "duration": 48,
    "start_time": "2021-10-03T19:04:54.235Z"
   },
   {
    "duration": 27,
    "start_time": "2021-10-03T19:04:55.429Z"
   },
   {
    "duration": 37,
    "start_time": "2021-10-03T19:04:57.518Z"
   },
   {
    "duration": 55,
    "start_time": "2021-10-03T19:04:59.091Z"
   },
   {
    "duration": 372,
    "start_time": "2021-10-03T19:04:59.612Z"
   },
   {
    "duration": 17,
    "start_time": "2021-10-03T19:05:00.220Z"
   },
   {
    "duration": 16,
    "start_time": "2021-10-03T19:05:01.367Z"
   },
   {
    "duration": 4,
    "start_time": "2021-10-03T19:06:43.721Z"
   },
   {
    "duration": 1292,
    "start_time": "2021-10-03T19:06:43.946Z"
   },
   {
    "duration": 953,
    "start_time": "2021-10-03T19:06:45.240Z"
   },
   {
    "duration": 1396,
    "start_time": "2021-10-03T19:06:46.196Z"
   },
   {
    "duration": 1612,
    "start_time": "2021-10-03T19:06:47.595Z"
   },
   {
    "duration": 39,
    "start_time": "2021-10-03T19:06:49.209Z"
   },
   {
    "duration": 66,
    "start_time": "2021-10-03T19:06:49.251Z"
   },
   {
    "duration": 90,
    "start_time": "2021-10-03T19:06:49.320Z"
   },
   {
    "duration": 40,
    "start_time": "2021-10-03T19:08:23.354Z"
   },
   {
    "duration": 18,
    "start_time": "2021-10-03T19:08:53.014Z"
   },
   {
    "duration": 20,
    "start_time": "2021-10-03T19:08:58.545Z"
   },
   {
    "duration": 1419,
    "start_time": "2021-10-04T07:05:49.065Z"
   },
   {
    "duration": 7,
    "start_time": "2021-10-04T07:05:50.488Z"
   },
   {
    "duration": 15,
    "start_time": "2021-10-04T07:05:50.498Z"
   },
   {
    "duration": 81,
    "start_time": "2021-10-04T07:05:50.516Z"
   },
   {
    "duration": 11,
    "start_time": "2021-10-04T07:05:50.599Z"
   },
   {
    "duration": 20,
    "start_time": "2021-10-04T07:05:50.612Z"
   },
   {
    "duration": 337,
    "start_time": "2021-10-04T07:05:50.635Z"
   },
   {
    "duration": 17,
    "start_time": "2021-10-04T07:05:50.976Z"
   },
   {
    "duration": 25,
    "start_time": "2021-10-04T07:05:50.997Z"
   },
   {
    "duration": 196,
    "start_time": "2021-10-04T07:05:51.024Z"
   },
   {
    "duration": 12,
    "start_time": "2021-10-04T07:05:51.223Z"
   },
   {
    "duration": 33,
    "start_time": "2021-10-04T07:05:51.238Z"
   },
   {
    "duration": 278,
    "start_time": "2021-10-04T07:05:51.274Z"
   },
   {
    "duration": 16,
    "start_time": "2021-10-04T07:05:51.558Z"
   },
   {
    "duration": 18,
    "start_time": "2021-10-04T07:05:51.577Z"
   },
   {
    "duration": 29,
    "start_time": "2021-10-04T07:05:51.598Z"
   },
   {
    "duration": 66,
    "start_time": "2021-10-04T07:05:51.630Z"
   },
   {
    "duration": 25,
    "start_time": "2021-10-04T07:05:51.698Z"
   },
   {
    "duration": 58,
    "start_time": "2021-10-04T07:05:51.725Z"
   },
   {
    "duration": 52,
    "start_time": "2021-10-04T07:05:51.785Z"
   },
   {
    "duration": 371,
    "start_time": "2021-10-04T07:05:51.857Z"
   },
   {
    "duration": 13,
    "start_time": "2021-10-04T07:05:52.230Z"
   },
   {
    "duration": 18,
    "start_time": "2021-10-04T07:05:52.261Z"
   },
   {
    "duration": 4,
    "start_time": "2021-10-04T07:05:52.283Z"
   },
   {
    "duration": 1012,
    "start_time": "2021-10-04T07:05:52.290Z"
   },
   {
    "duration": 1060,
    "start_time": "2021-10-04T07:05:53.305Z"
   },
   {
    "duration": 1379,
    "start_time": "2021-10-04T07:05:54.368Z"
   },
   {
    "duration": 1447,
    "start_time": "2021-10-04T07:05:55.749Z"
   },
   {
    "duration": 35,
    "start_time": "2021-10-04T07:05:57.198Z"
   },
   {
    "duration": 59,
    "start_time": "2021-10-04T07:05:57.236Z"
   },
   {
    "duration": 82,
    "start_time": "2021-10-04T07:05:57.298Z"
   },
   {
    "duration": 42,
    "start_time": "2021-10-04T07:05:57.383Z"
   },
   {
    "duration": 49,
    "start_time": "2021-10-04T07:05:57.428Z"
   },
   {
    "duration": 16,
    "start_time": "2021-10-04T07:05:57.479Z"
   },
   {
    "duration": 31,
    "start_time": "2021-10-04T07:20:06.341Z"
   },
   {
    "duration": 1432,
    "start_time": "2021-10-04T09:00:42.085Z"
   },
   {
    "duration": 8,
    "start_time": "2021-10-04T09:00:45.437Z"
   },
   {
    "duration": 7,
    "start_time": "2021-10-04T09:00:46.708Z"
   },
   {
    "duration": 46,
    "start_time": "2021-10-04T09:00:48.691Z"
   },
   {
    "duration": 11,
    "start_time": "2021-10-04T09:00:49.264Z"
   },
   {
    "duration": 20,
    "start_time": "2021-10-04T09:00:50.760Z"
   },
   {
    "duration": 320,
    "start_time": "2021-10-04T09:01:56.745Z"
   },
   {
    "duration": 18,
    "start_time": "2021-10-04T09:02:09.111Z"
   },
   {
    "duration": 15,
    "start_time": "2021-10-04T09:02:09.532Z"
   },
   {
    "duration": 169,
    "start_time": "2021-10-04T09:02:13.641Z"
   },
   {
    "duration": 13,
    "start_time": "2021-10-04T09:02:14.246Z"
   },
   {
    "duration": 15,
    "start_time": "2021-10-04T09:02:14.610Z"
   },
   {
    "duration": 280,
    "start_time": "2021-10-04T09:02:19.659Z"
   },
   {
    "duration": 14,
    "start_time": "2021-10-04T09:02:20.495Z"
   },
   {
    "duration": 16,
    "start_time": "2021-10-04T09:02:21.582Z"
   },
   {
    "duration": 34,
    "start_time": "2021-10-04T09:08:29.346Z"
   },
   {
    "duration": 17,
    "start_time": "2021-10-04T09:10:23.468Z"
   },
   {
    "duration": 6,
    "start_time": "2021-10-04T09:10:33.530Z"
   },
   {
    "duration": 358,
    "start_time": "2021-10-04T09:10:38.398Z"
   },
   {
    "duration": 319,
    "start_time": "2021-10-04T09:10:43.909Z"
   },
   {
    "duration": 608,
    "start_time": "2021-10-04T09:11:24.421Z"
   },
   {
    "duration": 565,
    "start_time": "2021-10-04T09:11:30.280Z"
   },
   {
    "duration": 316,
    "start_time": "2021-10-04T09:11:33.627Z"
   },
   {
    "duration": 347,
    "start_time": "2021-10-04T09:11:36.995Z"
   },
   {
    "duration": 394,
    "start_time": "2021-10-04T09:11:41.682Z"
   },
   {
    "duration": 634,
    "start_time": "2021-10-04T09:11:46.976Z"
   },
   {
    "duration": 3,
    "start_time": "2021-10-04T09:12:22.755Z"
   },
   {
    "duration": 3,
    "start_time": "2021-10-04T09:12:43.755Z"
   },
   {
    "duration": 3,
    "start_time": "2021-10-04T09:12:54.270Z"
   },
   {
    "duration": 3,
    "start_time": "2021-10-04T09:13:24.827Z"
   },
   {
    "duration": 857,
    "start_time": "2021-10-04T09:14:28.793Z"
   },
   {
    "duration": 178,
    "start_time": "2021-10-04T09:14:50.576Z"
   },
   {
    "duration": 11,
    "start_time": "2021-10-04T09:14:52.644Z"
   },
   {
    "duration": 14,
    "start_time": "2021-10-04T09:14:53.162Z"
   },
   {
    "duration": 261,
    "start_time": "2021-10-04T09:14:58.736Z"
   },
   {
    "duration": 13,
    "start_time": "2021-10-04T09:15:00.246Z"
   },
   {
    "duration": 16,
    "start_time": "2021-10-04T09:15:01.425Z"
   },
   {
    "duration": 836,
    "start_time": "2021-10-04T09:15:34.982Z"
   },
   {
    "duration": 29,
    "start_time": "2021-10-04T09:15:45.097Z"
   },
   {
    "duration": 22,
    "start_time": "2021-10-04T09:26:52.030Z"
   },
   {
    "duration": 39,
    "start_time": "2021-10-04T09:31:12.586Z"
   },
   {
    "duration": 26,
    "start_time": "2021-10-04T09:31:13.625Z"
   },
   {
    "duration": 37,
    "start_time": "2021-10-04T09:31:15.534Z"
   },
   {
    "duration": 57,
    "start_time": "2021-10-04T09:31:49.588Z"
   },
   {
    "duration": 396,
    "start_time": "2021-10-04T09:31:52.021Z"
   },
   {
    "duration": 11,
    "start_time": "2021-10-04T09:31:53.850Z"
   },
   {
    "duration": 17,
    "start_time": "2021-10-04T09:33:28.126Z"
   },
   {
    "duration": 4,
    "start_time": "2021-10-04T09:33:30.802Z"
   },
   {
    "duration": 1024,
    "start_time": "2021-10-04T09:33:31.032Z"
   },
   {
    "duration": 980,
    "start_time": "2021-10-04T09:33:32.062Z"
   },
   {
    "duration": 1481,
    "start_time": "2021-10-04T09:33:37.630Z"
   },
   {
    "duration": 1498,
    "start_time": "2021-10-04T09:33:39.114Z"
   },
   {
    "duration": 37,
    "start_time": "2021-10-04T09:34:58.665Z"
   },
   {
    "duration": 36,
    "start_time": "2021-10-04T09:34:58.892Z"
   },
   {
    "duration": 66,
    "start_time": "2021-10-04T09:34:59.920Z"
   },
   {
    "duration": 52,
    "start_time": "2021-10-04T09:35:16.275Z"
   },
   {
    "duration": 15,
    "start_time": "2021-10-04T09:35:19.070Z"
   },
   {
    "duration": 14,
    "start_time": "2021-10-04T09:35:20.207Z"
   },
   {
    "duration": 1474,
    "start_time": "2021-10-04T09:36:19.414Z"
   },
   {
    "duration": 1403,
    "start_time": "2021-10-04T09:36:25.765Z"
   },
   {
    "duration": 1337,
    "start_time": "2021-10-04T09:37:03.707Z"
   },
   {
    "duration": 1515,
    "start_time": "2021-10-04T09:37:11.810Z"
   },
   {
    "duration": 1392,
    "start_time": "2021-10-04T09:37:31.617Z"
   },
   {
    "duration": 1377,
    "start_time": "2021-10-04T09:38:05.100Z"
   },
   {
    "duration": 1337,
    "start_time": "2021-10-04T09:38:08.113Z"
   },
   {
    "duration": 1406,
    "start_time": "2021-10-04T09:38:30.286Z"
   },
   {
    "duration": 1485,
    "start_time": "2021-10-04T09:38:36.277Z"
   },
   {
    "duration": 981,
    "start_time": "2021-10-04T09:40:52.150Z"
   },
   {
    "duration": 956,
    "start_time": "2021-10-04T09:41:33.906Z"
   },
   {
    "duration": 943,
    "start_time": "2021-10-04T09:41:36.739Z"
   },
   {
    "duration": 1483,
    "start_time": "2021-10-04T09:41:37.684Z"
   },
   {
    "duration": 1532,
    "start_time": "2021-10-04T09:41:39.170Z"
   },
   {
    "duration": 36,
    "start_time": "2021-10-04T09:45:10.967Z"
   },
   {
    "duration": 37,
    "start_time": "2021-10-04T09:45:11.261Z"
   },
   {
    "duration": 71,
    "start_time": "2021-10-04T09:45:11.967Z"
   },
   {
    "duration": 46,
    "start_time": "2021-10-04T09:45:15.117Z"
   },
   {
    "duration": 15,
    "start_time": "2021-10-04T09:45:17.804Z"
   },
   {
    "duration": 15,
    "start_time": "2021-10-04T09:45:18.891Z"
   },
   {
    "duration": 32,
    "start_time": "2021-10-04T09:55:17.508Z"
   },
   {
    "duration": 9,
    "start_time": "2021-10-04T09:55:35.533Z"
   },
   {
    "duration": 6,
    "start_time": "2021-10-04T09:55:56.950Z"
   },
   {
    "duration": 34,
    "start_time": "2021-10-04T09:57:45.755Z"
   },
   {
    "duration": 10,
    "start_time": "2021-10-04T09:57:57.365Z"
   },
   {
    "duration": 9,
    "start_time": "2021-10-04T09:58:09.713Z"
   },
   {
    "duration": 6,
    "start_time": "2021-10-04T09:58:19.055Z"
   },
   {
    "duration": 1427,
    "start_time": "2021-10-04T10:04:42.891Z"
   },
   {
    "duration": 5,
    "start_time": "2021-10-04T10:04:44.321Z"
   },
   {
    "duration": 11,
    "start_time": "2021-10-04T10:04:44.329Z"
   },
   {
    "duration": 19,
    "start_time": "2021-10-04T10:04:44.343Z"
   },
   {
    "duration": 84,
    "start_time": "2021-10-04T10:04:44.365Z"
   },
   {
    "duration": 11,
    "start_time": "2021-10-04T10:04:44.451Z"
   },
   {
    "duration": 23,
    "start_time": "2021-10-04T10:04:44.465Z"
   },
   {
    "duration": 360,
    "start_time": "2021-10-04T10:04:44.493Z"
   },
   {
    "duration": 23,
    "start_time": "2021-10-04T10:04:44.864Z"
   },
   {
    "duration": 14,
    "start_time": "2021-10-04T10:04:44.890Z"
   },
   {
    "duration": 948,
    "start_time": "2021-10-04T10:04:44.907Z"
   },
   {
    "duration": 201,
    "start_time": "2021-10-04T10:04:45.857Z"
   },
   {
    "duration": 19,
    "start_time": "2021-10-04T10:04:46.061Z"
   },
   {
    "duration": 15,
    "start_time": "2021-10-04T10:04:46.083Z"
   },
   {
    "duration": 320,
    "start_time": "2021-10-04T10:04:46.101Z"
   },
   {
    "duration": 16,
    "start_time": "2021-10-04T10:04:46.424Z"
   },
   {
    "duration": 41,
    "start_time": "2021-10-04T10:04:46.442Z"
   },
   {
    "duration": 976,
    "start_time": "2021-10-04T10:04:46.486Z"
   },
   {
    "duration": 31,
    "start_time": "2021-10-04T10:04:47.466Z"
   },
   {
    "duration": 45,
    "start_time": "2021-10-04T10:04:47.500Z"
   },
   {
    "duration": 35,
    "start_time": "2021-10-04T10:04:47.562Z"
   },
   {
    "duration": 38,
    "start_time": "2021-10-04T10:04:47.600Z"
   },
   {
    "duration": 62,
    "start_time": "2021-10-04T10:04:47.667Z"
   },
   {
    "duration": 440,
    "start_time": "2021-10-04T10:04:47.732Z"
   },
   {
    "duration": 13,
    "start_time": "2021-10-04T10:04:48.174Z"
   },
   {
    "duration": 16,
    "start_time": "2021-10-04T10:04:48.189Z"
   },
   {
    "duration": 6,
    "start_time": "2021-10-04T10:04:48.208Z"
   },
   {
    "duration": 1579,
    "start_time": "2021-10-04T10:04:48.216Z"
   },
   {
    "duration": 1189,
    "start_time": "2021-10-04T10:04:48.608Z"
   },
   {
    "duration": 1182,
    "start_time": "2021-10-04T10:04:48.616Z"
   },
   {
    "duration": 1180,
    "start_time": "2021-10-04T10:04:48.620Z"
   },
   {
    "duration": 1178,
    "start_time": "2021-10-04T10:04:48.623Z"
   },
   {
    "duration": 1176,
    "start_time": "2021-10-04T10:04:48.626Z"
   },
   {
    "duration": 1169,
    "start_time": "2021-10-04T10:04:48.634Z"
   },
   {
    "duration": 1165,
    "start_time": "2021-10-04T10:04:48.639Z"
   },
   {
    "duration": 1163,
    "start_time": "2021-10-04T10:04:48.642Z"
   },
   {
    "duration": 1159,
    "start_time": "2021-10-04T10:04:48.648Z"
   },
   {
    "duration": 1069,
    "start_time": "2021-10-04T10:05:30.857Z"
   },
   {
    "duration": 1186,
    "start_time": "2021-10-04T10:05:34.109Z"
   },
   {
    "duration": 1497,
    "start_time": "2021-10-04T10:05:39.692Z"
   },
   {
    "duration": 1405,
    "start_time": "2021-10-04T10:05:41.191Z"
   },
   {
    "duration": 1386,
    "start_time": "2021-10-04T10:06:05.536Z"
   },
   {
    "duration": 5,
    "start_time": "2021-10-04T10:06:06.925Z"
   },
   {
    "duration": 11,
    "start_time": "2021-10-04T10:06:06.933Z"
   },
   {
    "duration": 16,
    "start_time": "2021-10-04T10:06:06.947Z"
   },
   {
    "duration": 66,
    "start_time": "2021-10-04T10:06:06.965Z"
   },
   {
    "duration": 11,
    "start_time": "2021-10-04T10:06:07.033Z"
   },
   {
    "duration": 24,
    "start_time": "2021-10-04T10:06:07.046Z"
   },
   {
    "duration": 332,
    "start_time": "2021-10-04T10:06:07.074Z"
   },
   {
    "duration": 18,
    "start_time": "2021-10-04T10:06:07.409Z"
   },
   {
    "duration": 40,
    "start_time": "2021-10-04T10:06:07.429Z"
   },
   {
    "duration": 909,
    "start_time": "2021-10-04T10:06:07.471Z"
   },
   {
    "duration": 205,
    "start_time": "2021-10-04T10:06:08.382Z"
   },
   {
    "duration": 15,
    "start_time": "2021-10-04T10:06:08.590Z"
   },
   {
    "duration": 17,
    "start_time": "2021-10-04T10:06:08.607Z"
   },
   {
    "duration": 319,
    "start_time": "2021-10-04T10:06:08.626Z"
   },
   {
    "duration": 23,
    "start_time": "2021-10-04T10:06:08.948Z"
   },
   {
    "duration": 16,
    "start_time": "2021-10-04T10:06:08.974Z"
   },
   {
    "duration": 877,
    "start_time": "2021-10-04T10:06:08.992Z"
   },
   {
    "duration": 29,
    "start_time": "2021-10-04T10:06:09.872Z"
   },
   {
    "duration": 59,
    "start_time": "2021-10-04T10:06:09.904Z"
   },
   {
    "duration": 28,
    "start_time": "2021-10-04T10:06:09.967Z"
   },
   {
    "duration": 68,
    "start_time": "2021-10-04T10:06:09.999Z"
   },
   {
    "duration": 54,
    "start_time": "2021-10-04T10:06:10.071Z"
   },
   {
    "duration": 388,
    "start_time": "2021-10-04T10:06:10.128Z"
   },
   {
    "duration": 12,
    "start_time": "2021-10-04T10:06:10.518Z"
   },
   {
    "duration": 41,
    "start_time": "2021-10-04T10:06:10.532Z"
   },
   {
    "duration": 3,
    "start_time": "2021-10-04T10:06:10.576Z"
   },
   {
    "duration": 1022,
    "start_time": "2021-10-04T10:06:10.582Z"
   },
   {
    "duration": 1027,
    "start_time": "2021-10-04T10:06:11.607Z"
   },
   {
    "duration": 1592,
    "start_time": "2021-10-04T10:06:12.636Z"
   },
   {
    "duration": 1615,
    "start_time": "2021-10-04T10:06:14.231Z"
   },
   {
    "duration": 55,
    "start_time": "2021-10-04T10:06:15.848Z"
   },
   {
    "duration": 116,
    "start_time": "2021-10-04T10:06:15.905Z"
   },
   {
    "duration": 76,
    "start_time": "2021-10-04T10:06:16.024Z"
   },
   {
    "duration": 72,
    "start_time": "2021-10-04T10:06:16.103Z"
   },
   {
    "duration": 15,
    "start_time": "2021-10-04T10:06:16.177Z"
   },
   {
    "duration": 25,
    "start_time": "2021-10-04T10:06:16.195Z"
   },
   {
    "duration": 1021,
    "start_time": "2021-10-05T12:22:50.605Z"
   },
   {
    "duration": 3,
    "start_time": "2021-10-05T12:22:51.628Z"
   },
   {
    "duration": 13,
    "start_time": "2021-10-05T12:22:51.633Z"
   },
   {
    "duration": 9,
    "start_time": "2021-10-05T12:22:51.647Z"
   },
   {
    "duration": 46,
    "start_time": "2021-10-05T12:22:51.658Z"
   },
   {
    "duration": 7,
    "start_time": "2021-10-05T12:22:51.705Z"
   },
   {
    "duration": 22,
    "start_time": "2021-10-05T12:22:51.714Z"
   },
   {
    "duration": 220,
    "start_time": "2021-10-05T12:22:51.738Z"
   },
   {
    "duration": 14,
    "start_time": "2021-10-05T12:22:51.960Z"
   },
   {
    "duration": 13,
    "start_time": "2021-10-05T12:22:51.976Z"
   },
   {
    "duration": 495,
    "start_time": "2021-10-05T12:22:51.990Z"
   },
   {
    "duration": 133,
    "start_time": "2021-10-05T12:22:52.487Z"
   },
   {
    "duration": 9,
    "start_time": "2021-10-05T12:22:52.622Z"
   },
   {
    "duration": 20,
    "start_time": "2021-10-05T12:22:52.632Z"
   },
   {
    "duration": 201,
    "start_time": "2021-10-05T12:22:52.653Z"
   },
   {
    "duration": 9,
    "start_time": "2021-10-05T12:22:52.855Z"
   },
   {
    "duration": 9,
    "start_time": "2021-10-05T12:22:52.866Z"
   },
   {
    "duration": 482,
    "start_time": "2021-10-05T12:22:52.876Z"
   },
   {
    "duration": 24,
    "start_time": "2021-10-05T12:22:53.360Z"
   },
   {
    "duration": 27,
    "start_time": "2021-10-05T12:22:53.386Z"
   },
   {
    "duration": 33,
    "start_time": "2021-10-05T12:22:53.415Z"
   },
   {
    "duration": 23,
    "start_time": "2021-10-05T12:22:53.450Z"
   },
   {
    "duration": 34,
    "start_time": "2021-10-05T12:22:53.476Z"
   },
   {
    "duration": 240,
    "start_time": "2021-10-05T12:22:53.512Z"
   },
   {
    "duration": 8,
    "start_time": "2021-10-05T12:22:53.753Z"
   },
   {
    "duration": 11,
    "start_time": "2021-10-05T12:22:53.762Z"
   },
   {
    "duration": 3,
    "start_time": "2021-10-05T12:22:53.774Z"
   },
   {
    "duration": 591,
    "start_time": "2021-10-05T12:22:53.778Z"
   },
   {
    "duration": 547,
    "start_time": "2021-10-05T12:22:54.371Z"
   },
   {
    "duration": 846,
    "start_time": "2021-10-05T12:22:54.920Z"
   },
   {
    "duration": 850,
    "start_time": "2021-10-05T12:22:55.768Z"
   },
   {
    "duration": 35,
    "start_time": "2021-10-05T12:22:56.620Z"
   },
   {
    "duration": 22,
    "start_time": "2021-10-05T12:22:56.656Z"
   },
   {
    "duration": 40,
    "start_time": "2021-10-05T12:22:56.679Z"
   },
   {
    "duration": 48,
    "start_time": "2021-10-05T12:22:56.721Z"
   },
   {
    "duration": 10,
    "start_time": "2021-10-05T12:22:56.771Z"
   },
   {
    "duration": 16,
    "start_time": "2021-10-05T12:22:56.782Z"
   },
   {
    "duration": 1132,
    "start_time": "2021-10-05T12:45:13.869Z"
   },
   {
    "duration": 471,
    "start_time": "2021-10-05T12:45:36.442Z"
   },
   {
    "duration": 1256,
    "start_time": "2021-10-05T12:45:59.516Z"
   },
   {
    "duration": 1239,
    "start_time": "2021-10-05T12:46:07.762Z"
   },
   {
    "duration": 1107,
    "start_time": "2021-10-05T12:46:20.500Z"
   },
   {
    "duration": 843,
    "start_time": "2021-10-05T12:46:26.535Z"
   },
   {
    "duration": 531,
    "start_time": "2021-10-05T12:46:37.555Z"
   },
   {
    "duration": 773,
    "start_time": "2021-10-05T12:46:39.185Z"
   },
   {
    "duration": 768,
    "start_time": "2021-10-05T12:46:40.689Z"
   },
   {
    "duration": 1268,
    "start_time": "2021-10-05T12:46:42.209Z"
   },
   {
    "duration": 1036,
    "start_time": "2021-10-05T12:47:25.153Z"
   },
   {
    "duration": 800,
    "start_time": "2021-10-05T12:47:35.417Z"
   },
   {
    "duration": 910,
    "start_time": "2021-10-05T12:48:29.949Z"
   },
   {
    "duration": 871,
    "start_time": "2021-10-05T12:48:37.542Z"
   },
   {
    "duration": 775,
    "start_time": "2021-10-05T12:48:42.877Z"
   }
  ],
  "kernelspec": {
   "display_name": "Python 3",
   "language": "python",
   "name": "python3"
  },
  "language_info": {
   "codemirror_mode": {
    "name": "ipython",
    "version": 3
   },
   "file_extension": ".py",
   "mimetype": "text/x-python",
   "name": "python",
   "nbconvert_exporter": "python",
   "pygments_lexer": "ipython3",
   "version": "3.7.8"
  },
  "toc": {
   "base_numbering": 1,
   "nav_menu": {},
   "number_sections": true,
   "sideBar": true,
   "skip_h1_title": true,
   "title_cell": "Содержание",
   "title_sidebar": "Contents",
   "toc_cell": true,
   "toc_position": {
    "height": "calc(100% - 180px)",
    "left": "10px",
    "top": "150px",
    "width": "331.449px"
   },
   "toc_section_display": true,
   "toc_window_display": true
  }
 },
 "nbformat": 4,
 "nbformat_minor": 2
}
